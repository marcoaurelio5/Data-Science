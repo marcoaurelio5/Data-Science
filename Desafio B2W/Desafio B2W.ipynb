{
 "cells": [
  {
   "cell_type": "markdown",
   "metadata": {
    "heading_collapsed": true
   },
   "source": [
    "# Pergunta 01"
   ]
  },
  {
   "cell_type": "markdown",
   "metadata": {
    "hidden": true
   },
   "source": [
    "- Verifique se a variação da conversão foi estatisticamente significativa, para cada um dos estados em que houve o teste. \n",
    "\n",
    "- Para a ação de frete ser considerada bem-sucedida, o ROI do investimento em frete deve ser maior que 13, ou seja, para cada 1 real investido, deve-se ter, em contrapartida, 13 reais de retorno incremental em vendas. Com base nesta meta, avalie se o teste foi positivo ou não para cada estado.\n"
   ]
  },
  {
   "cell_type": "markdown",
   "metadata": {
    "heading_collapsed": true,
    "hidden": true
   },
   "source": [
    "## Importações"
   ]
  },
  {
   "cell_type": "code",
   "execution_count": 1,
   "metadata": {
    "hidden": true
   },
   "outputs": [],
   "source": [
    "import pandas            as pd\n",
    "import seaborn           as sns\n",
    "import matplotlib.pyplot as plt\n",
    "import scikitplot        as skplt\n",
    "import numpy             as np\n",
    "\n",
    "from sklearn.model_selection   import train_test_split, cross_validate, StratifiedKFold, RandomizedSearchCV\n",
    "from sklearn.linear_model      import LogisticRegression\n",
    "from sklearn.ensemble          import RandomForestClassifier, GradientBoostingClassifier, ExtraTreesClassifier\n",
    "from xgboost                   import XGBClassifier\n",
    "from scipy.stats               import chi2_contingency \n",
    "from sklearn.dummy             import DummyClassifier\n",
    "from sklearn.linear_model      import Lasso, RidgeClassifier\n",
    "from sklearn.metrics           import accuracy_score, precision_score, recall_score, average_precision_score, roc_auc_score\n",
    "from sklearn.ensemble          import RandomForestClassifier, GradientBoostingClassifier, ExtraTreesClassifier\n",
    "from sklearn.linear_model      import LogisticRegression\n",
    "from sklearn.model_selection   import train_test_split, StratifiedKFold, cross_validate, cross_val_predict, RandomizedSearchCV, GridSearchCV\n",
    "from sklearn.feature_selection import RFE\n",
    "from sklearn.tree              import DecisionTreeClassifier\n",
    "from sklearn.preprocessing     import RobustScaler, MinMaxScaler\n",
    "\n",
    "import warnings\n",
    "warnings.filterwarnings('ignore')"
   ]
  },
  {
   "cell_type": "markdown",
   "metadata": {
    "heading_collapsed": true,
    "hidden": true
   },
   "source": [
    "## Funções"
   ]
  },
  {
   "cell_type": "code",
   "execution_count": 2,
   "metadata": {
    "hidden": true
   },
   "outputs": [],
   "source": [
    "# Função para calculo de métricas dos Modelos com todas variavéis.\n",
    "def ml_error(model_name,modelo):\n",
    "    scores = cross_validate(modelo, X_train, y_train, cv=kfold ,scoring=('precision',\n",
    "                                                                         'accuracy',\n",
    "                                                                         'recall',\n",
    "                                                                        'roc_auc',\n",
    "                                                                        'average_precision'),return_train_score=False)\n",
    "    return pd.DataFrame({'Model_Name':model_name,\n",
    "                        'Acuracia':(scores['test_accuracy'].mean()),\n",
    "                        'Precision': (scores['test_precision'].mean()),\n",
    "                        'Recall': (scores['test_recall'].mean()),\n",
    "                        'ROC_AUC':(scores['test_roc_auc'].mean()),\n",
    "                        'Precision-Recall':(scores['test_average_precision'].mean())},index=[0])  "
   ]
  },
  {
   "cell_type": "code",
   "execution_count": 63,
   "metadata": {
    "hidden": true
   },
   "outputs": [],
   "source": [
    "# Função para calculo de métricas dos Modelos com algumas variavéis.\n",
    "def ml_error_fi(model_name,modelo):\n",
    "    scores = cross_validate(modelo, X_train_fi, y_train, cv=kfold ,scoring=('precision',\n",
    "                                                                         'accuracy',\n",
    "                                                                         'recall',\n",
    "                                                                        'roc_auc',\n",
    "                                                                        'average_precision'),return_train_score=False)\n",
    "    return pd.DataFrame({'Model_Name':model_name,\n",
    "                        'Acuracia':(scores['test_accuracy'].mean()),\n",
    "                        'Precision': (scores['test_precision'].mean()),\n",
    "                        'Recall': (scores['test_recall'].mean()),\n",
    "                        'ROC_AUC':(scores['test_roc_auc'].mean()),\n",
    "                        'Precision-Recall':(scores['test_average_precision'].mean())},index=[0]) "
   ]
  },
  {
   "cell_type": "code",
   "execution_count": 282,
   "metadata": {
    "hidden": true
   },
   "outputs": [],
   "source": [
    "xlsx = pd.ExcelFile('Desafio Data Science B2W.xlsx')\n",
    "\n",
    "df1 = pd.read_excel(xlsx, sheet_name='Descrição das Métricas')\n",
    "df2 = pd.read_excel(xlsx, sheet_name='BASE - Pergunta 1')\n",
    "df3 = pd.read_excel(xlsx, sheet_name='BASE - Pergunta 2')"
   ]
  },
  {
   "cell_type": "markdown",
   "metadata": {
    "heading_collapsed": true,
    "hidden": true
   },
   "source": [
    "## Análise Descritiva"
   ]
  },
  {
   "cell_type": "code",
   "execution_count": 5,
   "metadata": {
    "hidden": true
   },
   "outputs": [
    {
     "data": {
      "text/plain": [
       "(3220, 6)"
      ]
     },
     "execution_count": 5,
     "metadata": {},
     "output_type": "execute_result"
    }
   ],
   "source": [
    "df2.shape"
   ]
  },
  {
   "cell_type": "code",
   "execution_count": 6,
   "metadata": {
    "hidden": true
   },
   "outputs": [
    {
     "data": {
      "text/html": [
       "<div>\n",
       "<style scoped>\n",
       "    .dataframe tbody tr th:only-of-type {\n",
       "        vertical-align: middle;\n",
       "    }\n",
       "\n",
       "    .dataframe tbody tr th {\n",
       "        vertical-align: top;\n",
       "    }\n",
       "\n",
       "    .dataframe thead th {\n",
       "        text-align: right;\n",
       "    }\n",
       "</style>\n",
       "<table border=\"1\" class=\"dataframe\">\n",
       "  <thead>\n",
       "    <tr style=\"text-align: right;\">\n",
       "      <th></th>\n",
       "      <th>Grupo do Teste</th>\n",
       "      <th>Estado</th>\n",
       "      <th>Código Pedido</th>\n",
       "      <th>Receita de Produto</th>\n",
       "      <th>Receita de Frete</th>\n",
       "      <th>Despesa de Frete</th>\n",
       "    </tr>\n",
       "  </thead>\n",
       "  <tbody>\n",
       "    <tr>\n",
       "      <th>1358</th>\n",
       "      <td>B</td>\n",
       "      <td>SP</td>\n",
       "      <td>824782528411-616</td>\n",
       "      <td>951.84</td>\n",
       "      <td>9.99</td>\n",
       "      <td>31.72</td>\n",
       "    </tr>\n",
       "    <tr>\n",
       "      <th>2493</th>\n",
       "      <td>B</td>\n",
       "      <td>SP</td>\n",
       "      <td>914746377830-508</td>\n",
       "      <td>705.37</td>\n",
       "      <td>9.99</td>\n",
       "      <td>23.63</td>\n",
       "    </tr>\n",
       "    <tr>\n",
       "      <th>3200</th>\n",
       "      <td>B</td>\n",
       "      <td>RJ</td>\n",
       "      <td>920002550357-276</td>\n",
       "      <td>3878.00</td>\n",
       "      <td>9.99</td>\n",
       "      <td>30.17</td>\n",
       "    </tr>\n",
       "    <tr>\n",
       "      <th>2228</th>\n",
       "      <td>A</td>\n",
       "      <td>RJ</td>\n",
       "      <td>611650927405-375</td>\n",
       "      <td>1339.99</td>\n",
       "      <td>38.83</td>\n",
       "      <td>38.83</td>\n",
       "    </tr>\n",
       "    <tr>\n",
       "      <th>430</th>\n",
       "      <td>A</td>\n",
       "      <td>RJ</td>\n",
       "      <td>912073523696-432</td>\n",
       "      <td>672.66</td>\n",
       "      <td>10.02</td>\n",
       "      <td>10.02</td>\n",
       "    </tr>\n",
       "  </tbody>\n",
       "</table>\n",
       "</div>"
      ],
      "text/plain": [
       "     Grupo do Teste Estado     Código Pedido  Receita de Produto  \\\n",
       "1358              B     SP  824782528411-616              951.84   \n",
       "2493              B     SP  914746377830-508              705.37   \n",
       "3200              B     RJ  920002550357-276             3878.00   \n",
       "2228              A     RJ  611650927405-375             1339.99   \n",
       "430               A     RJ  912073523696-432              672.66   \n",
       "\n",
       "      Receita de Frete  Despesa de Frete  \n",
       "1358              9.99             31.72  \n",
       "2493              9.99             23.63  \n",
       "3200              9.99             30.17  \n",
       "2228             38.83             38.83  \n",
       "430              10.02             10.02  "
      ]
     },
     "execution_count": 6,
     "metadata": {},
     "output_type": "execute_result"
    }
   ],
   "source": [
    "df2.sample(5)"
   ]
  },
  {
   "cell_type": "code",
   "execution_count": 7,
   "metadata": {
    "hidden": true
   },
   "outputs": [
    {
     "data": {
      "text/html": [
       "<div>\n",
       "<style scoped>\n",
       "    .dataframe tbody tr th:only-of-type {\n",
       "        vertical-align: middle;\n",
       "    }\n",
       "\n",
       "    .dataframe tbody tr th {\n",
       "        vertical-align: top;\n",
       "    }\n",
       "\n",
       "    .dataframe thead th {\n",
       "        text-align: right;\n",
       "    }\n",
       "</style>\n",
       "<table border=\"1\" class=\"dataframe\">\n",
       "  <thead>\n",
       "    <tr style=\"text-align: right;\">\n",
       "      <th></th>\n",
       "      <th>count</th>\n",
       "      <th>mean</th>\n",
       "      <th>std</th>\n",
       "      <th>min</th>\n",
       "      <th>25%</th>\n",
       "      <th>50%</th>\n",
       "      <th>75%</th>\n",
       "      <th>max</th>\n",
       "    </tr>\n",
       "  </thead>\n",
       "  <tbody>\n",
       "    <tr>\n",
       "      <th>Receita de Produto</th>\n",
       "      <td>3220.0</td>\n",
       "      <td>1541.361950</td>\n",
       "      <td>674.256908</td>\n",
       "      <td>94.19</td>\n",
       "      <td>1129.99</td>\n",
       "      <td>1412.98</td>\n",
       "      <td>1762.9800</td>\n",
       "      <td>6999.99</td>\n",
       "    </tr>\n",
       "    <tr>\n",
       "      <th>Receita de Frete</th>\n",
       "      <td>3220.0</td>\n",
       "      <td>20.757944</td>\n",
       "      <td>12.562155</td>\n",
       "      <td>1.18</td>\n",
       "      <td>9.99</td>\n",
       "      <td>9.99</td>\n",
       "      <td>31.5925</td>\n",
       "      <td>72.39</td>\n",
       "    </tr>\n",
       "    <tr>\n",
       "      <th>Despesa de Frete</th>\n",
       "      <td>3220.0</td>\n",
       "      <td>32.905748</td>\n",
       "      <td>7.485596</td>\n",
       "      <td>1.18</td>\n",
       "      <td>27.59</td>\n",
       "      <td>32.26</td>\n",
       "      <td>38.8600</td>\n",
       "      <td>74.95</td>\n",
       "    </tr>\n",
       "  </tbody>\n",
       "</table>\n",
       "</div>"
      ],
      "text/plain": [
       "                     count         mean         std    min      25%      50%  \\\n",
       "Receita de Produto  3220.0  1541.361950  674.256908  94.19  1129.99  1412.98   \n",
       "Receita de Frete    3220.0    20.757944   12.562155   1.18     9.99     9.99   \n",
       "Despesa de Frete    3220.0    32.905748    7.485596   1.18    27.59    32.26   \n",
       "\n",
       "                          75%      max  \n",
       "Receita de Produto  1762.9800  6999.99  \n",
       "Receita de Frete      31.5925    72.39  \n",
       "Despesa de Frete      38.8600    74.95  "
      ]
     },
     "execution_count": 7,
     "metadata": {},
     "output_type": "execute_result"
    }
   ],
   "source": [
    "df2.describe().T"
   ]
  },
  {
   "cell_type": "code",
   "execution_count": 8,
   "metadata": {
    "hidden": true
   },
   "outputs": [
    {
     "data": {
      "text/plain": [
       "SP    2001\n",
       "RJ    1219\n",
       "Name: Estado, dtype: int64"
      ]
     },
     "execution_count": 8,
     "metadata": {},
     "output_type": "execute_result"
    }
   ],
   "source": [
    "# Verificação de quantos clientes por estado temos.\n",
    "df2['Estado'].value_counts()"
   ]
  },
  {
   "cell_type": "code",
   "execution_count": 360,
   "metadata": {
    "hidden": true
   },
   "outputs": [
    {
     "data": {
      "image/png": "[encoded data removed]",
      "text/plain": [
       "<Figure size 1296x288 with 2 Axes>"
      ]
     },
     "metadata": {
      "needs_background": "light"
     },
     "output_type": "display_data"
    }
   ],
   "source": [
    "plt.figure(figsize=(18,4))\n",
    "plt.subplot(1,2,1)\n",
    "sns.countplot(x='Estado', data=df2)\n",
    "\n",
    "plt.subplot(1,2,2)\n",
    "sns.countplot(x='Estado', hue='Grupo do Teste', data=df2);\n",
    "plt.savefig('media_conversao.png', format='png')\n",
    "plt.show()"
   ]
  },
  {
   "cell_type": "markdown",
   "metadata": {
    "hidden": true
   },
   "source": [
    "Conseguimos ver que as vendas para os clientes que receberam o frete fixo é maior, porém será que essa diferença é significativa?"
   ]
  },
  {
   "cell_type": "markdown",
   "metadata": {
    "heading_collapsed": true,
    "hidden": true
   },
   "source": [
    "## Quantidade de Clientes que efetuaram a compra"
   ]
  },
  {
   "cell_type": "code",
   "execution_count": 10,
   "metadata": {
    "hidden": true
   },
   "outputs": [
    {
     "name": "stdout",
     "output_type": "stream",
     "text": [
      "A Quantidade de clientes de São Paulo que efetuaram a compra com frete fixo foi: 1046\n"
     ]
    }
   ],
   "source": [
    "df_sp_grupoB = df2[(df2[\"Estado\"]==\"SP\") & (df2['Grupo do Teste'] == \"B\")]\n",
    "print (\"A Quantidade de clientes de São Paulo que efetuaram a compra com frete fixo foi:\", \n",
    "    len(df_sp_grupoB))"
   ]
  },
  {
   "cell_type": "code",
   "execution_count": 11,
   "metadata": {
    "hidden": true
   },
   "outputs": [
    {
     "name": "stdout",
     "output_type": "stream",
     "text": [
      "A Quantidade de clientes de São Paulo que efetuaram a compra com frete variável: 955\n"
     ]
    }
   ],
   "source": [
    "df_sp_grupoA = df2[(df2[\"Estado\"]==\"SP\") & (df2['Grupo do Teste'] == \"A\")]\n",
    "print (\"A Quantidade de clientes de São Paulo que efetuaram a compra com frete variável:\",len(df_sp_grupoA))"
   ]
  },
  {
   "cell_type": "code",
   "execution_count": 12,
   "metadata": {
    "hidden": true
   },
   "outputs": [
    {
     "name": "stdout",
     "output_type": "stream",
     "text": [
      "A Quantidade de clientes do Rio de Janeiro que efetuaram a compra com frete fixo foi: 661\n"
     ]
    }
   ],
   "source": [
    "df_rj_grupoB = df2[(df2[\"Estado\"]==\"RJ\") & (df2['Grupo do Teste'] == \"B\")]\n",
    "print (\"A Quantidade de clientes do Rio de Janeiro que efetuaram a compra com frete fixo foi:\",len(df_rj_grupoB))"
   ]
  },
  {
   "cell_type": "code",
   "execution_count": 13,
   "metadata": {
    "hidden": true
   },
   "outputs": [
    {
     "name": "stdout",
     "output_type": "stream",
     "text": [
      "A Quantidade de clientes do Rio de Janeiro que efetuaram a compra com frete variável foi: 558\n"
     ]
    }
   ],
   "source": [
    "df_rj_grupoA = df2[(df2[\"Estado\"]==\"RJ\") & (df2['Grupo do Teste'] == \"A\")]\n",
    "print (\"A Quantidade de clientes do Rio de Janeiro que efetuaram a compra com frete variável foi:\",len(df_rj_grupoA))"
   ]
  },
  {
   "cell_type": "code",
   "execution_count": 14,
   "metadata": {
    "hidden": true
   },
   "outputs": [
    {
     "name": "stdout",
     "output_type": "stream",
     "text": [
      "A Taxa de conversão no Rio de Janeiro para o produto A foi de:  2.1003\n",
      "A Taxa de conversão no Rio de Janeiro para o produto B foi de:  2.488\n",
      "A taxa de conversão com o frete fixo é maior 18.46 %\n"
     ]
    }
   ],
   "source": [
    "conversao_rj_a, conversao_rj_b = 558, 661\n",
    "visitas_rj_a, visitas_rj_b = 26568, 26568\n",
    "rate_rj_a, rate_rj_b = conversao_rj_a/visitas_rj_a, conversao_rj_b/visitas_rj_b\n",
    "\n",
    "\n",
    "print('A Taxa de conversão no Rio de Janeiro para o produto A foi de: ',round(rate_rj_a*100,4))\n",
    "print('A Taxa de conversão no Rio de Janeiro para o produto B foi de: ',round(rate_rj_b*100,4))\n",
    "\n",
    "print(\"A taxa de conversão com o frete fixo é maior\", round((rate_rj_b - rate_rj_a) / (rate_rj_a) * 100,2),\"%\")"
   ]
  },
  {
   "cell_type": "code",
   "execution_count": 15,
   "metadata": {
    "hidden": true
   },
   "outputs": [
    {
     "name": "stdout",
     "output_type": "stream",
     "text": [
      "A Taxa de conversão em São Paulo para o produto A foi de:  2.1241\n",
      "A Taxa de conversão em São Paulo para o produto B foi de:  2.3265\n",
      "A taxa de conversão com o frete fixo é maior 9.53 %\n"
     ]
    }
   ],
   "source": [
    "conversao_sp_a, conversao_sp_b = 955, 1046\n",
    "visitas_sp_a, visitas_sp_b = 44960, 44960\n",
    "rate_sp_a, rate_sp_b = conversao_sp_a/visitas_sp_a, conversao_sp_b/visitas_sp_b\n",
    "\n",
    "print('A Taxa de conversão em São Paulo para o produto A foi de: ',round(rate_sp_a*100,4))\n",
    "print('A Taxa de conversão em São Paulo para o produto B foi de: ',round(rate_sp_b*100,4))\n",
    "\n",
    "print(\"A taxa de conversão com o frete fixo é maior\", round((rate_sp_b - rate_sp_a) / (rate_sp_a) * 100,2),\"%\")"
   ]
  },
  {
   "cell_type": "code",
   "execution_count": 362,
   "metadata": {
    "hidden": true
   },
   "outputs": [
    {
     "data": {
      "image/png": "[encoded data removed]",
      "text/plain": [
       "<Figure size 432x288 with 1 Axes>"
      ]
     },
     "metadata": {
      "needs_background": "light"
     },
     "output_type": "display_data"
    }
   ],
   "source": [
    "aux1 = df2[(df2[\"Estado\"]==\"SP\")]\n",
    "sns.countplot(x='Grupo do Teste', data =aux1);\n",
    "plt.savefig('conversao_SP.png', format='png')\n",
    "plt.show()"
   ]
  },
  {
   "cell_type": "markdown",
   "metadata": {
    "heading_collapsed": true,
    "hidden": true
   },
   "source": [
    "## Formulação das Hipóteses"
   ]
  },
  {
   "cell_type": "markdown",
   "metadata": {
    "hidden": true
   },
   "source": [
    "- Hipótese Nula: H0. Não existe significância estatística\n",
    "- Hipótese alternativa: H1. Existe significância estatística"
   ]
  },
  {
   "cell_type": "code",
   "execution_count": 16,
   "metadata": {
    "hidden": true
   },
   "outputs": [],
   "source": [
    "# Criação de uma tabela com Valores de conversão e total de visitantes do Rio de Janeiro.\n",
    "tabela_rj = np.array([[558,26010], [661,25907]])\n",
    "tabela_sp = np.array([[955,44005], [1046,43914]])"
   ]
  },
  {
   "cell_type": "code",
   "execution_count": 17,
   "metadata": {
    "hidden": true
   },
   "outputs": [],
   "source": [
    "# Criação de alpha - Nivéis de Significância.\n",
    "# Exemplo: Um alpha de 0.05 significa que temos 95% de certeza de ser estatísticamente significante.\n",
    "alpha = [0.1, 0.05, 0.01]"
   ]
  },
  {
   "cell_type": "code",
   "execution_count": 18,
   "metadata": {
    "hidden": true
   },
   "outputs": [
    {
     "name": "stdout",
     "output_type": "stream",
     "text": [
      "O p_value para o Rio de Janeiro é: 0.0028402036030079165\n"
     ]
    }
   ],
   "source": [
    "# Usando o Chi2 para descobrir o P_Value.\n",
    "_, p_rj, _, _ = chi2_contingency(tabela_rj, correction=False)\n",
    "print(\"O p_value para o Rio de Janeiro é:\", p_rj)"
   ]
  },
  {
   "cell_type": "code",
   "execution_count": 19,
   "metadata": {
    "hidden": true
   },
   "outputs": [
    {
     "name": "stdout",
     "output_type": "stream",
     "text": [
      "O p_value para São Paulo é: 0.039654189205918254\n"
     ]
    }
   ],
   "source": [
    "_, p_sp, _, _ = chi2_contingency(tabela_sp, correction=False)\n",
    "print(\"O p_value para São Paulo é:\", p_sp)"
   ]
  },
  {
   "cell_type": "code",
   "execution_count": 20,
   "metadata": {
    "hidden": true
   },
   "outputs": [
    {
     "name": "stdout",
     "output_type": "stream",
     "text": [
      "Rejeite a Hipótese Nula para:  0.1 %\n",
      "Rejeite a Hipótese Nula para:  0.05 %\n",
      "Rejeite a Hipótese Nula para:  0.01 %\n"
     ]
    }
   ],
   "source": [
    "for i in alpha:\n",
    "    if i >= p_rj:\n",
    "        print(\"Rejeite a Hipótese Nula para: \",i,\"%\")\n",
    "    else:\n",
    "        print(\"Aceite a Hipótese Nula para: \",i,\"%\")"
   ]
  },
  {
   "cell_type": "markdown",
   "metadata": {
    "hidden": true
   },
   "source": [
    "**Rejeitamos a hipótese nula para todos os níveis de significância: Podemos afirmar com 99% de certeza que existe significância estatística de que o frete fixo é melhor do que o frete variável no Rio de Janeiro.**"
   ]
  },
  {
   "cell_type": "code",
   "execution_count": 21,
   "metadata": {
    "hidden": true
   },
   "outputs": [
    {
     "name": "stdout",
     "output_type": "stream",
     "text": [
      "Rejeite a Hipótese Nula para:  0.1 %\n",
      "Rejeite a Hipótese Nula para:  0.05 %\n",
      "Aceite a Hipótese Nula para:  0.01 %\n"
     ]
    }
   ],
   "source": [
    "for i in alpha:\n",
    "    if i >= p_sp:\n",
    "        print(\"Rejeite a Hipótese Nula para: \",i,\"%\")\n",
    "    else:\n",
    "        print(\"Aceite a Hipótese Nula para: \",i,\"%\")"
   ]
  },
  {
   "cell_type": "markdown",
   "metadata": {
    "hidden": true
   },
   "source": [
    "**Rejeitamos a hipótese nula para 0.1 e 0.05, porém aceitamos para 0.01: Isso significa que podemos afirmar com 90% e 95% de certeza que existe significância estatística de que o frete fixo é melhor do que o frete variável em São Paulo, Porém não conseguimos afirmar com 99% de certeza.**"
   ]
  },
  {
   "cell_type": "markdown",
   "metadata": {
    "heading_collapsed": true,
    "hidden": true
   },
   "source": [
    "## ROI"
   ]
  },
  {
   "cell_type": "code",
   "execution_count": 22,
   "metadata": {
    "hidden": true
   },
   "outputs": [
    {
     "name": "stdout",
     "output_type": "stream",
     "text": [
      "O Roi de São Paulo é: R$ 73.96\n"
     ]
    }
   ],
   "source": [
    "investimento_sp = df_sp_grupoB[\"Despesa de Frete\"].sum()-df_sp_grupoB['Receita de Frete'].sum()\n",
    "total_receita_produto_sp = df_sp_grupoB[\"Receita de Produto\"].sum()\n",
    "\n",
    "roi_sp = total_receita_produto_sp/investimento_sp\n",
    "print(\"O Roi de São Paulo é: R$\", roi_sp.round(2))"
   ]
  },
  {
   "cell_type": "code",
   "execution_count": 23,
   "metadata": {
    "hidden": true
   },
   "outputs": [
    {
     "name": "stdout",
     "output_type": "stream",
     "text": [
      "O Roi do Rio de Janeiro é: R$ 63.88\n"
     ]
    }
   ],
   "source": [
    "investimento_rj = df_rj_grupoB[\"Despesa de Frete\"].sum()-df_rj_grupoB['Receita de Frete'].sum()\n",
    "total_receita_produto_rj = df_rj_grupoB[\"Receita de Produto\"].sum()\n",
    "\n",
    "roi_rj = total_receita_produto_rj/investimento_rj\n",
    "print(\"O Roi do Rio de Janeiro é: R$\", roi_rj.round(2))"
   ]
  },
  {
   "cell_type": "markdown",
   "metadata": {
    "hidden": true
   },
   "source": [
    "**O teste se mostrou positivo para ambos estados pois o Roi foi superior a 13 nos dois estados.**"
   ]
  },
  {
   "cell_type": "markdown",
   "metadata": {
    "heading_collapsed": true
   },
   "source": [
    "# Pergunta 02"
   ]
  },
  {
   "cell_type": "markdown",
   "metadata": {
    "hidden": true
   },
   "source": [
    "**Pergunta 02**\n",
    "\n",
    "Identifique as variáveis que melhor explicam a probabilidade de o cliente fazer uma nova. Além disso, ordene os clientes da maior para menor probabilidade de fazer uma nova compra. Que ações poderiam ser feitas, com base nessas informações, visando a gerar valor ao negócio?"
   ]
  },
  {
   "cell_type": "markdown",
   "metadata": {
    "heading_collapsed": true,
    "hidden": true
   },
   "source": [
    "## Análise descritiva"
   ]
  },
  {
   "cell_type": "code",
   "execution_count": 283,
   "metadata": {
    "hidden": true
   },
   "outputs": [
    {
     "data": {
      "text/html": [
       "<div>\n",
       "<style scoped>\n",
       "    .dataframe tbody tr th:only-of-type {\n",
       "        vertical-align: middle;\n",
       "    }\n",
       "\n",
       "    .dataframe tbody tr th {\n",
       "        vertical-align: top;\n",
       "    }\n",
       "\n",
       "    .dataframe thead th {\n",
       "        text-align: right;\n",
       "    }\n",
       "</style>\n",
       "<table border=\"1\" class=\"dataframe\">\n",
       "  <thead>\n",
       "    <tr style=\"text-align: right;\">\n",
       "      <th></th>\n",
       "      <th>id_cliente_hash</th>\n",
       "      <th>QTD_PED_6M</th>\n",
       "      <th>QTD_PED_3M</th>\n",
       "      <th>QTD_PED_1M</th>\n",
       "      <th>APP_6M</th>\n",
       "      <th>MARKETPLACE_6M</th>\n",
       "      <th>TOP3_DEPTOS_6M</th>\n",
       "      <th>TIPO_PAG_MAIS_USADO_6M</th>\n",
       "      <th>C_CUPOM</th>\n",
       "      <th>C_APP</th>\n",
       "      <th>C_TIPO_PAGAMENTO</th>\n",
       "      <th>C_MARKETPLACE</th>\n",
       "      <th>C_DEPTO</th>\n",
       "      <th>F_RECOMPROU</th>\n",
       "    </tr>\n",
       "  </thead>\n",
       "  <tbody>\n",
       "    <tr>\n",
       "      <th>0</th>\n",
       "      <td>-9222945220233620480</td>\n",
       "      <td>1.0</td>\n",
       "      <td>1.0</td>\n",
       "      <td>0.0</td>\n",
       "      <td>0.0</td>\n",
       "      <td>1.0</td>\n",
       "      <td>0.0</td>\n",
       "      <td>PAG5</td>\n",
       "      <td>0</td>\n",
       "      <td>0</td>\n",
       "      <td>PAG5</td>\n",
       "      <td>0</td>\n",
       "      <td>TOP_4_6</td>\n",
       "      <td>1</td>\n",
       "    </tr>\n",
       "    <tr>\n",
       "      <th>1</th>\n",
       "      <td>-9222163333197210624</td>\n",
       "      <td>NaN</td>\n",
       "      <td>NaN</td>\n",
       "      <td>NaN</td>\n",
       "      <td>NaN</td>\n",
       "      <td>NaN</td>\n",
       "      <td>NaN</td>\n",
       "      <td>NaN</td>\n",
       "      <td>0</td>\n",
       "      <td>0</td>\n",
       "      <td>PAG5</td>\n",
       "      <td>0</td>\n",
       "      <td>OUTROS</td>\n",
       "      <td>1</td>\n",
       "    </tr>\n",
       "    <tr>\n",
       "      <th>2</th>\n",
       "      <td>-9221774094767413248</td>\n",
       "      <td>NaN</td>\n",
       "      <td>NaN</td>\n",
       "      <td>NaN</td>\n",
       "      <td>NaN</td>\n",
       "      <td>NaN</td>\n",
       "      <td>NaN</td>\n",
       "      <td>NaN</td>\n",
       "      <td>0</td>\n",
       "      <td>0</td>\n",
       "      <td>PAG5</td>\n",
       "      <td>0</td>\n",
       "      <td>TOP_1_3</td>\n",
       "      <td>0</td>\n",
       "    </tr>\n",
       "    <tr>\n",
       "      <th>3</th>\n",
       "      <td>-9221309699803005952</td>\n",
       "      <td>NaN</td>\n",
       "      <td>NaN</td>\n",
       "      <td>NaN</td>\n",
       "      <td>NaN</td>\n",
       "      <td>NaN</td>\n",
       "      <td>NaN</td>\n",
       "      <td>NaN</td>\n",
       "      <td>0</td>\n",
       "      <td>0</td>\n",
       "      <td>PAG5</td>\n",
       "      <td>0</td>\n",
       "      <td>OUTROS</td>\n",
       "      <td>1</td>\n",
       "    </tr>\n",
       "    <tr>\n",
       "      <th>4</th>\n",
       "      <td>-9218185772096892928</td>\n",
       "      <td>1.0</td>\n",
       "      <td>0.0</td>\n",
       "      <td>0.0</td>\n",
       "      <td>0.0</td>\n",
       "      <td>0.0</td>\n",
       "      <td>0.0</td>\n",
       "      <td>PAG5</td>\n",
       "      <td>0</td>\n",
       "      <td>0</td>\n",
       "      <td>PAG5</td>\n",
       "      <td>0</td>\n",
       "      <td>TOP_1_3</td>\n",
       "      <td>1</td>\n",
       "    </tr>\n",
       "  </tbody>\n",
       "</table>\n",
       "</div>"
      ],
      "text/plain": [
       "       id_cliente_hash  QTD_PED_6M  QTD_PED_3M  QTD_PED_1M  APP_6M  \\\n",
       "0 -9222945220233620480         1.0         1.0         0.0     0.0   \n",
       "1 -9222163333197210624         NaN         NaN         NaN     NaN   \n",
       "2 -9221774094767413248         NaN         NaN         NaN     NaN   \n",
       "3 -9221309699803005952         NaN         NaN         NaN     NaN   \n",
       "4 -9218185772096892928         1.0         0.0         0.0     0.0   \n",
       "\n",
       "   MARKETPLACE_6M  TOP3_DEPTOS_6M TIPO_PAG_MAIS_USADO_6M  C_CUPOM  C_APP  \\\n",
       "0             1.0             0.0                   PAG5        0      0   \n",
       "1             NaN             NaN                    NaN        0      0   \n",
       "2             NaN             NaN                    NaN        0      0   \n",
       "3             NaN             NaN                    NaN        0      0   \n",
       "4             0.0             0.0                   PAG5        0      0   \n",
       "\n",
       "  C_TIPO_PAGAMENTO  C_MARKETPLACE  C_DEPTO  F_RECOMPROU  \n",
       "0             PAG5              0  TOP_4_6            1  \n",
       "1             PAG5              0   OUTROS            1  \n",
       "2             PAG5              0  TOP_1_3            0  \n",
       "3             PAG5              0   OUTROS            1  \n",
       "4             PAG5              0  TOP_1_3            1  "
      ]
     },
     "execution_count": 283,
     "metadata": {},
     "output_type": "execute_result"
    }
   ],
   "source": [
    "df3.head()"
   ]
  },
  {
   "cell_type": "code",
   "execution_count": 284,
   "metadata": {
    "hidden": true
   },
   "outputs": [
    {
     "data": {
      "text/plain": [
       "(21773, 14)"
      ]
     },
     "execution_count": 284,
     "metadata": {},
     "output_type": "execute_result"
    }
   ],
   "source": [
    "df3.shape"
   ]
  },
  {
   "cell_type": "code",
   "execution_count": 285,
   "metadata": {
    "hidden": true
   },
   "outputs": [
    {
     "data": {
      "text/plain": [
       "id_cliente_hash               0\n",
       "QTD_PED_6M                14734\n",
       "QTD_PED_3M                14734\n",
       "QTD_PED_1M                14734\n",
       "APP_6M                    14734\n",
       "MARKETPLACE_6M            14734\n",
       "TOP3_DEPTOS_6M            14734\n",
       "TIPO_PAG_MAIS_USADO_6M    14734\n",
       "C_CUPOM                       0\n",
       "C_APP                         0\n",
       "C_TIPO_PAGAMENTO              0\n",
       "C_MARKETPLACE                 0\n",
       "C_DEPTO                       0\n",
       "F_RECOMPROU                   0\n",
       "dtype: int64"
      ]
     },
     "execution_count": 285,
     "metadata": {},
     "output_type": "execute_result"
    }
   ],
   "source": [
    "df3.isnull().sum()"
   ]
  },
  {
   "cell_type": "markdown",
   "metadata": {
    "hidden": true
   },
   "source": [
    "AS colunas \"QTD_PED_6M\", \"QTD_PED_3M\", \"QTD_PED_1M\", \"APP_6M\", \"MARKETPLACE_6M\", \"TOP3_DEPTOS_6M\", \"TIPO_PAG_MAIS_USADO_6M\" possuem mais de 67% de dados faltantes.\n",
    "\n",
    "De acordo com o arquivo de apoio, esses dados faltantes são de clientes que não fizeram compras nos últimos 6 meses.\n",
    "\n",
    "Vou preencher esses dados faltantes com o número 0."
   ]
  },
  {
   "cell_type": "code",
   "execution_count": 286,
   "metadata": {
    "hidden": true
   },
   "outputs": [],
   "source": [
    "# Preenchendo dados faltantes com 0.\n",
    "df3.fillna(0, inplace=True)"
   ]
  },
  {
   "cell_type": "code",
   "execution_count": 287,
   "metadata": {
    "hidden": true
   },
   "outputs": [
    {
     "data": {
      "text/html": [
       "<div>\n",
       "<style scoped>\n",
       "    .dataframe tbody tr th:only-of-type {\n",
       "        vertical-align: middle;\n",
       "    }\n",
       "\n",
       "    .dataframe tbody tr th {\n",
       "        vertical-align: top;\n",
       "    }\n",
       "\n",
       "    .dataframe thead th {\n",
       "        text-align: right;\n",
       "    }\n",
       "</style>\n",
       "<table border=\"1\" class=\"dataframe\">\n",
       "  <thead>\n",
       "    <tr style=\"text-align: right;\">\n",
       "      <th></th>\n",
       "      <th>count</th>\n",
       "      <th>mean</th>\n",
       "      <th>std</th>\n",
       "      <th>min</th>\n",
       "      <th>25%</th>\n",
       "      <th>50%</th>\n",
       "      <th>75%</th>\n",
       "      <th>max</th>\n",
       "    </tr>\n",
       "  </thead>\n",
       "  <tbody>\n",
       "    <tr>\n",
       "      <th>id_cliente_hash</th>\n",
       "      <td>21773.0</td>\n",
       "      <td>3.736008e+15</td>\n",
       "      <td>5.331059e+18</td>\n",
       "      <td>-9.222945e+18</td>\n",
       "      <td>-4.613682e+18</td>\n",
       "      <td>2.728040e+16</td>\n",
       "      <td>4.645679e+18</td>\n",
       "      <td>9.222632e+18</td>\n",
       "    </tr>\n",
       "    <tr>\n",
       "      <th>QTD_PED_6M</th>\n",
       "      <td>21773.0</td>\n",
       "      <td>8.500436e-01</td>\n",
       "      <td>2.253005e+00</td>\n",
       "      <td>0.000000e+00</td>\n",
       "      <td>0.000000e+00</td>\n",
       "      <td>0.000000e+00</td>\n",
       "      <td>1.000000e+00</td>\n",
       "      <td>7.600000e+01</td>\n",
       "    </tr>\n",
       "    <tr>\n",
       "      <th>QTD_PED_3M</th>\n",
       "      <td>21773.0</td>\n",
       "      <td>4.614890e-01</td>\n",
       "      <td>1.333354e+00</td>\n",
       "      <td>0.000000e+00</td>\n",
       "      <td>0.000000e+00</td>\n",
       "      <td>0.000000e+00</td>\n",
       "      <td>0.000000e+00</td>\n",
       "      <td>4.200000e+01</td>\n",
       "    </tr>\n",
       "    <tr>\n",
       "      <th>QTD_PED_1M</th>\n",
       "      <td>21773.0</td>\n",
       "      <td>1.844946e-01</td>\n",
       "      <td>6.195082e-01</td>\n",
       "      <td>0.000000e+00</td>\n",
       "      <td>0.000000e+00</td>\n",
       "      <td>0.000000e+00</td>\n",
       "      <td>0.000000e+00</td>\n",
       "      <td>1.300000e+01</td>\n",
       "    </tr>\n",
       "    <tr>\n",
       "      <th>APP_6M</th>\n",
       "      <td>21773.0</td>\n",
       "      <td>1.827952e-02</td>\n",
       "      <td>1.339634e-01</td>\n",
       "      <td>0.000000e+00</td>\n",
       "      <td>0.000000e+00</td>\n",
       "      <td>0.000000e+00</td>\n",
       "      <td>0.000000e+00</td>\n",
       "      <td>1.000000e+00</td>\n",
       "    </tr>\n",
       "    <tr>\n",
       "      <th>MARKETPLACE_6M</th>\n",
       "      <td>21773.0</td>\n",
       "      <td>5.332292e-02</td>\n",
       "      <td>2.246818e-01</td>\n",
       "      <td>0.000000e+00</td>\n",
       "      <td>0.000000e+00</td>\n",
       "      <td>0.000000e+00</td>\n",
       "      <td>0.000000e+00</td>\n",
       "      <td>1.000000e+00</td>\n",
       "    </tr>\n",
       "    <tr>\n",
       "      <th>TOP3_DEPTOS_6M</th>\n",
       "      <td>21773.0</td>\n",
       "      <td>7.830800e-02</td>\n",
       "      <td>2.686618e-01</td>\n",
       "      <td>0.000000e+00</td>\n",
       "      <td>0.000000e+00</td>\n",
       "      <td>0.000000e+00</td>\n",
       "      <td>0.000000e+00</td>\n",
       "      <td>1.000000e+00</td>\n",
       "    </tr>\n",
       "    <tr>\n",
       "      <th>C_CUPOM</th>\n",
       "      <td>21773.0</td>\n",
       "      <td>5.061314e-02</td>\n",
       "      <td>2.192115e-01</td>\n",
       "      <td>0.000000e+00</td>\n",
       "      <td>0.000000e+00</td>\n",
       "      <td>0.000000e+00</td>\n",
       "      <td>0.000000e+00</td>\n",
       "      <td>1.000000e+00</td>\n",
       "    </tr>\n",
       "    <tr>\n",
       "      <th>C_APP</th>\n",
       "      <td>21773.0</td>\n",
       "      <td>2.691407e-02</td>\n",
       "      <td>1.618360e-01</td>\n",
       "      <td>0.000000e+00</td>\n",
       "      <td>0.000000e+00</td>\n",
       "      <td>0.000000e+00</td>\n",
       "      <td>0.000000e+00</td>\n",
       "      <td>1.000000e+00</td>\n",
       "    </tr>\n",
       "    <tr>\n",
       "      <th>C_MARKETPLACE</th>\n",
       "      <td>21773.0</td>\n",
       "      <td>1.368208e-01</td>\n",
       "      <td>3.436660e-01</td>\n",
       "      <td>0.000000e+00</td>\n",
       "      <td>0.000000e+00</td>\n",
       "      <td>0.000000e+00</td>\n",
       "      <td>0.000000e+00</td>\n",
       "      <td>1.000000e+00</td>\n",
       "    </tr>\n",
       "    <tr>\n",
       "      <th>F_RECOMPROU</th>\n",
       "      <td>21773.0</td>\n",
       "      <td>4.720985e-01</td>\n",
       "      <td>4.992324e-01</td>\n",
       "      <td>0.000000e+00</td>\n",
       "      <td>0.000000e+00</td>\n",
       "      <td>0.000000e+00</td>\n",
       "      <td>1.000000e+00</td>\n",
       "      <td>1.000000e+00</td>\n",
       "    </tr>\n",
       "  </tbody>\n",
       "</table>\n",
       "</div>"
      ],
      "text/plain": [
       "                   count          mean           std           min  \\\n",
       "id_cliente_hash  21773.0  3.736008e+15  5.331059e+18 -9.222945e+18   \n",
       "QTD_PED_6M       21773.0  8.500436e-01  2.253005e+00  0.000000e+00   \n",
       "QTD_PED_3M       21773.0  4.614890e-01  1.333354e+00  0.000000e+00   \n",
       "QTD_PED_1M       21773.0  1.844946e-01  6.195082e-01  0.000000e+00   \n",
       "APP_6M           21773.0  1.827952e-02  1.339634e-01  0.000000e+00   \n",
       "MARKETPLACE_6M   21773.0  5.332292e-02  2.246818e-01  0.000000e+00   \n",
       "TOP3_DEPTOS_6M   21773.0  7.830800e-02  2.686618e-01  0.000000e+00   \n",
       "C_CUPOM          21773.0  5.061314e-02  2.192115e-01  0.000000e+00   \n",
       "C_APP            21773.0  2.691407e-02  1.618360e-01  0.000000e+00   \n",
       "C_MARKETPLACE    21773.0  1.368208e-01  3.436660e-01  0.000000e+00   \n",
       "F_RECOMPROU      21773.0  4.720985e-01  4.992324e-01  0.000000e+00   \n",
       "\n",
       "                          25%           50%           75%           max  \n",
       "id_cliente_hash -4.613682e+18  2.728040e+16  4.645679e+18  9.222632e+18  \n",
       "QTD_PED_6M       0.000000e+00  0.000000e+00  1.000000e+00  7.600000e+01  \n",
       "QTD_PED_3M       0.000000e+00  0.000000e+00  0.000000e+00  4.200000e+01  \n",
       "QTD_PED_1M       0.000000e+00  0.000000e+00  0.000000e+00  1.300000e+01  \n",
       "APP_6M           0.000000e+00  0.000000e+00  0.000000e+00  1.000000e+00  \n",
       "MARKETPLACE_6M   0.000000e+00  0.000000e+00  0.000000e+00  1.000000e+00  \n",
       "TOP3_DEPTOS_6M   0.000000e+00  0.000000e+00  0.000000e+00  1.000000e+00  \n",
       "C_CUPOM          0.000000e+00  0.000000e+00  0.000000e+00  1.000000e+00  \n",
       "C_APP            0.000000e+00  0.000000e+00  0.000000e+00  1.000000e+00  \n",
       "C_MARKETPLACE    0.000000e+00  0.000000e+00  0.000000e+00  1.000000e+00  \n",
       "F_RECOMPROU      0.000000e+00  0.000000e+00  1.000000e+00  1.000000e+00  "
      ]
     },
     "execution_count": 287,
     "metadata": {},
     "output_type": "execute_result"
    }
   ],
   "source": [
    "df3.describe().T"
   ]
  },
  {
   "cell_type": "code",
   "execution_count": 288,
   "metadata": {
    "hidden": true
   },
   "outputs": [
    {
     "name": "stdout",
     "output_type": "stream",
     "text": [
      "<class 'pandas.core.frame.DataFrame'>\n",
      "RangeIndex: 21773 entries, 0 to 21772\n",
      "Data columns (total 14 columns):\n",
      " #   Column                  Non-Null Count  Dtype  \n",
      "---  ------                  --------------  -----  \n",
      " 0   id_cliente_hash         21773 non-null  int64  \n",
      " 1   QTD_PED_6M              21773 non-null  float64\n",
      " 2   QTD_PED_3M              21773 non-null  float64\n",
      " 3   QTD_PED_1M              21773 non-null  float64\n",
      " 4   APP_6M                  21773 non-null  float64\n",
      " 5   MARKETPLACE_6M          21773 non-null  float64\n",
      " 6   TOP3_DEPTOS_6M          21773 non-null  float64\n",
      " 7   TIPO_PAG_MAIS_USADO_6M  21773 non-null  object \n",
      " 8   C_CUPOM                 21773 non-null  int64  \n",
      " 9   C_APP                   21773 non-null  int64  \n",
      " 10  C_TIPO_PAGAMENTO        21773 non-null  object \n",
      " 11  C_MARKETPLACE           21773 non-null  int64  \n",
      " 12  C_DEPTO                 21773 non-null  object \n",
      " 13  F_RECOMPROU             21773 non-null  int64  \n",
      "dtypes: float64(6), int64(5), object(3)\n",
      "memory usage: 2.3+ MB\n"
     ]
    }
   ],
   "source": [
    "# Não existe mais dados faltantes(Non-Null Count)\n",
    "df3.info()"
   ]
  },
  {
   "cell_type": "markdown",
   "metadata": {
    "heading_collapsed": true,
    "hidden": true
   },
   "source": [
    "## Feature Engineering"
   ]
  },
  {
   "cell_type": "code",
   "execution_count": 289,
   "metadata": {
    "hidden": true
   },
   "outputs": [],
   "source": [
    "df3['diferentes_formas_compra_6meses'] = df3['APP_6M']+df3['MARKETPLACE_6M']+df3['TOP3_DEPTOS_6M']\n",
    "\n",
    "df3['diferentes_formas_compra_1mes'] = df3['C_APP']+df3['C_MARKETPLACE']"
   ]
  },
  {
   "cell_type": "code",
   "execution_count": 290,
   "metadata": {
    "hidden": true
   },
   "outputs": [],
   "source": [
    "# Existem 3 colunas com dados categóricos:\n",
    "df_cat_col = df3.select_dtypes(include='object')\n",
    "df_num_col = df3.select_dtypes(exclude='object')"
   ]
  },
  {
   "cell_type": "markdown",
   "metadata": {
    "heading_collapsed": true,
    "hidden": true
   },
   "source": [
    "## Análise Exploratória"
   ]
  },
  {
   "cell_type": "code",
   "execution_count": 291,
   "metadata": {
    "hidden": true
   },
   "outputs": [
    {
     "data": {
      "image/png": "[encoded data removed]",
      "text/plain": [
       "<Figure size 1296x432 with 3 Axes>"
      ]
     },
     "metadata": {
      "needs_background": "light"
     },
     "output_type": "display_data"
    }
   ],
   "source": [
    "plt.figure(figsize=(18,6))\n",
    "# Gráfico do tipo de pagamento usado no último pedido.\n",
    "plt.subplot(1,3,1)\n",
    "sns.countplot(x='C_TIPO_PAGAMENTO', data=df_cat_col);\n",
    "plt.xlabel('Tipo de pagamento usado no último pedido'); plt.ylabel(\"Total\");\n",
    "\n",
    "# Gráfico do tipo de pagamento mais usado nos últimos 6 meses.\n",
    "plt.subplot(1,3,2)\n",
    "aux1 = df_cat_col[(df_cat_col['TIPO_PAG_MAIS_USADO_6M']!=0)]\n",
    "sns.countplot(x='TIPO_PAG_MAIS_USADO_6M', data=aux1);\n",
    "plt.xlabel('Tipo de pagamento mais usado nos últimos 6 meses'); plt.ylabel(\"Total\");\n",
    "\n",
    "# Departamento comprado no último pedido do cliente\n",
    "plt.subplot(1,3,3)\n",
    "sns.countplot(x='C_DEPTO', data=df_cat_col);\n",
    "plt.xlabel('Departamento comprado no último pedido'); plt.ylabel(\"Total\");"
   ]
  },
  {
   "cell_type": "markdown",
   "metadata": {
    "hidden": true
   },
   "source": [
    "O tipo de pagamento mais usado é o PAG5"
   ]
  },
  {
   "cell_type": "code",
   "execution_count": 293,
   "metadata": {
    "hidden": true
   },
   "outputs": [
    {
     "data": {
      "image/png": "[encoded data removed]",
      "text/plain": [
       "<Figure size 1080x1080 with 16 Axes>"
      ]
     },
     "metadata": {
      "needs_background": "light"
     },
     "output_type": "display_data"
    }
   ],
   "source": [
    "fig = plt.figure(figsize=(15,15))\n",
    "ax = fig.gca()\n",
    "df3.hist(ax=ax);"
   ]
  },
  {
   "cell_type": "code",
   "execution_count": 294,
   "metadata": {
    "hidden": true
   },
   "outputs": [
    {
     "data": {
      "text/plain": [
       "Index(['id_cliente_hash', 'QTD_PED_6M', 'QTD_PED_3M', 'QTD_PED_1M', 'APP_6M',\n",
       "       'MARKETPLACE_6M', 'TOP3_DEPTOS_6M', 'TIPO_PAG_MAIS_USADO_6M', 'C_CUPOM',\n",
       "       'C_APP', 'C_TIPO_PAGAMENTO', 'C_MARKETPLACE', 'C_DEPTO', 'F_RECOMPROU',\n",
       "       'diferentes_formas_compra_6meses', 'diferentes_formas_compra_1mes'],\n",
       "      dtype='object')"
      ]
     },
     "execution_count": 294,
     "metadata": {},
     "output_type": "execute_result"
    }
   ],
   "source": [
    "df3.columns"
   ]
  },
  {
   "cell_type": "code",
   "execution_count": 363,
   "metadata": {
    "hidden": true
   },
   "outputs": [
    {
     "data": {
      "image/png": "[encoded data removed]",
      "text/plain": [
       "<Figure size 1584x864 with 8 Axes>"
      ]
     },
     "metadata": {
      "needs_background": "light"
     },
     "output_type": "display_data"
    }
   ],
   "source": [
    "plt.figure(figsize=(22,12))\n",
    "plt.subplot(3,3,1)\n",
    "sns.countplot(x='APP_6M',hue='F_RECOMPROU', data=df3);\n",
    "\n",
    "\n",
    "plt.subplot(3,3,2)\n",
    "sns.countplot(x='C_APP',hue='F_RECOMPROU', data=df3);\n",
    "\n",
    "\n",
    "plt.subplot(3,3,3)\n",
    "sns.countplot(x='C_CUPOM',hue='F_RECOMPROU', data=df3);\n",
    "\n",
    "\n",
    "plt.subplot(3,3,4)\n",
    "sns.countplot(x='C_MARKETPLACE',hue='F_RECOMPROU', data=df3);\n",
    "\n",
    "\n",
    "plt.subplot(3,3,5)\n",
    "sns.countplot(x='MARKETPLACE_6M',hue='F_RECOMPROU', data=df3);\n",
    "\n",
    "\n",
    "plt.subplot(3,3,6)\n",
    "sns.countplot(x='QTD_PED_1M',hue='F_RECOMPROU', data=df3);\n",
    "\n",
    "\n",
    "plt.subplot(3,3,7)\n",
    "sns.countplot(x='diferentes_formas_compra_1mes',hue='F_RECOMPROU', data=df3);\n",
    "\n",
    "\n",
    "plt.subplot(3,3,8)\n",
    "sns.countplot(x='diferentes_formas_compra_6meses',hue='F_RECOMPROU', data=df3);\n",
    "\n",
    "\n"
   ]
  },
  {
   "cell_type": "code",
   "execution_count": 296,
   "metadata": {
    "hidden": true
   },
   "outputs": [
    {
     "data": {
      "image/png": "[encoded data removed]",
      "text/plain": [
       "<Figure size 1584x432 with 2 Axes>"
      ]
     },
     "metadata": {
      "needs_background": "light"
     },
     "output_type": "display_data"
    }
   ],
   "source": [
    "plt.figure(figsize=(22,6))\n",
    "plt.subplot(1,2,1)\n",
    "sns.countplot(x='QTD_PED_3M',hue='F_RECOMPROU', data=df3);\n",
    "plt.xlabel('Departamento comprado no último pedido'); plt.ylabel(\"Total\");\n",
    "\n",
    "plt.subplot(1,2,2)\n",
    "sns.countplot(x='QTD_PED_6M',hue='F_RECOMPROU', data=df3);\n",
    "plt.xlabel('Departamento comprado no último pedido'); plt.ylabel(\"Total\");"
   ]
  },
  {
   "cell_type": "code",
   "execution_count": 297,
   "metadata": {
    "hidden": true
   },
   "outputs": [
    {
     "data": {
      "text/plain": [
       "(4220, 16)"
      ]
     },
     "execution_count": 297,
     "metadata": {},
     "output_type": "execute_result"
    }
   ],
   "source": [
    "# Existem 4220 clientes  que não fizeram nenhum tipo de compra nós últimos 6 meses.\n",
    "# Porém fizeram uma compra adicional em sua última compra.\n",
    "\n",
    "df_shape = df3[(df3['APP_6M']==0) & (df3['C_APP']==0) & (df3['C_CUPOM']==0) & (df3['C_MARKETPLACE']==0) & \n",
    "    (df3['MARKETPLACE_6M']==0) & (df3['QTD_PED_1M']==0) & (df3['diferentes_formas_compra_1mes']==0) & \n",
    "    (df3['diferentes_formas_compra_6meses']==0) & (df3['QTD_PED_6M']==0) & (df3['F_RECOMPROU']==1)]\n",
    "df_shape.shape"
   ]
  },
  {
   "cell_type": "code",
   "execution_count": 298,
   "metadata": {
    "hidden": true
   },
   "outputs": [
    {
     "data": {
      "text/html": [
       "<div>\n",
       "<style scoped>\n",
       "    .dataframe tbody tr th:only-of-type {\n",
       "        vertical-align: middle;\n",
       "    }\n",
       "\n",
       "    .dataframe tbody tr th {\n",
       "        vertical-align: top;\n",
       "    }\n",
       "\n",
       "    .dataframe thead th {\n",
       "        text-align: right;\n",
       "    }\n",
       "</style>\n",
       "<table border=\"1\" class=\"dataframe\">\n",
       "  <thead>\n",
       "    <tr style=\"text-align: right;\">\n",
       "      <th></th>\n",
       "      <th>count</th>\n",
       "      <th>mean</th>\n",
       "      <th>std</th>\n",
       "      <th>min</th>\n",
       "      <th>25%</th>\n",
       "      <th>50%</th>\n",
       "      <th>75%</th>\n",
       "      <th>max</th>\n",
       "    </tr>\n",
       "  </thead>\n",
       "  <tbody>\n",
       "    <tr>\n",
       "      <th>id_cliente_hash</th>\n",
       "      <td>21773.0</td>\n",
       "      <td>3.736008e+15</td>\n",
       "      <td>5.331059e+18</td>\n",
       "      <td>-9.222945e+18</td>\n",
       "      <td>-4.613682e+18</td>\n",
       "      <td>2.728040e+16</td>\n",
       "      <td>4.645679e+18</td>\n",
       "      <td>9.222632e+18</td>\n",
       "    </tr>\n",
       "    <tr>\n",
       "      <th>QTD_PED_6M</th>\n",
       "      <td>21773.0</td>\n",
       "      <td>8.500436e-01</td>\n",
       "      <td>2.253005e+00</td>\n",
       "      <td>0.000000e+00</td>\n",
       "      <td>0.000000e+00</td>\n",
       "      <td>0.000000e+00</td>\n",
       "      <td>1.000000e+00</td>\n",
       "      <td>7.600000e+01</td>\n",
       "    </tr>\n",
       "    <tr>\n",
       "      <th>QTD_PED_3M</th>\n",
       "      <td>21773.0</td>\n",
       "      <td>4.614890e-01</td>\n",
       "      <td>1.333354e+00</td>\n",
       "      <td>0.000000e+00</td>\n",
       "      <td>0.000000e+00</td>\n",
       "      <td>0.000000e+00</td>\n",
       "      <td>0.000000e+00</td>\n",
       "      <td>4.200000e+01</td>\n",
       "    </tr>\n",
       "    <tr>\n",
       "      <th>QTD_PED_1M</th>\n",
       "      <td>21773.0</td>\n",
       "      <td>1.844946e-01</td>\n",
       "      <td>6.195082e-01</td>\n",
       "      <td>0.000000e+00</td>\n",
       "      <td>0.000000e+00</td>\n",
       "      <td>0.000000e+00</td>\n",
       "      <td>0.000000e+00</td>\n",
       "      <td>1.300000e+01</td>\n",
       "    </tr>\n",
       "    <tr>\n",
       "      <th>APP_6M</th>\n",
       "      <td>21773.0</td>\n",
       "      <td>1.827952e-02</td>\n",
       "      <td>1.339634e-01</td>\n",
       "      <td>0.000000e+00</td>\n",
       "      <td>0.000000e+00</td>\n",
       "      <td>0.000000e+00</td>\n",
       "      <td>0.000000e+00</td>\n",
       "      <td>1.000000e+00</td>\n",
       "    </tr>\n",
       "    <tr>\n",
       "      <th>MARKETPLACE_6M</th>\n",
       "      <td>21773.0</td>\n",
       "      <td>5.332292e-02</td>\n",
       "      <td>2.246818e-01</td>\n",
       "      <td>0.000000e+00</td>\n",
       "      <td>0.000000e+00</td>\n",
       "      <td>0.000000e+00</td>\n",
       "      <td>0.000000e+00</td>\n",
       "      <td>1.000000e+00</td>\n",
       "    </tr>\n",
       "    <tr>\n",
       "      <th>TOP3_DEPTOS_6M</th>\n",
       "      <td>21773.0</td>\n",
       "      <td>7.830800e-02</td>\n",
       "      <td>2.686618e-01</td>\n",
       "      <td>0.000000e+00</td>\n",
       "      <td>0.000000e+00</td>\n",
       "      <td>0.000000e+00</td>\n",
       "      <td>0.000000e+00</td>\n",
       "      <td>1.000000e+00</td>\n",
       "    </tr>\n",
       "    <tr>\n",
       "      <th>C_CUPOM</th>\n",
       "      <td>21773.0</td>\n",
       "      <td>5.061314e-02</td>\n",
       "      <td>2.192115e-01</td>\n",
       "      <td>0.000000e+00</td>\n",
       "      <td>0.000000e+00</td>\n",
       "      <td>0.000000e+00</td>\n",
       "      <td>0.000000e+00</td>\n",
       "      <td>1.000000e+00</td>\n",
       "    </tr>\n",
       "    <tr>\n",
       "      <th>C_APP</th>\n",
       "      <td>21773.0</td>\n",
       "      <td>2.691407e-02</td>\n",
       "      <td>1.618360e-01</td>\n",
       "      <td>0.000000e+00</td>\n",
       "      <td>0.000000e+00</td>\n",
       "      <td>0.000000e+00</td>\n",
       "      <td>0.000000e+00</td>\n",
       "      <td>1.000000e+00</td>\n",
       "    </tr>\n",
       "    <tr>\n",
       "      <th>C_MARKETPLACE</th>\n",
       "      <td>21773.0</td>\n",
       "      <td>1.368208e-01</td>\n",
       "      <td>3.436660e-01</td>\n",
       "      <td>0.000000e+00</td>\n",
       "      <td>0.000000e+00</td>\n",
       "      <td>0.000000e+00</td>\n",
       "      <td>0.000000e+00</td>\n",
       "      <td>1.000000e+00</td>\n",
       "    </tr>\n",
       "    <tr>\n",
       "      <th>F_RECOMPROU</th>\n",
       "      <td>21773.0</td>\n",
       "      <td>4.720985e-01</td>\n",
       "      <td>4.992324e-01</td>\n",
       "      <td>0.000000e+00</td>\n",
       "      <td>0.000000e+00</td>\n",
       "      <td>0.000000e+00</td>\n",
       "      <td>1.000000e+00</td>\n",
       "      <td>1.000000e+00</td>\n",
       "    </tr>\n",
       "    <tr>\n",
       "      <th>diferentes_formas_compra_6meses</th>\n",
       "      <td>21773.0</td>\n",
       "      <td>1.499104e-01</td>\n",
       "      <td>4.368379e-01</td>\n",
       "      <td>0.000000e+00</td>\n",
       "      <td>0.000000e+00</td>\n",
       "      <td>0.000000e+00</td>\n",
       "      <td>0.000000e+00</td>\n",
       "      <td>3.000000e+00</td>\n",
       "    </tr>\n",
       "    <tr>\n",
       "      <th>diferentes_formas_compra_1mes</th>\n",
       "      <td>21773.0</td>\n",
       "      <td>1.637349e-01</td>\n",
       "      <td>3.829743e-01</td>\n",
       "      <td>0.000000e+00</td>\n",
       "      <td>0.000000e+00</td>\n",
       "      <td>0.000000e+00</td>\n",
       "      <td>0.000000e+00</td>\n",
       "      <td>2.000000e+00</td>\n",
       "    </tr>\n",
       "    <tr>\n",
       "      <th>TIPO_PAG_MAIS_USADO_6M_PAG1</th>\n",
       "      <td>21773.0</td>\n",
       "      <td>8.579433e-02</td>\n",
       "      <td>2.800665e-01</td>\n",
       "      <td>0.000000e+00</td>\n",
       "      <td>0.000000e+00</td>\n",
       "      <td>0.000000e+00</td>\n",
       "      <td>0.000000e+00</td>\n",
       "      <td>1.000000e+00</td>\n",
       "    </tr>\n",
       "    <tr>\n",
       "      <th>TIPO_PAG_MAIS_USADO_6M_PAG2</th>\n",
       "      <td>21773.0</td>\n",
       "      <td>1.331925e-03</td>\n",
       "      <td>3.647207e-02</td>\n",
       "      <td>0.000000e+00</td>\n",
       "      <td>0.000000e+00</td>\n",
       "      <td>0.000000e+00</td>\n",
       "      <td>0.000000e+00</td>\n",
       "      <td>1.000000e+00</td>\n",
       "    </tr>\n",
       "    <tr>\n",
       "      <th>TIPO_PAG_MAIS_USADO_6M_PAG3</th>\n",
       "      <td>21773.0</td>\n",
       "      <td>1.423782e-03</td>\n",
       "      <td>3.770703e-02</td>\n",
       "      <td>0.000000e+00</td>\n",
       "      <td>0.000000e+00</td>\n",
       "      <td>0.000000e+00</td>\n",
       "      <td>0.000000e+00</td>\n",
       "      <td>1.000000e+00</td>\n",
       "    </tr>\n",
       "    <tr>\n",
       "      <th>TIPO_PAG_MAIS_USADO_6M_PAG4</th>\n",
       "      <td>21773.0</td>\n",
       "      <td>3.164470e-02</td>\n",
       "      <td>1.750563e-01</td>\n",
       "      <td>0.000000e+00</td>\n",
       "      <td>0.000000e+00</td>\n",
       "      <td>0.000000e+00</td>\n",
       "      <td>0.000000e+00</td>\n",
       "      <td>1.000000e+00</td>\n",
       "    </tr>\n",
       "    <tr>\n",
       "      <th>TIPO_PAG_MAIS_USADO_6M_PAG5</th>\n",
       "      <td>21773.0</td>\n",
       "      <td>2.030956e-01</td>\n",
       "      <td>4.023123e-01</td>\n",
       "      <td>0.000000e+00</td>\n",
       "      <td>0.000000e+00</td>\n",
       "      <td>0.000000e+00</td>\n",
       "      <td>0.000000e+00</td>\n",
       "      <td>1.000000e+00</td>\n",
       "    </tr>\n",
       "    <tr>\n",
       "      <th>C_TIPO_PAGAMENTO_PAG2</th>\n",
       "      <td>21773.0</td>\n",
       "      <td>3.123134e-03</td>\n",
       "      <td>5.579895e-02</td>\n",
       "      <td>0.000000e+00</td>\n",
       "      <td>0.000000e+00</td>\n",
       "      <td>0.000000e+00</td>\n",
       "      <td>0.000000e+00</td>\n",
       "      <td>1.000000e+00</td>\n",
       "    </tr>\n",
       "    <tr>\n",
       "      <th>C_TIPO_PAGAMENTO_PAG3</th>\n",
       "      <td>21773.0</td>\n",
       "      <td>7.578193e-03</td>\n",
       "      <td>8.672433e-02</td>\n",
       "      <td>0.000000e+00</td>\n",
       "      <td>0.000000e+00</td>\n",
       "      <td>0.000000e+00</td>\n",
       "      <td>0.000000e+00</td>\n",
       "      <td>1.000000e+00</td>\n",
       "    </tr>\n",
       "    <tr>\n",
       "      <th>C_TIPO_PAGAMENTO_PAG4</th>\n",
       "      <td>21773.0</td>\n",
       "      <td>7.394479e-02</td>\n",
       "      <td>2.616870e-01</td>\n",
       "      <td>0.000000e+00</td>\n",
       "      <td>0.000000e+00</td>\n",
       "      <td>0.000000e+00</td>\n",
       "      <td>0.000000e+00</td>\n",
       "      <td>1.000000e+00</td>\n",
       "    </tr>\n",
       "    <tr>\n",
       "      <th>C_TIPO_PAGAMENTO_PAG5</th>\n",
       "      <td>21773.0</td>\n",
       "      <td>6.285307e-01</td>\n",
       "      <td>4.832086e-01</td>\n",
       "      <td>0.000000e+00</td>\n",
       "      <td>0.000000e+00</td>\n",
       "      <td>1.000000e+00</td>\n",
       "      <td>1.000000e+00</td>\n",
       "      <td>1.000000e+00</td>\n",
       "    </tr>\n",
       "    <tr>\n",
       "      <th>C_DEPTO_TOP_1_3</th>\n",
       "      <td>21773.0</td>\n",
       "      <td>2.160015e-01</td>\n",
       "      <td>4.115247e-01</td>\n",
       "      <td>0.000000e+00</td>\n",
       "      <td>0.000000e+00</td>\n",
       "      <td>0.000000e+00</td>\n",
       "      <td>0.000000e+00</td>\n",
       "      <td>1.000000e+00</td>\n",
       "    </tr>\n",
       "    <tr>\n",
       "      <th>C_DEPTO_TOP_4_6</th>\n",
       "      <td>21773.0</td>\n",
       "      <td>9.851651e-02</td>\n",
       "      <td>2.980186e-01</td>\n",
       "      <td>0.000000e+00</td>\n",
       "      <td>0.000000e+00</td>\n",
       "      <td>0.000000e+00</td>\n",
       "      <td>0.000000e+00</td>\n",
       "      <td>1.000000e+00</td>\n",
       "    </tr>\n",
       "  </tbody>\n",
       "</table>\n",
       "</div>"
      ],
      "text/plain": [
       "                                   count          mean           std  \\\n",
       "id_cliente_hash                  21773.0  3.736008e+15  5.331059e+18   \n",
       "QTD_PED_6M                       21773.0  8.500436e-01  2.253005e+00   \n",
       "QTD_PED_3M                       21773.0  4.614890e-01  1.333354e+00   \n",
       "QTD_PED_1M                       21773.0  1.844946e-01  6.195082e-01   \n",
       "APP_6M                           21773.0  1.827952e-02  1.339634e-01   \n",
       "MARKETPLACE_6M                   21773.0  5.332292e-02  2.246818e-01   \n",
       "TOP3_DEPTOS_6M                   21773.0  7.830800e-02  2.686618e-01   \n",
       "C_CUPOM                          21773.0  5.061314e-02  2.192115e-01   \n",
       "C_APP                            21773.0  2.691407e-02  1.618360e-01   \n",
       "C_MARKETPLACE                    21773.0  1.368208e-01  3.436660e-01   \n",
       "F_RECOMPROU                      21773.0  4.720985e-01  4.992324e-01   \n",
       "diferentes_formas_compra_6meses  21773.0  1.499104e-01  4.368379e-01   \n",
       "diferentes_formas_compra_1mes    21773.0  1.637349e-01  3.829743e-01   \n",
       "TIPO_PAG_MAIS_USADO_6M_PAG1      21773.0  8.579433e-02  2.800665e-01   \n",
       "TIPO_PAG_MAIS_USADO_6M_PAG2      21773.0  1.331925e-03  3.647207e-02   \n",
       "TIPO_PAG_MAIS_USADO_6M_PAG3      21773.0  1.423782e-03  3.770703e-02   \n",
       "TIPO_PAG_MAIS_USADO_6M_PAG4      21773.0  3.164470e-02  1.750563e-01   \n",
       "TIPO_PAG_MAIS_USADO_6M_PAG5      21773.0  2.030956e-01  4.023123e-01   \n",
       "C_TIPO_PAGAMENTO_PAG2            21773.0  3.123134e-03  5.579895e-02   \n",
       "C_TIPO_PAGAMENTO_PAG3            21773.0  7.578193e-03  8.672433e-02   \n",
       "C_TIPO_PAGAMENTO_PAG4            21773.0  7.394479e-02  2.616870e-01   \n",
       "C_TIPO_PAGAMENTO_PAG5            21773.0  6.285307e-01  4.832086e-01   \n",
       "C_DEPTO_TOP_1_3                  21773.0  2.160015e-01  4.115247e-01   \n",
       "C_DEPTO_TOP_4_6                  21773.0  9.851651e-02  2.980186e-01   \n",
       "\n",
       "                                          min           25%           50%  \\\n",
       "id_cliente_hash                 -9.222945e+18 -4.613682e+18  2.728040e+16   \n",
       "QTD_PED_6M                       0.000000e+00  0.000000e+00  0.000000e+00   \n",
       "QTD_PED_3M                       0.000000e+00  0.000000e+00  0.000000e+00   \n",
       "QTD_PED_1M                       0.000000e+00  0.000000e+00  0.000000e+00   \n",
       "APP_6M                           0.000000e+00  0.000000e+00  0.000000e+00   \n",
       "MARKETPLACE_6M                   0.000000e+00  0.000000e+00  0.000000e+00   \n",
       "TOP3_DEPTOS_6M                   0.000000e+00  0.000000e+00  0.000000e+00   \n",
       "C_CUPOM                          0.000000e+00  0.000000e+00  0.000000e+00   \n",
       "C_APP                            0.000000e+00  0.000000e+00  0.000000e+00   \n",
       "C_MARKETPLACE                    0.000000e+00  0.000000e+00  0.000000e+00   \n",
       "F_RECOMPROU                      0.000000e+00  0.000000e+00  0.000000e+00   \n",
       "diferentes_formas_compra_6meses  0.000000e+00  0.000000e+00  0.000000e+00   \n",
       "diferentes_formas_compra_1mes    0.000000e+00  0.000000e+00  0.000000e+00   \n",
       "TIPO_PAG_MAIS_USADO_6M_PAG1      0.000000e+00  0.000000e+00  0.000000e+00   \n",
       "TIPO_PAG_MAIS_USADO_6M_PAG2      0.000000e+00  0.000000e+00  0.000000e+00   \n",
       "TIPO_PAG_MAIS_USADO_6M_PAG3      0.000000e+00  0.000000e+00  0.000000e+00   \n",
       "TIPO_PAG_MAIS_USADO_6M_PAG4      0.000000e+00  0.000000e+00  0.000000e+00   \n",
       "TIPO_PAG_MAIS_USADO_6M_PAG5      0.000000e+00  0.000000e+00  0.000000e+00   \n",
       "C_TIPO_PAGAMENTO_PAG2            0.000000e+00  0.000000e+00  0.000000e+00   \n",
       "C_TIPO_PAGAMENTO_PAG3            0.000000e+00  0.000000e+00  0.000000e+00   \n",
       "C_TIPO_PAGAMENTO_PAG4            0.000000e+00  0.000000e+00  0.000000e+00   \n",
       "C_TIPO_PAGAMENTO_PAG5            0.000000e+00  0.000000e+00  1.000000e+00   \n",
       "C_DEPTO_TOP_1_3                  0.000000e+00  0.000000e+00  0.000000e+00   \n",
       "C_DEPTO_TOP_4_6                  0.000000e+00  0.000000e+00  0.000000e+00   \n",
       "\n",
       "                                          75%           max  \n",
       "id_cliente_hash                  4.645679e+18  9.222632e+18  \n",
       "QTD_PED_6M                       1.000000e+00  7.600000e+01  \n",
       "QTD_PED_3M                       0.000000e+00  4.200000e+01  \n",
       "QTD_PED_1M                       0.000000e+00  1.300000e+01  \n",
       "APP_6M                           0.000000e+00  1.000000e+00  \n",
       "MARKETPLACE_6M                   0.000000e+00  1.000000e+00  \n",
       "TOP3_DEPTOS_6M                   0.000000e+00  1.000000e+00  \n",
       "C_CUPOM                          0.000000e+00  1.000000e+00  \n",
       "C_APP                            0.000000e+00  1.000000e+00  \n",
       "C_MARKETPLACE                    0.000000e+00  1.000000e+00  \n",
       "F_RECOMPROU                      1.000000e+00  1.000000e+00  \n",
       "diferentes_formas_compra_6meses  0.000000e+00  3.000000e+00  \n",
       "diferentes_formas_compra_1mes    0.000000e+00  2.000000e+00  \n",
       "TIPO_PAG_MAIS_USADO_6M_PAG1      0.000000e+00  1.000000e+00  \n",
       "TIPO_PAG_MAIS_USADO_6M_PAG2      0.000000e+00  1.000000e+00  \n",
       "TIPO_PAG_MAIS_USADO_6M_PAG3      0.000000e+00  1.000000e+00  \n",
       "TIPO_PAG_MAIS_USADO_6M_PAG4      0.000000e+00  1.000000e+00  \n",
       "TIPO_PAG_MAIS_USADO_6M_PAG5      0.000000e+00  1.000000e+00  \n",
       "C_TIPO_PAGAMENTO_PAG2            0.000000e+00  1.000000e+00  \n",
       "C_TIPO_PAGAMENTO_PAG3            0.000000e+00  1.000000e+00  \n",
       "C_TIPO_PAGAMENTO_PAG4            0.000000e+00  1.000000e+00  \n",
       "C_TIPO_PAGAMENTO_PAG5            1.000000e+00  1.000000e+00  \n",
       "C_DEPTO_TOP_1_3                  0.000000e+00  1.000000e+00  \n",
       "C_DEPTO_TOP_4_6                  0.000000e+00  1.000000e+00  "
      ]
     },
     "execution_count": 298,
     "metadata": {},
     "output_type": "execute_result"
    }
   ],
   "source": [
    "df_cat_col1 = pd.get_dummies(df_cat_col, drop_first=True)\n",
    "df_final = pd.concat([df_num_col, df_cat_col1], axis=1)\n",
    "df_final.describe().T"
   ]
  },
  {
   "cell_type": "markdown",
   "metadata": {
    "heading_collapsed": true,
    "hidden": true
   },
   "source": [
    "## Normalização dos Dados"
   ]
  },
  {
   "cell_type": "code",
   "execution_count": 299,
   "metadata": {
    "hidden": true
   },
   "outputs": [],
   "source": [
    "mm = MinMaxScaler()\n",
    "rb = RobustScaler()"
   ]
  },
  {
   "cell_type": "code",
   "execution_count": 300,
   "metadata": {
    "hidden": true
   },
   "outputs": [],
   "source": [
    "df_final['QTD_PED_6M'] = rb.fit_transform(df_final[['QTD_PED_6M']].values)\n",
    "\n",
    "df_final['QTD_PED_3M'] = rb.fit_transform(df_final[['QTD_PED_3M']].values)\n",
    "\n",
    "df_final['QTD_PED_1M'] = rb.fit_transform(df_final[['QTD_PED_1M']].values)\n",
    "\n",
    "df_final['diferentes_formas_compra_6meses'] = mm.fit_transform(df_final[['diferentes_formas_compra_6meses']].values)\n",
    "\n",
    "df_final['diferentes_formas_compra_1mes'] = mm.fit_transform(df_final[['diferentes_formas_compra_1mes']].values)"
   ]
  },
  {
   "cell_type": "markdown",
   "metadata": {
    "heading_collapsed": true,
    "hidden": true
   },
   "source": [
    "## Feature Importance"
   ]
  },
  {
   "cell_type": "code",
   "execution_count": 301,
   "metadata": {
    "hidden": true
   },
   "outputs": [],
   "source": [
    "X = df_final.drop(['F_RECOMPROU'], axis=1)\n",
    "y = df_final['F_RECOMPROU']"
   ]
  },
  {
   "cell_type": "code",
   "execution_count": 302,
   "metadata": {
    "hidden": true
   },
   "outputs": [],
   "source": [
    "X_train, X_test, y_train, y_test = train_test_split(X, y,random_state=1, stratify=y)"
   ]
  },
  {
   "cell_type": "code",
   "execution_count": 303,
   "metadata": {
    "hidden": true
   },
   "outputs": [
    {
     "data": {
      "text/plain": [
       "(5444, 23)"
      ]
     },
     "execution_count": 303,
     "metadata": {},
     "output_type": "execute_result"
    }
   ],
   "source": [
    "X_test.shape"
   ]
  },
  {
   "cell_type": "code",
   "execution_count": 304,
   "metadata": {
    "hidden": true
   },
   "outputs": [],
   "source": [
    "X_train_copy = X_train.copy()\n",
    "X_test_copy =  X_test.copy() "
   ]
  },
  {
   "cell_type": "code",
   "execution_count": 305,
   "metadata": {
    "hidden": true
   },
   "outputs": [],
   "source": [
    "X_train = X_train.drop(['id_cliente_hash'], axis=1)\n",
    "X_test = X_test.drop(['id_cliente_hash'], axis=1)"
   ]
  },
  {
   "cell_type": "code",
   "execution_count": 306,
   "metadata": {
    "hidden": true
   },
   "outputs": [
    {
     "data": {
      "image/png": "[encoded data removed]",
      "text/plain": [
       "<Figure size 432x288 with 1 Axes>"
      ]
     },
     "metadata": {
      "needs_background": "light"
     },
     "output_type": "display_data"
    }
   ],
   "source": [
    "# Os dados não estão muito desbalanceado, dessa forma vou manter eles assim.\n",
    "aux1 = y_train.value_counts()\n",
    "aux1.plot.bar();"
   ]
  },
  {
   "cell_type": "code",
   "execution_count": 307,
   "metadata": {
    "hidden": true
   },
   "outputs": [
    {
     "data": {
      "image/png": "[encoded data removed]",
      "text/plain": [
       "<Figure size 864x432 with 1 Axes>"
      ]
     },
     "metadata": {
      "needs_background": "light"
     },
     "output_type": "display_data"
    }
   ],
   "source": [
    "rf = RandomForestClassifier(random_state=42)\n",
    "rf.fit(X_train, y_train)\n",
    "\n",
    "# feature importance data frame\n",
    "feat_imp = pd.DataFrame({'feature': X_train.columns,\n",
    "                        'feature_importance': rf.feature_importances_})\\\n",
    "                        .sort_values('feature_importance', ascending=False)\\\n",
    "                        .reset_index(drop=True)\n",
    "\n",
    "\n",
    "# plot feature importance\n",
    "plt.subplots(figsize=(12,6))\n",
    "sns.barplot(x='feature_importance', y='feature', data=feat_imp, orient='h', color='royalblue')\\\n",
    "    .set_title('Feature Importance');"
   ]
  },
  {
   "cell_type": "code",
   "execution_count": 308,
   "metadata": {
    "hidden": true
   },
   "outputs": [],
   "source": [
    "X_train_fi = X_train[['QTD_PED_6M', 'QTD_PED_3M','QTD_PED_1M','TIPO_PAG_MAIS_USADO_6M_PAG5', \n",
    "                   'C_TIPO_PAGAMENTO_PAG4', 'diferentes_formas_compra_6meses']]\n",
    "\n",
    "X_test_fi = X_test[['QTD_PED_6M', 'QTD_PED_3M','QTD_PED_1M','TIPO_PAG_MAIS_USADO_6M_PAG5', \n",
    "                   'C_TIPO_PAGAMENTO_PAG4', 'diferentes_formas_compra_6meses']]"
   ]
  },
  {
   "cell_type": "markdown",
   "metadata": {
    "hidden": true
   },
   "source": [
    "As variavéis mais importantes para o meu modelo prever são: 'QTD_PED_6M', 'QTD_PED_3M', 'QTD_PED_1M', 'TIPO_PAG_MAIS_USADO_6M_PAG5', 'C_TIPO_PAGAMENTO_PAG4', 'diferentes_formas_compra_6meses'."
   ]
  },
  {
   "cell_type": "markdown",
   "metadata": {
    "heading_collapsed": true,
    "hidden": true
   },
   "source": [
    "## Machine Learning"
   ]
  },
  {
   "cell_type": "markdown",
   "metadata": {
    "heading_collapsed": true,
    "hidden": true
   },
   "source": [
    "### Instânciando Modelos"
   ]
  },
  {
   "cell_type": "code",
   "execution_count": 309,
   "metadata": {
    "hidden": true
   },
   "outputs": [],
   "source": [
    "# Dividindo em folds e instânciando os modelos.\n",
    "kfold=5\n",
    "du = DummyClassifier()\n",
    "lr = LogisticRegression()\n",
    "dtc = DecisionTreeClassifier()\n",
    "etx = ExtraTreesClassifier()\n",
    "rfc = RandomForestClassifier()\n",
    "gbc = GradientBoostingClassifier()\n",
    "xbc = XGBClassifier()\n",
    "rdg = RidgeClassifier()"
   ]
  },
  {
   "cell_type": "markdown",
   "metadata": {
    "heading_collapsed": true,
    "hidden": true
   },
   "source": [
    "### Dummy - Classificador Aleatório - Todas variavéis"
   ]
  },
  {
   "cell_type": "code",
   "execution_count": 310,
   "metadata": {
    "hidden": true
   },
   "outputs": [
    {
     "data": {
      "text/html": [
       "<div>\n",
       "<style scoped>\n",
       "    .dataframe tbody tr th:only-of-type {\n",
       "        vertical-align: middle;\n",
       "    }\n",
       "\n",
       "    .dataframe tbody tr th {\n",
       "        vertical-align: top;\n",
       "    }\n",
       "\n",
       "    .dataframe thead th {\n",
       "        text-align: right;\n",
       "    }\n",
       "</style>\n",
       "<table border=\"1\" class=\"dataframe\">\n",
       "  <thead>\n",
       "    <tr style=\"text-align: right;\">\n",
       "      <th></th>\n",
       "      <th>Model_Name</th>\n",
       "      <th>Acuracia</th>\n",
       "      <th>Precision</th>\n",
       "      <th>Recall</th>\n",
       "      <th>ROC_AUC</th>\n",
       "      <th>Precision-Recall</th>\n",
       "    </tr>\n",
       "  </thead>\n",
       "  <tbody>\n",
       "    <tr>\n",
       "      <th>0</th>\n",
       "      <td>Dummy Classifier</td>\n",
       "      <td>0.489803</td>\n",
       "      <td>0.45947</td>\n",
       "      <td>0.456867</td>\n",
       "      <td>0.498001</td>\n",
       "      <td>0.471148</td>\n",
       "    </tr>\n",
       "  </tbody>\n",
       "</table>\n",
       "</div>"
      ],
      "text/plain": [
       "         Model_Name  Acuracia  Precision    Recall   ROC_AUC  Precision-Recall\n",
       "0  Dummy Classifier  0.489803    0.45947  0.456867  0.498001          0.471148"
      ]
     },
     "execution_count": 310,
     "metadata": {},
     "output_type": "execute_result"
    }
   ],
   "source": [
    "du_result = ml_error('Dummy Classifier', du)\n",
    "du_result"
   ]
  },
  {
   "cell_type": "markdown",
   "metadata": {
    "heading_collapsed": true,
    "hidden": true
   },
   "source": [
    "### Regressão Logística - Todas variavéis"
   ]
  },
  {
   "cell_type": "code",
   "execution_count": 311,
   "metadata": {
    "hidden": true
   },
   "outputs": [
    {
     "data": {
      "text/html": [
       "<div>\n",
       "<style scoped>\n",
       "    .dataframe tbody tr th:only-of-type {\n",
       "        vertical-align: middle;\n",
       "    }\n",
       "\n",
       "    .dataframe tbody tr th {\n",
       "        vertical-align: top;\n",
       "    }\n",
       "\n",
       "    .dataframe thead th {\n",
       "        text-align: right;\n",
       "    }\n",
       "</style>\n",
       "<table border=\"1\" class=\"dataframe\">\n",
       "  <thead>\n",
       "    <tr style=\"text-align: right;\">\n",
       "      <th></th>\n",
       "      <th>Model_Name</th>\n",
       "      <th>Acuracia</th>\n",
       "      <th>Precision</th>\n",
       "      <th>Recall</th>\n",
       "      <th>ROC_AUC</th>\n",
       "      <th>Precision-Recall</th>\n",
       "    </tr>\n",
       "  </thead>\n",
       "  <tbody>\n",
       "    <tr>\n",
       "      <th>0</th>\n",
       "      <td>Regressão Logistica</td>\n",
       "      <td>0.681915</td>\n",
       "      <td>0.724315</td>\n",
       "      <td>0.526786</td>\n",
       "      <td>0.710317</td>\n",
       "      <td>0.705737</td>\n",
       "    </tr>\n",
       "  </tbody>\n",
       "</table>\n",
       "</div>"
      ],
      "text/plain": [
       "            Model_Name  Acuracia  Precision    Recall   ROC_AUC  \\\n",
       "0  Regressão Logistica  0.681915   0.724315  0.526786  0.710317   \n",
       "\n",
       "   Precision-Recall  \n",
       "0          0.705737  "
      ]
     },
     "execution_count": 311,
     "metadata": {},
     "output_type": "execute_result"
    }
   ],
   "source": [
    "lr_result = ml_error('Regressão Logistica',lr)\n",
    "lr_result"
   ]
  },
  {
   "cell_type": "markdown",
   "metadata": {
    "heading_collapsed": true,
    "hidden": true
   },
   "source": [
    "### DecisionTreeClassifier - Todas variavéis"
   ]
  },
  {
   "cell_type": "code",
   "execution_count": 312,
   "metadata": {
    "hidden": true
   },
   "outputs": [
    {
     "data": {
      "text/html": [
       "<div>\n",
       "<style scoped>\n",
       "    .dataframe tbody tr th:only-of-type {\n",
       "        vertical-align: middle;\n",
       "    }\n",
       "\n",
       "    .dataframe tbody tr th {\n",
       "        vertical-align: top;\n",
       "    }\n",
       "\n",
       "    .dataframe thead th {\n",
       "        text-align: right;\n",
       "    }\n",
       "</style>\n",
       "<table border=\"1\" class=\"dataframe\">\n",
       "  <thead>\n",
       "    <tr style=\"text-align: right;\">\n",
       "      <th></th>\n",
       "      <th>Model_Name</th>\n",
       "      <th>Acuracia</th>\n",
       "      <th>Precision</th>\n",
       "      <th>Recall</th>\n",
       "      <th>ROC_AUC</th>\n",
       "      <th>Precision-Recall</th>\n",
       "    </tr>\n",
       "  </thead>\n",
       "  <tbody>\n",
       "    <tr>\n",
       "      <th>0</th>\n",
       "      <td>DecisionTreeClassifier</td>\n",
       "      <td>0.659623</td>\n",
       "      <td>0.726013</td>\n",
       "      <td>0.448046</td>\n",
       "      <td>0.672475</td>\n",
       "      <td>0.656881</td>\n",
       "    </tr>\n",
       "  </tbody>\n",
       "</table>\n",
       "</div>"
      ],
      "text/plain": [
       "               Model_Name  Acuracia  Precision    Recall   ROC_AUC  \\\n",
       "0  DecisionTreeClassifier  0.659623   0.726013  0.448046  0.672475   \n",
       "\n",
       "   Precision-Recall  \n",
       "0          0.656881  "
      ]
     },
     "execution_count": 312,
     "metadata": {},
     "output_type": "execute_result"
    }
   ],
   "source": [
    "dtc_result = ml_error('DecisionTreeClassifier',dtc)\n",
    "dtc_result"
   ]
  },
  {
   "cell_type": "markdown",
   "metadata": {
    "heading_collapsed": true,
    "hidden": true
   },
   "source": [
    "### ExtraTreesClassifier - Todas variavéis"
   ]
  },
  {
   "cell_type": "code",
   "execution_count": 313,
   "metadata": {
    "hidden": true
   },
   "outputs": [
    {
     "data": {
      "text/html": [
       "<div>\n",
       "<style scoped>\n",
       "    .dataframe tbody tr th:only-of-type {\n",
       "        vertical-align: middle;\n",
       "    }\n",
       "\n",
       "    .dataframe tbody tr th {\n",
       "        vertical-align: top;\n",
       "    }\n",
       "\n",
       "    .dataframe thead th {\n",
       "        text-align: right;\n",
       "    }\n",
       "</style>\n",
       "<table border=\"1\" class=\"dataframe\">\n",
       "  <thead>\n",
       "    <tr style=\"text-align: right;\">\n",
       "      <th></th>\n",
       "      <th>Model_Name</th>\n",
       "      <th>Acuracia</th>\n",
       "      <th>Precision</th>\n",
       "      <th>Recall</th>\n",
       "      <th>ROC_AUC</th>\n",
       "      <th>Precision-Recall</th>\n",
       "    </tr>\n",
       "  </thead>\n",
       "  <tbody>\n",
       "    <tr>\n",
       "      <th>0</th>\n",
       "      <td>ExtraTreesClassifier</td>\n",
       "      <td>0.666421</td>\n",
       "      <td>0.730688</td>\n",
       "      <td>0.46478</td>\n",
       "      <td>0.685781</td>\n",
       "      <td>0.662805</td>\n",
       "    </tr>\n",
       "  </tbody>\n",
       "</table>\n",
       "</div>"
      ],
      "text/plain": [
       "             Model_Name  Acuracia  Precision   Recall   ROC_AUC  \\\n",
       "0  ExtraTreesClassifier  0.666421   0.730688  0.46478  0.685781   \n",
       "\n",
       "   Precision-Recall  \n",
       "0          0.662805  "
      ]
     },
     "execution_count": 313,
     "metadata": {},
     "output_type": "execute_result"
    }
   ],
   "source": [
    "etx_result = ml_error('ExtraTreesClassifier',etx)\n",
    "etx_result"
   ]
  },
  {
   "cell_type": "markdown",
   "metadata": {
    "heading_collapsed": true,
    "hidden": true
   },
   "source": [
    "### RandonForestClassifier - Todas variavéis"
   ]
  },
  {
   "cell_type": "code",
   "execution_count": 314,
   "metadata": {
    "hidden": true
   },
   "outputs": [
    {
     "data": {
      "text/html": [
       "<div>\n",
       "<style scoped>\n",
       "    .dataframe tbody tr th:only-of-type {\n",
       "        vertical-align: middle;\n",
       "    }\n",
       "\n",
       "    .dataframe tbody tr th {\n",
       "        vertical-align: top;\n",
       "    }\n",
       "\n",
       "    .dataframe thead th {\n",
       "        text-align: right;\n",
       "    }\n",
       "</style>\n",
       "<table border=\"1\" class=\"dataframe\">\n",
       "  <thead>\n",
       "    <tr style=\"text-align: right;\">\n",
       "      <th></th>\n",
       "      <th>Model_Name</th>\n",
       "      <th>Acuracia</th>\n",
       "      <th>Precision</th>\n",
       "      <th>Recall</th>\n",
       "      <th>ROC_AUC</th>\n",
       "      <th>Precision-Recall</th>\n",
       "    </tr>\n",
       "  </thead>\n",
       "  <tbody>\n",
       "    <tr>\n",
       "      <th>0</th>\n",
       "      <td>RandomForestClassifier</td>\n",
       "      <td>0.671198</td>\n",
       "      <td>0.729456</td>\n",
       "      <td>0.482551</td>\n",
       "      <td>0.692199</td>\n",
       "      <td>0.674217</td>\n",
       "    </tr>\n",
       "  </tbody>\n",
       "</table>\n",
       "</div>"
      ],
      "text/plain": [
       "               Model_Name  Acuracia  Precision    Recall   ROC_AUC  \\\n",
       "0  RandomForestClassifier  0.671198   0.729456  0.482551  0.692199   \n",
       "\n",
       "   Precision-Recall  \n",
       "0          0.674217  "
      ]
     },
     "execution_count": 314,
     "metadata": {},
     "output_type": "execute_result"
    }
   ],
   "source": [
    "rfc_result = ml_error('RandomForestClassifier',rfc)\n",
    "rfc_result"
   ]
  },
  {
   "cell_type": "markdown",
   "metadata": {
    "heading_collapsed": true,
    "hidden": true
   },
   "source": [
    "### GradientBoostingClassifier - Todas variavéis"
   ]
  },
  {
   "cell_type": "code",
   "execution_count": 315,
   "metadata": {
    "hidden": true
   },
   "outputs": [
    {
     "data": {
      "text/html": [
       "<div>\n",
       "<style scoped>\n",
       "    .dataframe tbody tr th:only-of-type {\n",
       "        vertical-align: middle;\n",
       "    }\n",
       "\n",
       "    .dataframe tbody tr th {\n",
       "        vertical-align: top;\n",
       "    }\n",
       "\n",
       "    .dataframe thead th {\n",
       "        text-align: right;\n",
       "    }\n",
       "</style>\n",
       "<table border=\"1\" class=\"dataframe\">\n",
       "  <thead>\n",
       "    <tr style=\"text-align: right;\">\n",
       "      <th></th>\n",
       "      <th>Model_Name</th>\n",
       "      <th>Acuracia</th>\n",
       "      <th>Precision</th>\n",
       "      <th>Recall</th>\n",
       "      <th>ROC_AUC</th>\n",
       "      <th>Precision-Recall</th>\n",
       "    </tr>\n",
       "  </thead>\n",
       "  <tbody>\n",
       "    <tr>\n",
       "      <th>0</th>\n",
       "      <td>GradientBoostingClassifier</td>\n",
       "      <td>0.681058</td>\n",
       "      <td>0.720916</td>\n",
       "      <td>0.52925</td>\n",
       "      <td>0.710589</td>\n",
       "      <td>0.706217</td>\n",
       "    </tr>\n",
       "  </tbody>\n",
       "</table>\n",
       "</div>"
      ],
      "text/plain": [
       "                   Model_Name  Acuracia  Precision   Recall   ROC_AUC  \\\n",
       "0  GradientBoostingClassifier  0.681058   0.720916  0.52925  0.710589   \n",
       "\n",
       "   Precision-Recall  \n",
       "0          0.706217  "
      ]
     },
     "execution_count": 315,
     "metadata": {},
     "output_type": "execute_result"
    }
   ],
   "source": [
    "gbc_result = ml_error('GradientBoostingClassifier',gbc)\n",
    "gbc_result"
   ]
  },
  {
   "cell_type": "markdown",
   "metadata": {
    "heading_collapsed": true,
    "hidden": true
   },
   "source": [
    "### XgBoost - Todas variavéis"
   ]
  },
  {
   "cell_type": "code",
   "execution_count": 316,
   "metadata": {
    "hidden": true
   },
   "outputs": [
    {
     "data": {
      "text/html": [
       "<div>\n",
       "<style scoped>\n",
       "    .dataframe tbody tr th:only-of-type {\n",
       "        vertical-align: middle;\n",
       "    }\n",
       "\n",
       "    .dataframe tbody tr th {\n",
       "        vertical-align: top;\n",
       "    }\n",
       "\n",
       "    .dataframe thead th {\n",
       "        text-align: right;\n",
       "    }\n",
       "</style>\n",
       "<table border=\"1\" class=\"dataframe\">\n",
       "  <thead>\n",
       "    <tr style=\"text-align: right;\">\n",
       "      <th></th>\n",
       "      <th>Model_Name</th>\n",
       "      <th>Acuracia</th>\n",
       "      <th>Precision</th>\n",
       "      <th>Recall</th>\n",
       "      <th>ROC_AUC</th>\n",
       "      <th>Precision-Recall</th>\n",
       "    </tr>\n",
       "  </thead>\n",
       "  <tbody>\n",
       "    <tr>\n",
       "      <th>0</th>\n",
       "      <td>XGBClassifier</td>\n",
       "      <td>0.674995</td>\n",
       "      <td>0.724928</td>\n",
       "      <td>0.50253</td>\n",
       "      <td>0.704083</td>\n",
       "      <td>0.695883</td>\n",
       "    </tr>\n",
       "  </tbody>\n",
       "</table>\n",
       "</div>"
      ],
      "text/plain": [
       "      Model_Name  Acuracia  Precision   Recall   ROC_AUC  Precision-Recall\n",
       "0  XGBClassifier  0.674995   0.724928  0.50253  0.704083          0.695883"
      ]
     },
     "execution_count": 316,
     "metadata": {},
     "output_type": "execute_result"
    }
   ],
   "source": [
    "xbc_result = ml_error('XGBClassifier',xbc)\n",
    "xbc_result"
   ]
  },
  {
   "cell_type": "markdown",
   "metadata": {
    "heading_collapsed": true,
    "hidden": true
   },
   "source": [
    "### RidgeClassifier - Todas variavéis"
   ]
  },
  {
   "cell_type": "code",
   "execution_count": 317,
   "metadata": {
    "hidden": true
   },
   "outputs": [
    {
     "data": {
      "text/html": [
       "<div>\n",
       "<style scoped>\n",
       "    .dataframe tbody tr th:only-of-type {\n",
       "        vertical-align: middle;\n",
       "    }\n",
       "\n",
       "    .dataframe tbody tr th {\n",
       "        vertical-align: top;\n",
       "    }\n",
       "\n",
       "    .dataframe thead th {\n",
       "        text-align: right;\n",
       "    }\n",
       "</style>\n",
       "<table border=\"1\" class=\"dataframe\">\n",
       "  <thead>\n",
       "    <tr style=\"text-align: right;\">\n",
       "      <th></th>\n",
       "      <th>Model_Name</th>\n",
       "      <th>Acuracia</th>\n",
       "      <th>Precision</th>\n",
       "      <th>Recall</th>\n",
       "      <th>ROC_AUC</th>\n",
       "      <th>Precision-Recall</th>\n",
       "    </tr>\n",
       "  </thead>\n",
       "  <tbody>\n",
       "    <tr>\n",
       "      <th>0</th>\n",
       "      <td>RidgeClassifier</td>\n",
       "      <td>0.681303</td>\n",
       "      <td>0.725853</td>\n",
       "      <td>0.522116</td>\n",
       "      <td>0.708413</td>\n",
       "      <td>0.697444</td>\n",
       "    </tr>\n",
       "  </tbody>\n",
       "</table>\n",
       "</div>"
      ],
      "text/plain": [
       "        Model_Name  Acuracia  Precision    Recall   ROC_AUC  Precision-Recall\n",
       "0  RidgeClassifier  0.681303   0.725853  0.522116  0.708413          0.697444"
      ]
     },
     "execution_count": 317,
     "metadata": {},
     "output_type": "execute_result"
    }
   ],
   "source": [
    "ridge_result = ml_error('RidgeClassifier',rdg)\n",
    "ridge_result"
   ]
  },
  {
   "cell_type": "markdown",
   "metadata": {
    "heading_collapsed": true,
    "hidden": true
   },
   "source": [
    "### Comparação de Modelos - Todas variavéis"
   ]
  },
  {
   "cell_type": "code",
   "execution_count": 318,
   "metadata": {
    "hidden": true
   },
   "outputs": [
    {
     "data": {
      "text/html": [
       "<div>\n",
       "<style scoped>\n",
       "    .dataframe tbody tr th:only-of-type {\n",
       "        vertical-align: middle;\n",
       "    }\n",
       "\n",
       "    .dataframe tbody tr th {\n",
       "        vertical-align: top;\n",
       "    }\n",
       "\n",
       "    .dataframe thead th {\n",
       "        text-align: right;\n",
       "    }\n",
       "</style>\n",
       "<table border=\"1\" class=\"dataframe\">\n",
       "  <thead>\n",
       "    <tr style=\"text-align: right;\">\n",
       "      <th></th>\n",
       "      <th>Model_Name</th>\n",
       "      <th>Acuracia</th>\n",
       "      <th>Precision</th>\n",
       "      <th>Recall</th>\n",
       "      <th>ROC_AUC</th>\n",
       "      <th>Precision-Recall</th>\n",
       "    </tr>\n",
       "  </thead>\n",
       "  <tbody>\n",
       "    <tr>\n",
       "      <th>0</th>\n",
       "      <td>GradientBoostingClassifier</td>\n",
       "      <td>0.681058</td>\n",
       "      <td>0.720916</td>\n",
       "      <td>0.529250</td>\n",
       "      <td>0.710589</td>\n",
       "      <td>0.706217</td>\n",
       "    </tr>\n",
       "    <tr>\n",
       "      <th>0</th>\n",
       "      <td>Regressão Logistica</td>\n",
       "      <td>0.681915</td>\n",
       "      <td>0.724315</td>\n",
       "      <td>0.526786</td>\n",
       "      <td>0.710317</td>\n",
       "      <td>0.705737</td>\n",
       "    </tr>\n",
       "    <tr>\n",
       "      <th>0</th>\n",
       "      <td>RidgeClassifier</td>\n",
       "      <td>0.681303</td>\n",
       "      <td>0.725853</td>\n",
       "      <td>0.522116</td>\n",
       "      <td>0.708413</td>\n",
       "      <td>0.697444</td>\n",
       "    </tr>\n",
       "    <tr>\n",
       "      <th>0</th>\n",
       "      <td>XGBClassifier</td>\n",
       "      <td>0.674995</td>\n",
       "      <td>0.724928</td>\n",
       "      <td>0.502530</td>\n",
       "      <td>0.704083</td>\n",
       "      <td>0.695883</td>\n",
       "    </tr>\n",
       "    <tr>\n",
       "      <th>0</th>\n",
       "      <td>RandomForestClassifier</td>\n",
       "      <td>0.671198</td>\n",
       "      <td>0.729456</td>\n",
       "      <td>0.482551</td>\n",
       "      <td>0.692199</td>\n",
       "      <td>0.674217</td>\n",
       "    </tr>\n",
       "    <tr>\n",
       "      <th>0</th>\n",
       "      <td>ExtraTreesClassifier</td>\n",
       "      <td>0.666421</td>\n",
       "      <td>0.730688</td>\n",
       "      <td>0.464780</td>\n",
       "      <td>0.685781</td>\n",
       "      <td>0.662805</td>\n",
       "    </tr>\n",
       "    <tr>\n",
       "      <th>0</th>\n",
       "      <td>DecisionTreeClassifier</td>\n",
       "      <td>0.659623</td>\n",
       "      <td>0.726013</td>\n",
       "      <td>0.448046</td>\n",
       "      <td>0.672475</td>\n",
       "      <td>0.656881</td>\n",
       "    </tr>\n",
       "    <tr>\n",
       "      <th>0</th>\n",
       "      <td>Dummy Classifier</td>\n",
       "      <td>0.489803</td>\n",
       "      <td>0.459470</td>\n",
       "      <td>0.456867</td>\n",
       "      <td>0.498001</td>\n",
       "      <td>0.471148</td>\n",
       "    </tr>\n",
       "  </tbody>\n",
       "</table>\n",
       "</div>"
      ],
      "text/plain": [
       "                   Model_Name  Acuracia  Precision    Recall   ROC_AUC  \\\n",
       "0  GradientBoostingClassifier  0.681058   0.720916  0.529250  0.710589   \n",
       "0         Regressão Logistica  0.681915   0.724315  0.526786  0.710317   \n",
       "0             RidgeClassifier  0.681303   0.725853  0.522116  0.708413   \n",
       "0               XGBClassifier  0.674995   0.724928  0.502530  0.704083   \n",
       "0      RandomForestClassifier  0.671198   0.729456  0.482551  0.692199   \n",
       "0        ExtraTreesClassifier  0.666421   0.730688  0.464780  0.685781   \n",
       "0      DecisionTreeClassifier  0.659623   0.726013  0.448046  0.672475   \n",
       "0            Dummy Classifier  0.489803   0.459470  0.456867  0.498001   \n",
       "\n",
       "   Precision-Recall  \n",
       "0          0.706217  \n",
       "0          0.705737  \n",
       "0          0.697444  \n",
       "0          0.695883  \n",
       "0          0.674217  \n",
       "0          0.662805  \n",
       "0          0.656881  \n",
       "0          0.471148  "
      ]
     },
     "execution_count": 318,
     "metadata": {},
     "output_type": "execute_result"
    }
   ],
   "source": [
    "modelling_result = pd.concat([du_result, lr_result,dtc_result,etx_result,rfc_result,gbc_result,xbc_result, ridge_result])\n",
    "modelling_result.sort_values('Precision-Recall', ascending=False)"
   ]
  },
  {
   "cell_type": "markdown",
   "metadata": {
    "heading_collapsed": true,
    "hidden": true
   },
   "source": [
    "### Variavéis escolhidas por feature importance"
   ]
  },
  {
   "cell_type": "code",
   "execution_count": 319,
   "metadata": {
    "hidden": true
   },
   "outputs": [
    {
     "data": {
      "text/html": [
       "<div>\n",
       "<style scoped>\n",
       "    .dataframe tbody tr th:only-of-type {\n",
       "        vertical-align: middle;\n",
       "    }\n",
       "\n",
       "    .dataframe tbody tr th {\n",
       "        vertical-align: top;\n",
       "    }\n",
       "\n",
       "    .dataframe thead th {\n",
       "        text-align: right;\n",
       "    }\n",
       "</style>\n",
       "<table border=\"1\" class=\"dataframe\">\n",
       "  <thead>\n",
       "    <tr style=\"text-align: right;\">\n",
       "      <th></th>\n",
       "      <th>Model_Name</th>\n",
       "      <th>Acuracia</th>\n",
       "      <th>Precision</th>\n",
       "      <th>Recall</th>\n",
       "      <th>ROC_AUC</th>\n",
       "      <th>Precision-Recall</th>\n",
       "    </tr>\n",
       "  </thead>\n",
       "  <tbody>\n",
       "    <tr>\n",
       "      <th>0</th>\n",
       "      <td>Dummy Classifier</td>\n",
       "      <td>0.50052</td>\n",
       "      <td>0.471156</td>\n",
       "      <td>0.473732</td>\n",
       "      <td>0.498145</td>\n",
       "      <td>0.47122</td>\n",
       "    </tr>\n",
       "  </tbody>\n",
       "</table>\n",
       "</div>"
      ],
      "text/plain": [
       "         Model_Name  Acuracia  Precision    Recall   ROC_AUC  Precision-Recall\n",
       "0  Dummy Classifier   0.50052   0.471156  0.473732  0.498145           0.47122"
      ]
     },
     "execution_count": 319,
     "metadata": {},
     "output_type": "execute_result"
    }
   ],
   "source": [
    "du_result = ml_error_fi('Dummy Classifier', du)\n",
    "du_result"
   ]
  },
  {
   "cell_type": "code",
   "execution_count": 320,
   "metadata": {
    "hidden": true
   },
   "outputs": [
    {
     "data": {
      "text/html": [
       "<div>\n",
       "<style scoped>\n",
       "    .dataframe tbody tr th:only-of-type {\n",
       "        vertical-align: middle;\n",
       "    }\n",
       "\n",
       "    .dataframe tbody tr th {\n",
       "        vertical-align: top;\n",
       "    }\n",
       "\n",
       "    .dataframe thead th {\n",
       "        text-align: right;\n",
       "    }\n",
       "</style>\n",
       "<table border=\"1\" class=\"dataframe\">\n",
       "  <thead>\n",
       "    <tr style=\"text-align: right;\">\n",
       "      <th></th>\n",
       "      <th>Model_Name</th>\n",
       "      <th>Acuracia</th>\n",
       "      <th>Precision</th>\n",
       "      <th>Recall</th>\n",
       "      <th>ROC_AUC</th>\n",
       "      <th>Precision-Recall</th>\n",
       "    </tr>\n",
       "  </thead>\n",
       "  <tbody>\n",
       "    <tr>\n",
       "      <th>0</th>\n",
       "      <td>Regressão Logistica</td>\n",
       "      <td>0.676342</td>\n",
       "      <td>0.729072</td>\n",
       "      <td>0.500453</td>\n",
       "      <td>0.6912</td>\n",
       "      <td>0.667926</td>\n",
       "    </tr>\n",
       "  </tbody>\n",
       "</table>\n",
       "</div>"
      ],
      "text/plain": [
       "            Model_Name  Acuracia  Precision    Recall  ROC_AUC  \\\n",
       "0  Regressão Logistica  0.676342   0.729072  0.500453   0.6912   \n",
       "\n",
       "   Precision-Recall  \n",
       "0          0.667926  "
      ]
     },
     "execution_count": 320,
     "metadata": {},
     "output_type": "execute_result"
    }
   ],
   "source": [
    "lr_result = ml_error_fi('Regressão Logistica',lr)\n",
    "lr_result"
   ]
  },
  {
   "cell_type": "code",
   "execution_count": 321,
   "metadata": {
    "hidden": true
   },
   "outputs": [
    {
     "data": {
      "text/html": [
       "<div>\n",
       "<style scoped>\n",
       "    .dataframe tbody tr th:only-of-type {\n",
       "        vertical-align: middle;\n",
       "    }\n",
       "\n",
       "    .dataframe tbody tr th {\n",
       "        vertical-align: top;\n",
       "    }\n",
       "\n",
       "    .dataframe thead th {\n",
       "        text-align: right;\n",
       "    }\n",
       "</style>\n",
       "<table border=\"1\" class=\"dataframe\">\n",
       "  <thead>\n",
       "    <tr style=\"text-align: right;\">\n",
       "      <th></th>\n",
       "      <th>Model_Name</th>\n",
       "      <th>Acuracia</th>\n",
       "      <th>Precision</th>\n",
       "      <th>Recall</th>\n",
       "      <th>ROC_AUC</th>\n",
       "      <th>Precision-Recall</th>\n",
       "    </tr>\n",
       "  </thead>\n",
       "  <tbody>\n",
       "    <tr>\n",
       "      <th>0</th>\n",
       "      <td>DecisionTreeClassifier</td>\n",
       "      <td>0.673831</td>\n",
       "      <td>0.715224</td>\n",
       "      <td>0.513554</td>\n",
       "      <td>0.679899</td>\n",
       "      <td>0.649197</td>\n",
       "    </tr>\n",
       "  </tbody>\n",
       "</table>\n",
       "</div>"
      ],
      "text/plain": [
       "               Model_Name  Acuracia  Precision    Recall   ROC_AUC  \\\n",
       "0  DecisionTreeClassifier  0.673831   0.715224  0.513554  0.679899   \n",
       "\n",
       "   Precision-Recall  \n",
       "0          0.649197  "
      ]
     },
     "execution_count": 321,
     "metadata": {},
     "output_type": "execute_result"
    }
   ],
   "source": [
    "dtc_result = ml_error_fi('DecisionTreeClassifier',dtc)\n",
    "dtc_result"
   ]
  },
  {
   "cell_type": "code",
   "execution_count": 322,
   "metadata": {
    "hidden": true
   },
   "outputs": [
    {
     "data": {
      "text/html": [
       "<div>\n",
       "<style scoped>\n",
       "    .dataframe tbody tr th:only-of-type {\n",
       "        vertical-align: middle;\n",
       "    }\n",
       "\n",
       "    .dataframe tbody tr th {\n",
       "        vertical-align: top;\n",
       "    }\n",
       "\n",
       "    .dataframe thead th {\n",
       "        text-align: right;\n",
       "    }\n",
       "</style>\n",
       "<table border=\"1\" class=\"dataframe\">\n",
       "  <thead>\n",
       "    <tr style=\"text-align: right;\">\n",
       "      <th></th>\n",
       "      <th>Model_Name</th>\n",
       "      <th>Acuracia</th>\n",
       "      <th>Precision</th>\n",
       "      <th>Recall</th>\n",
       "      <th>ROC_AUC</th>\n",
       "      <th>Precision-Recall</th>\n",
       "    </tr>\n",
       "  </thead>\n",
       "  <tbody>\n",
       "    <tr>\n",
       "      <th>0</th>\n",
       "      <td>ExtraTreesClassifier</td>\n",
       "      <td>0.676342</td>\n",
       "      <td>0.717003</td>\n",
       "      <td>0.519392</td>\n",
       "      <td>0.68371</td>\n",
       "      <td>0.651573</td>\n",
       "    </tr>\n",
       "  </tbody>\n",
       "</table>\n",
       "</div>"
      ],
      "text/plain": [
       "             Model_Name  Acuracia  Precision    Recall  ROC_AUC  \\\n",
       "0  ExtraTreesClassifier  0.676342   0.717003  0.519392  0.68371   \n",
       "\n",
       "   Precision-Recall  \n",
       "0          0.651573  "
      ]
     },
     "execution_count": 322,
     "metadata": {},
     "output_type": "execute_result"
    }
   ],
   "source": [
    "etx_result = ml_error_fi('ExtraTreesClassifier',etx)\n",
    "etx_result"
   ]
  },
  {
   "cell_type": "code",
   "execution_count": 323,
   "metadata": {
    "hidden": true
   },
   "outputs": [
    {
     "data": {
      "text/html": [
       "<div>\n",
       "<style scoped>\n",
       "    .dataframe tbody tr th:only-of-type {\n",
       "        vertical-align: middle;\n",
       "    }\n",
       "\n",
       "    .dataframe tbody tr th {\n",
       "        vertical-align: top;\n",
       "    }\n",
       "\n",
       "    .dataframe thead th {\n",
       "        text-align: right;\n",
       "    }\n",
       "</style>\n",
       "<table border=\"1\" class=\"dataframe\">\n",
       "  <thead>\n",
       "    <tr style=\"text-align: right;\">\n",
       "      <th></th>\n",
       "      <th>Model_Name</th>\n",
       "      <th>Acuracia</th>\n",
       "      <th>Precision</th>\n",
       "      <th>Recall</th>\n",
       "      <th>ROC_AUC</th>\n",
       "      <th>Precision-Recall</th>\n",
       "    </tr>\n",
       "  </thead>\n",
       "  <tbody>\n",
       "    <tr>\n",
       "      <th>0</th>\n",
       "      <td>RandomForestClassifier</td>\n",
       "      <td>0.678669</td>\n",
       "      <td>0.718545</td>\n",
       "      <td>0.524969</td>\n",
       "      <td>0.68509</td>\n",
       "      <td>0.653233</td>\n",
       "    </tr>\n",
       "  </tbody>\n",
       "</table>\n",
       "</div>"
      ],
      "text/plain": [
       "               Model_Name  Acuracia  Precision    Recall  ROC_AUC  \\\n",
       "0  RandomForestClassifier  0.678669   0.718545  0.524969  0.68509   \n",
       "\n",
       "   Precision-Recall  \n",
       "0          0.653233  "
      ]
     },
     "execution_count": 323,
     "metadata": {},
     "output_type": "execute_result"
    }
   ],
   "source": [
    "rfc_result = ml_error_fi('RandomForestClassifier',rfc)\n",
    "rfc_result"
   ]
  },
  {
   "cell_type": "code",
   "execution_count": 324,
   "metadata": {
    "hidden": true
   },
   "outputs": [
    {
     "data": {
      "text/html": [
       "<div>\n",
       "<style scoped>\n",
       "    .dataframe tbody tr th:only-of-type {\n",
       "        vertical-align: middle;\n",
       "    }\n",
       "\n",
       "    .dataframe tbody tr th {\n",
       "        vertical-align: top;\n",
       "    }\n",
       "\n",
       "    .dataframe thead th {\n",
       "        text-align: right;\n",
       "    }\n",
       "</style>\n",
       "<table border=\"1\" class=\"dataframe\">\n",
       "  <thead>\n",
       "    <tr style=\"text-align: right;\">\n",
       "      <th></th>\n",
       "      <th>Model_Name</th>\n",
       "      <th>Acuracia</th>\n",
       "      <th>Precision</th>\n",
       "      <th>Recall</th>\n",
       "      <th>ROC_AUC</th>\n",
       "      <th>Precision-Recall</th>\n",
       "    </tr>\n",
       "  </thead>\n",
       "  <tbody>\n",
       "    <tr>\n",
       "      <th>0</th>\n",
       "      <td>GradientBoostingClassifier</td>\n",
       "      <td>0.682773</td>\n",
       "      <td>0.720751</td>\n",
       "      <td>0.535476</td>\n",
       "      <td>0.6906</td>\n",
       "      <td>0.667645</td>\n",
       "    </tr>\n",
       "  </tbody>\n",
       "</table>\n",
       "</div>"
      ],
      "text/plain": [
       "                   Model_Name  Acuracia  Precision    Recall  ROC_AUC  \\\n",
       "0  GradientBoostingClassifier  0.682773   0.720751  0.535476   0.6906   \n",
       "\n",
       "   Precision-Recall  \n",
       "0          0.667645  "
      ]
     },
     "execution_count": 324,
     "metadata": {},
     "output_type": "execute_result"
    }
   ],
   "source": [
    "gbc_result = ml_error_fi('GradientBoostingClassifier',gbc)\n",
    "gbc_result"
   ]
  },
  {
   "cell_type": "code",
   "execution_count": 325,
   "metadata": {
    "hidden": true
   },
   "outputs": [
    {
     "data": {
      "text/html": [
       "<div>\n",
       "<style scoped>\n",
       "    .dataframe tbody tr th:only-of-type {\n",
       "        vertical-align: middle;\n",
       "    }\n",
       "\n",
       "    .dataframe tbody tr th {\n",
       "        vertical-align: top;\n",
       "    }\n",
       "\n",
       "    .dataframe thead th {\n",
       "        text-align: right;\n",
       "    }\n",
       "</style>\n",
       "<table border=\"1\" class=\"dataframe\">\n",
       "  <thead>\n",
       "    <tr style=\"text-align: right;\">\n",
       "      <th></th>\n",
       "      <th>Model_Name</th>\n",
       "      <th>Acuracia</th>\n",
       "      <th>Precision</th>\n",
       "      <th>Recall</th>\n",
       "      <th>ROC_AUC</th>\n",
       "      <th>Precision-Recall</th>\n",
       "    </tr>\n",
       "  </thead>\n",
       "  <tbody>\n",
       "    <tr>\n",
       "      <th>0</th>\n",
       "      <td>XGBClassifier</td>\n",
       "      <td>0.681241</td>\n",
       "      <td>0.720046</td>\n",
       "      <td>0.531325</td>\n",
       "      <td>0.689626</td>\n",
       "      <td>0.66481</td>\n",
       "    </tr>\n",
       "  </tbody>\n",
       "</table>\n",
       "</div>"
      ],
      "text/plain": [
       "      Model_Name  Acuracia  Precision    Recall   ROC_AUC  Precision-Recall\n",
       "0  XGBClassifier  0.681241   0.720046  0.531325  0.689626           0.66481"
      ]
     },
     "execution_count": 325,
     "metadata": {},
     "output_type": "execute_result"
    }
   ],
   "source": [
    "xbc_result = ml_error_fi('XGBClassifier',xbc)\n",
    "xbc_result"
   ]
  },
  {
   "cell_type": "code",
   "execution_count": 326,
   "metadata": {
    "hidden": true
   },
   "outputs": [
    {
     "data": {
      "text/html": [
       "<div>\n",
       "<style scoped>\n",
       "    .dataframe tbody tr th:only-of-type {\n",
       "        vertical-align: middle;\n",
       "    }\n",
       "\n",
       "    .dataframe tbody tr th {\n",
       "        vertical-align: top;\n",
       "    }\n",
       "\n",
       "    .dataframe thead th {\n",
       "        text-align: right;\n",
       "    }\n",
       "</style>\n",
       "<table border=\"1\" class=\"dataframe\">\n",
       "  <thead>\n",
       "    <tr style=\"text-align: right;\">\n",
       "      <th></th>\n",
       "      <th>Model_Name</th>\n",
       "      <th>Acuracia</th>\n",
       "      <th>Precision</th>\n",
       "      <th>Recall</th>\n",
       "      <th>ROC_AUC</th>\n",
       "      <th>Precision-Recall</th>\n",
       "    </tr>\n",
       "  </thead>\n",
       "  <tbody>\n",
       "    <tr>\n",
       "      <th>0</th>\n",
       "      <td>RidgeClassifier</td>\n",
       "      <td>0.665687</td>\n",
       "      <td>0.737345</td>\n",
       "      <td>0.453365</td>\n",
       "      <td>0.686596</td>\n",
       "      <td>0.651663</td>\n",
       "    </tr>\n",
       "  </tbody>\n",
       "</table>\n",
       "</div>"
      ],
      "text/plain": [
       "        Model_Name  Acuracia  Precision    Recall   ROC_AUC  Precision-Recall\n",
       "0  RidgeClassifier  0.665687   0.737345  0.453365  0.686596          0.651663"
      ]
     },
     "execution_count": 326,
     "metadata": {},
     "output_type": "execute_result"
    }
   ],
   "source": [
    "ridge_result = ml_error_fi('RidgeClassifier',rdg)\n",
    "ridge_result"
   ]
  },
  {
   "cell_type": "code",
   "execution_count": 327,
   "metadata": {
    "hidden": true
   },
   "outputs": [
    {
     "data": {
      "text/html": [
       "<div>\n",
       "<style scoped>\n",
       "    .dataframe tbody tr th:only-of-type {\n",
       "        vertical-align: middle;\n",
       "    }\n",
       "\n",
       "    .dataframe tbody tr th {\n",
       "        vertical-align: top;\n",
       "    }\n",
       "\n",
       "    .dataframe thead th {\n",
       "        text-align: right;\n",
       "    }\n",
       "</style>\n",
       "<table border=\"1\" class=\"dataframe\">\n",
       "  <thead>\n",
       "    <tr style=\"text-align: right;\">\n",
       "      <th></th>\n",
       "      <th>Model_Name</th>\n",
       "      <th>Acuracia</th>\n",
       "      <th>Precision</th>\n",
       "      <th>Recall</th>\n",
       "      <th>ROC_AUC</th>\n",
       "      <th>Precision-Recall</th>\n",
       "    </tr>\n",
       "  </thead>\n",
       "  <tbody>\n",
       "    <tr>\n",
       "      <th>0</th>\n",
       "      <td>Regressão Logistica</td>\n",
       "      <td>0.676342</td>\n",
       "      <td>0.729072</td>\n",
       "      <td>0.500453</td>\n",
       "      <td>0.691200</td>\n",
       "      <td>0.667926</td>\n",
       "    </tr>\n",
       "    <tr>\n",
       "      <th>0</th>\n",
       "      <td>GradientBoostingClassifier</td>\n",
       "      <td>0.682773</td>\n",
       "      <td>0.720751</td>\n",
       "      <td>0.535476</td>\n",
       "      <td>0.690600</td>\n",
       "      <td>0.667645</td>\n",
       "    </tr>\n",
       "    <tr>\n",
       "      <th>0</th>\n",
       "      <td>XGBClassifier</td>\n",
       "      <td>0.681241</td>\n",
       "      <td>0.720046</td>\n",
       "      <td>0.531325</td>\n",
       "      <td>0.689626</td>\n",
       "      <td>0.664810</td>\n",
       "    </tr>\n",
       "    <tr>\n",
       "      <th>0</th>\n",
       "      <td>RandomForestClassifier</td>\n",
       "      <td>0.678669</td>\n",
       "      <td>0.718545</td>\n",
       "      <td>0.524969</td>\n",
       "      <td>0.685090</td>\n",
       "      <td>0.653233</td>\n",
       "    </tr>\n",
       "    <tr>\n",
       "      <th>0</th>\n",
       "      <td>RidgeClassifier</td>\n",
       "      <td>0.665687</td>\n",
       "      <td>0.737345</td>\n",
       "      <td>0.453365</td>\n",
       "      <td>0.686596</td>\n",
       "      <td>0.651663</td>\n",
       "    </tr>\n",
       "    <tr>\n",
       "      <th>0</th>\n",
       "      <td>ExtraTreesClassifier</td>\n",
       "      <td>0.676342</td>\n",
       "      <td>0.717003</td>\n",
       "      <td>0.519392</td>\n",
       "      <td>0.683710</td>\n",
       "      <td>0.651573</td>\n",
       "    </tr>\n",
       "    <tr>\n",
       "      <th>0</th>\n",
       "      <td>DecisionTreeClassifier</td>\n",
       "      <td>0.673831</td>\n",
       "      <td>0.715224</td>\n",
       "      <td>0.513554</td>\n",
       "      <td>0.679899</td>\n",
       "      <td>0.649197</td>\n",
       "    </tr>\n",
       "    <tr>\n",
       "      <th>0</th>\n",
       "      <td>Dummy Classifier</td>\n",
       "      <td>0.500520</td>\n",
       "      <td>0.471156</td>\n",
       "      <td>0.473732</td>\n",
       "      <td>0.498145</td>\n",
       "      <td>0.471220</td>\n",
       "    </tr>\n",
       "  </tbody>\n",
       "</table>\n",
       "</div>"
      ],
      "text/plain": [
       "                   Model_Name  Acuracia  Precision    Recall   ROC_AUC  \\\n",
       "0         Regressão Logistica  0.676342   0.729072  0.500453  0.691200   \n",
       "0  GradientBoostingClassifier  0.682773   0.720751  0.535476  0.690600   \n",
       "0               XGBClassifier  0.681241   0.720046  0.531325  0.689626   \n",
       "0      RandomForestClassifier  0.678669   0.718545  0.524969  0.685090   \n",
       "0             RidgeClassifier  0.665687   0.737345  0.453365  0.686596   \n",
       "0        ExtraTreesClassifier  0.676342   0.717003  0.519392  0.683710   \n",
       "0      DecisionTreeClassifier  0.673831   0.715224  0.513554  0.679899   \n",
       "0            Dummy Classifier  0.500520   0.471156  0.473732  0.498145   \n",
       "\n",
       "   Precision-Recall  \n",
       "0          0.667926  \n",
       "0          0.667645  \n",
       "0          0.664810  \n",
       "0          0.653233  \n",
       "0          0.651663  \n",
       "0          0.651573  \n",
       "0          0.649197  \n",
       "0          0.471220  "
      ]
     },
     "execution_count": 327,
     "metadata": {},
     "output_type": "execute_result"
    }
   ],
   "source": [
    "modelling_result = pd.concat([du_result, lr_result,dtc_result,etx_result,rfc_result,gbc_result,xbc_result, ridge_result])\n",
    "modelling_result.sort_values('Precision-Recall', ascending=False)"
   ]
  },
  {
   "cell_type": "markdown",
   "metadata": {
    "hidden": true
   },
   "source": [
    "### Análise"
   ]
  },
  {
   "cell_type": "markdown",
   "metadata": {
    "hidden": true
   },
   "source": [
    "**Não existe uma difrença muito grande entre os resultados com todas as variavéis ou com o resultado com as variavéis do Feature importance. Por isto irei usar apenas as variavéis que o Feature Importance indicou pois um modelo mais simples é mais generalizado**"
   ]
  },
  {
   "cell_type": "markdown",
   "metadata": {
    "heading_collapsed": true,
    "hidden": true
   },
   "source": [
    "### Hyperparameter Fine-Tuning - Regression Logistic"
   ]
  },
  {
   "cell_type": "code",
   "execution_count": 328,
   "metadata": {
    "hidden": true
   },
   "outputs": [
    {
     "data": {
      "text/plain": [
       "RandomizedSearchCV(cv=5, error_score=nan,\n",
       "                   estimator=LogisticRegression(C=1.0, class_weight=None,\n",
       "                                                dual=False, fit_intercept=True,\n",
       "                                                intercept_scaling=1,\n",
       "                                                l1_ratio=None, max_iter=100,\n",
       "                                                multi_class='auto', n_jobs=None,\n",
       "                                                penalty='l2', random_state=None,\n",
       "                                                solver='lbfgs', tol=0.0001,\n",
       "                                                verbose=0, warm_start=False),\n",
       "                   iid='deprecated', n_iter=10, n_jobs=None,\n",
       "                   param_distributions=[{'penalty': ['l1', 'l2', 'elasticnet'],\n",
       "                                         'tol': [0.0001, 0.001, 0.01]}],\n",
       "                   pre_dispatch='2*n_jobs', random_state=None, refit=True,\n",
       "                   return_train_score=False, scoring=None, verbose=0)"
      ]
     },
     "execution_count": 328,
     "metadata": {},
     "output_type": "execute_result"
    }
   ],
   "source": [
    "param_grid = [{'penalty':['l1', 'l2', 'elasticnet'], 'tol':[0.0001, 0.001, 0.01]}]\n",
    "grid = RandomizedSearchCV(lr, param_grid, cv=kfold)\n",
    "grid.fit(X_train_fi,y_train)"
   ]
  },
  {
   "cell_type": "code",
   "execution_count": 329,
   "metadata": {
    "hidden": true
   },
   "outputs": [
    {
     "data": {
      "text/plain": [
       "{'tol': 0.0001, 'penalty': 'l2'}"
      ]
     },
     "execution_count": 329,
     "metadata": {},
     "output_type": "execute_result"
    }
   ],
   "source": [
    "grid.best_params_"
   ]
  },
  {
   "cell_type": "markdown",
   "metadata": {
    "hidden": true
   },
   "source": [
    "### Resultados Regression Logistic"
   ]
  },
  {
   "cell_type": "code",
   "execution_count": 330,
   "metadata": {
    "hidden": true
   },
   "outputs": [
    {
     "data": {
      "text/plain": [
       "LogisticRegression(C=1.0, class_weight=None, dual=False, fit_intercept=True,\n",
       "                   intercept_scaling=1, l1_ratio=None, max_iter=100,\n",
       "                   multi_class='auto', n_jobs=None, penalty='l2',\n",
       "                   random_state=None, solver='lbfgs', tol=0.0001, verbose=0,\n",
       "                   warm_start=False)"
      ]
     },
     "execution_count": 330,
     "metadata": {},
     "output_type": "execute_result"
    }
   ],
   "source": [
    "lr.fit(X_train_fi, y_train)"
   ]
  },
  {
   "cell_type": "code",
   "execution_count": 331,
   "metadata": {
    "hidden": true
   },
   "outputs": [],
   "source": [
    "y_pred = lr.predict(X_test_fi)"
   ]
  },
  {
   "cell_type": "code",
   "execution_count": 332,
   "metadata": {
    "hidden": true
   },
   "outputs": [
    {
     "data": {
      "image/png": "[encoded data removed]",
      "text/plain": [
       "<Figure size 432x288 with 2 Axes>"
      ]
     },
     "metadata": {
      "needs_background": "light"
     },
     "output_type": "display_data"
    }
   ],
   "source": [
    "skplt.metrics.plot_confusion_matrix(y_test, y_pred,normalize=True,labels=[1,0]);"
   ]
  },
  {
   "cell_type": "code",
   "execution_count": 333,
   "metadata": {
    "hidden": true
   },
   "outputs": [
    {
     "name": "stdout",
     "output_type": "stream",
     "text": [
      "De todos os Clientes que foi previsto que fariam compra adicional, o modelo acertou: 73.0 %\n",
      "De todos os Clientes que efetivamente fizeram uma compra adicional, o modelo acertou: 52.0 %\n"
     ]
    }
   ],
   "source": [
    "recall = recall_score(y_test, y_pred).round(2)*100\n",
    "precision = precision_score(y_test, y_pred).round(2)*100\n",
    "\n",
    "print(\"De todos os Clientes que foi previsto que fariam compra adicional, o modelo acertou:\", precision, '%')\n",
    "print(\"De todos os Clientes que efetivamente fizeram uma compra adicional, o modelo acertou:\", recall, '%')"
   ]
  },
  {
   "cell_type": "markdown",
   "metadata": {
    "heading_collapsed": true,
    "hidden": true
   },
   "source": [
    "## Análise"
   ]
  },
  {
   "cell_type": "markdown",
   "metadata": {
    "hidden": true
   },
   "source": [
    "**Como os dois modelos tiveram performance parecida, o ideal seria usar o modelo de Regressão Logística ao modelo de GradienteBoosting pois o modelo mais simples é o modelo que tem mais capacidade de generalização.**"
   ]
  },
  {
   "cell_type": "markdown",
   "metadata": {
    "heading_collapsed": true,
    "hidden": true
   },
   "source": [
    "## Predição de Probabilidades"
   ]
  },
  {
   "cell_type": "code",
   "execution_count": 343,
   "metadata": {
    "hidden": true
   },
   "outputs": [],
   "source": [
    "y_pred_proba = lr.predict_proba(X_test_fi)[:,1]\n",
    "\n",
    "y_pred_proba = y_pred_proba.round(2)\n",
    "\n",
    "y_pred_proba = pd.DataFrame(y_pred_proba)\n",
    "\n",
    "X_test_copy = X_test_copy['id_cliente_hash'].reset_index()\n",
    "\n",
    "df_proba = pd.concat([X_test_copy, y_pred_proba], axis=1)\n",
    "\n",
    "df_proba.columns = ['index', 'id_cliente', 'probabilidade']"
   ]
  },
  {
   "cell_type": "code",
   "execution_count": 348,
   "metadata": {
    "hidden": true
   },
   "outputs": [],
   "source": [
    "df_proba = df_proba.sort_values('probabilidade', ascending=False)"
   ]
  },
  {
   "cell_type": "code",
   "execution_count": 349,
   "metadata": {
    "hidden": true
   },
   "outputs": [
    {
     "data": {
      "text/html": [
       "<div>\n",
       "<style scoped>\n",
       "    .dataframe tbody tr th:only-of-type {\n",
       "        vertical-align: middle;\n",
       "    }\n",
       "\n",
       "    .dataframe tbody tr th {\n",
       "        vertical-align: top;\n",
       "    }\n",
       "\n",
       "    .dataframe thead th {\n",
       "        text-align: right;\n",
       "    }\n",
       "</style>\n",
       "<table border=\"1\" class=\"dataframe\">\n",
       "  <thead>\n",
       "    <tr style=\"text-align: right;\">\n",
       "      <th></th>\n",
       "      <th>index</th>\n",
       "      <th>id_cliente</th>\n",
       "      <th>probabilidade</th>\n",
       "    </tr>\n",
       "  </thead>\n",
       "  <tbody>\n",
       "    <tr>\n",
       "      <th>311</th>\n",
       "      <td>311</td>\n",
       "      <td>-9017233728380773376</td>\n",
       "      <td>1.00</td>\n",
       "    </tr>\n",
       "    <tr>\n",
       "      <th>4362</th>\n",
       "      <td>4362</td>\n",
       "      <td>-2889174536654586368</td>\n",
       "      <td>1.00</td>\n",
       "    </tr>\n",
       "    <tr>\n",
       "      <th>2296</th>\n",
       "      <td>2296</td>\n",
       "      <td>9059087813476462592</td>\n",
       "      <td>1.00</td>\n",
       "    </tr>\n",
       "    <tr>\n",
       "      <th>1679</th>\n",
       "      <td>1679</td>\n",
       "      <td>6858252281312719872</td>\n",
       "      <td>1.00</td>\n",
       "    </tr>\n",
       "    <tr>\n",
       "      <th>1776</th>\n",
       "      <td>1776</td>\n",
       "      <td>3995984459686725632</td>\n",
       "      <td>1.00</td>\n",
       "    </tr>\n",
       "    <tr>\n",
       "      <th>...</th>\n",
       "      <td>...</td>\n",
       "      <td>...</td>\n",
       "      <td>...</td>\n",
       "    </tr>\n",
       "    <tr>\n",
       "      <th>1317</th>\n",
       "      <td>1317</td>\n",
       "      <td>4321565155456569856</td>\n",
       "      <td>0.35</td>\n",
       "    </tr>\n",
       "    <tr>\n",
       "      <th>3116</th>\n",
       "      <td>3116</td>\n",
       "      <td>328259338995055040</td>\n",
       "      <td>0.35</td>\n",
       "    </tr>\n",
       "    <tr>\n",
       "      <th>3117</th>\n",
       "      <td>3117</td>\n",
       "      <td>7126509576126911488</td>\n",
       "      <td>0.35</td>\n",
       "    </tr>\n",
       "    <tr>\n",
       "      <th>1316</th>\n",
       "      <td>1316</td>\n",
       "      <td>-6470902821264287744</td>\n",
       "      <td>0.35</td>\n",
       "    </tr>\n",
       "    <tr>\n",
       "      <th>2722</th>\n",
       "      <td>2722</td>\n",
       "      <td>-416452297585621696</td>\n",
       "      <td>0.35</td>\n",
       "    </tr>\n",
       "  </tbody>\n",
       "</table>\n",
       "<p>5444 rows × 3 columns</p>\n",
       "</div>"
      ],
      "text/plain": [
       "      index           id_cliente  probabilidade\n",
       "311     311 -9017233728380773376           1.00\n",
       "4362   4362 -2889174536654586368           1.00\n",
       "2296   2296  9059087813476462592           1.00\n",
       "1679   1679  6858252281312719872           1.00\n",
       "1776   1776  3995984459686725632           1.00\n",
       "...     ...                  ...            ...\n",
       "1317   1317  4321565155456569856           0.35\n",
       "3116   3116   328259338995055040           0.35\n",
       "3117   3117  7126509576126911488           0.35\n",
       "1316   1316 -6470902821264287744           0.35\n",
       "2722   2722  -416452297585621696           0.35\n",
       "\n",
       "[5444 rows x 3 columns]"
      ]
     },
     "execution_count": 349,
     "metadata": {},
     "output_type": "execute_result"
    }
   ],
   "source": [
    "df_proba"
   ]
  },
  {
   "cell_type": "code",
   "execution_count": null,
   "metadata": {
    "hidden": true
   },
   "outputs": [],
   "source": []
  }
 ],
 "metadata": {
  "kernelspec": {
   "display_name": "Python 3",
   "language": "python",
   "name": "python3"
  },
  "language_info": {
   "codemirror_mode": {
    "name": "ipython",
    "version": 3
   },
   "file_extension": ".py",
   "mimetype": "text/x-python",
   "name": "python",
   "nbconvert_exporter": "python",
   "pygments_lexer": "ipython3",
   "version": "3.7.6"
  }
 },
 "nbformat": 4,
 "nbformat_minor": 4
}
