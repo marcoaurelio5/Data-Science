{
 "cells": [
  {
   "cell_type": "markdown",
   "id": "0d6c2ad2",
   "metadata": {},
   "source": [
    "# 0.0 - Imports"
   ]
  },
  {
   "cell_type": "code",
   "execution_count": 2,
   "id": "b7d7e188",
   "metadata": {},
   "outputs": [],
   "source": [
    "import pandas as pd\n",
    "import warnings\n",
    "warnings.filterwarnings('ignore')"
   ]
  },
  {
   "cell_type": "markdown",
   "id": "6b72f0c5",
   "metadata": {},
   "source": [
    "## 0.1 - Helper Functions"
   ]
  },
  {
   "cell_type": "markdown",
   "id": "f401ffa9",
   "metadata": {},
   "source": [
    "## 0.2 - Read Csv"
   ]
  },
  {
   "cell_type": "code",
   "execution_count": 27,
   "id": "db214cbc",
   "metadata": {},
   "outputs": [],
   "source": [
    "df_sales_raw = pd.read_csv(r\"C:\\Users\\Marco\\Desktop\\Data Science\\Projetos Data Science\\Rossman Project\\Rossman\\data\\external\\train.csv\", low_memory=False)\n",
    "df_store_raw = pd.read_csv(r\"C:\\Users\\Marco\\Desktop\\Data Science\\Projetos Data Science\\Rossman Project\\Rossman\\data\\external\\store.csv\")\n",
    "\n",
    "df_raw = pd.merge(df_store_raw, df_sales_raw, how='left', on='Store')"
   ]
  },
  {
   "cell_type": "code",
   "execution_count": 28,
   "id": "3f3e05f8",
   "metadata": {},
   "outputs": [
    {
     "data": {
      "text/html": [
       "<div>\n",
       "<style scoped>\n",
       "    .dataframe tbody tr th:only-of-type {\n",
       "        vertical-align: middle;\n",
       "    }\n",
       "\n",
       "    .dataframe tbody tr th {\n",
       "        vertical-align: top;\n",
       "    }\n",
       "\n",
       "    .dataframe thead th {\n",
       "        text-align: right;\n",
       "    }\n",
       "</style>\n",
       "<table border=\"1\" class=\"dataframe\">\n",
       "  <thead>\n",
       "    <tr style=\"text-align: right;\">\n",
       "      <th></th>\n",
       "      <th>Store</th>\n",
       "      <th>StoreType</th>\n",
       "      <th>Assortment</th>\n",
       "      <th>CompetitionDistance</th>\n",
       "      <th>CompetitionOpenSinceMonth</th>\n",
       "      <th>CompetitionOpenSinceYear</th>\n",
       "      <th>Promo2</th>\n",
       "      <th>Promo2SinceWeek</th>\n",
       "      <th>Promo2SinceYear</th>\n",
       "      <th>PromoInterval</th>\n",
       "      <th>DayOfWeek</th>\n",
       "      <th>Date</th>\n",
       "      <th>Sales</th>\n",
       "      <th>Customers</th>\n",
       "      <th>Open</th>\n",
       "      <th>Promo</th>\n",
       "      <th>StateHoliday</th>\n",
       "      <th>SchoolHoliday</th>\n",
       "    </tr>\n",
       "  </thead>\n",
       "  <tbody>\n",
       "    <tr>\n",
       "      <th>77161</th>\n",
       "      <td>85</td>\n",
       "      <td>b</td>\n",
       "      <td>a</td>\n",
       "      <td>1870.0</td>\n",
       "      <td>10.0</td>\n",
       "      <td>2011.0</td>\n",
       "      <td>0</td>\n",
       "      <td>NaN</td>\n",
       "      <td>NaN</td>\n",
       "      <td>NaN</td>\n",
       "      <td>7</td>\n",
       "      <td>2014-06-01</td>\n",
       "      <td>11528</td>\n",
       "      <td>1628</td>\n",
       "      <td>1</td>\n",
       "      <td>0</td>\n",
       "      <td>0</td>\n",
       "      <td>0</td>\n",
       "    </tr>\n",
       "  </tbody>\n",
       "</table>\n",
       "</div>"
      ],
      "text/plain": [
       "       Store StoreType Assortment  CompetitionDistance  \\\n",
       "77161     85         b          a               1870.0   \n",
       "\n",
       "       CompetitionOpenSinceMonth  CompetitionOpenSinceYear  Promo2  \\\n",
       "77161                       10.0                    2011.0       0   \n",
       "\n",
       "       Promo2SinceWeek  Promo2SinceYear PromoInterval  DayOfWeek        Date  \\\n",
       "77161              NaN              NaN           NaN          7  2014-06-01   \n",
       "\n",
       "       Sales  Customers  Open  Promo StateHoliday  SchoolHoliday  \n",
       "77161  11528       1628     1      0            0              0  "
      ]
     },
     "execution_count": 28,
     "metadata": {},
     "output_type": "execute_result"
    }
   ],
   "source": [
    "df_raw.sample()"
   ]
  },
  {
   "cell_type": "markdown",
   "id": "1a61bb43",
   "metadata": {},
   "source": [
    "# 1.0 - Descrição dos Dados"
   ]
  },
  {
   "cell_type": "markdown",
   "id": "4c583642",
   "metadata": {},
   "source": [
    "## 1.1 - Número de linhas e colunas"
   ]
  },
  {
   "cell_type": "code",
   "execution_count": 31,
   "id": "c68ca515",
   "metadata": {},
   "outputs": [
    {
     "name": "stdout",
     "output_type": "stream",
     "text": [
      "Número de linhas desse dataset: 1017209\n",
      "Número de colunas desse dataset: 9\n"
     ]
    }
   ],
   "source": [
    "print ('Número de linhas desse dataset:', df.shape[0])\n",
    "print ('Número de colunas desse dataset:', df.shape[1])"
   ]
  },
  {
   "cell_type": "markdown",
   "id": "8486aa3c",
   "metadata": {},
   "source": [
    "## 1.2 - Check NA"
   ]
  },
  {
   "cell_type": "code",
   "execution_count": 33,
   "id": "11e2f13c",
   "metadata": {},
   "outputs": [
    {
     "data": {
      "text/plain": [
       "Store                             0\n",
       "StoreType                         0\n",
       "Assortment                        0\n",
       "CompetitionDistance            2642\n",
       "CompetitionOpenSinceMonth    323348\n",
       "CompetitionOpenSinceYear     323348\n",
       "Promo2                            0\n",
       "Promo2SinceWeek              508031\n",
       "Promo2SinceYear              508031\n",
       "PromoInterval                508031\n",
       "DayOfWeek                         0\n",
       "Date                              0\n",
       "Sales                             0\n",
       "Customers                         0\n",
       "Open                              0\n",
       "Promo                             0\n",
       "StateHoliday                      0\n",
       "SchoolHoliday                     0\n",
       "dtype: int64"
      ]
     },
     "execution_count": 33,
     "metadata": {},
     "output_type": "execute_result"
    }
   ],
   "source": [
    "df_raw.isnull().sum()"
   ]
  },
  {
   "cell_type": "code",
   "execution_count": null,
   "id": "15637bca",
   "metadata": {},
   "outputs": [],
   "source": []
  }
 ],
 "metadata": {
  "kernelspec": {
   "display_name": "Python 3 (ipykernel)",
   "language": "python",
   "name": "python3"
  },
  "language_info": {
   "codemirror_mode": {
    "name": "ipython",
    "version": 3
   },
   "file_extension": ".py",
   "mimetype": "text/x-python",
   "name": "python",
   "nbconvert_exporter": "python",
   "pygments_lexer": "ipython3",
   "version": "3.9.7"
  },
  "varInspector": {
   "cols": {
    "lenName": 16,
    "lenType": 16,
    "lenVar": 40
   },
   "kernels_config": {
    "python": {
     "delete_cmd_postfix": "",
     "delete_cmd_prefix": "del ",
     "library": "var_list.py",
     "varRefreshCmd": "print(var_dic_list())"
    },
    "r": {
     "delete_cmd_postfix": ") ",
     "delete_cmd_prefix": "rm(",
     "library": "var_list.r",
     "varRefreshCmd": "cat(var_dic_list()) "
    }
   },
   "types_to_exclude": [
    "module",
    "function",
    "builtin_function_or_method",
    "instance",
    "_Feature"
   ],
   "window_display": false
  }
 },
 "nbformat": 4,
 "nbformat_minor": 5
}
