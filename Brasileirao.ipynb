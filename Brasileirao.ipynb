{
 "cells": [
  {
   "cell_type": "code",
   "execution_count": 1,
   "metadata": {},
   "outputs": [],
   "source": [
    "import pandas as pd\n",
    "import seaborn as sns\n",
    "import matplotlib.pyplot as plt\n",
    "from sklearn.preprocessing import StandardScaler\n",
    "from sklearn.model_selection import train_test_split\n",
    "from sklearn.linear_model import LinearRegression \n",
    "from sklearn.metrics import r2_score\n",
    "from sklearn import linear_model\n",
    "from sklearn import preprocessing"
   ]
  },
  {
   "cell_type": "code",
   "execution_count": 2,
   "metadata": {},
   "outputs": [],
   "source": [
    "tabela = pd.read_csv('Tabela_Clubes.csv')"
   ]
  },
  {
   "cell_type": "code",
   "execution_count": 3,
   "metadata": {},
   "outputs": [
    {
     "data": {
      "text/html": [
       "<div>\n",
       "<style scoped>\n",
       "    .dataframe tbody tr th:only-of-type {\n",
       "        vertical-align: middle;\n",
       "    }\n",
       "\n",
       "    .dataframe tbody tr th {\n",
       "        vertical-align: top;\n",
       "    }\n",
       "\n",
       "    .dataframe thead th {\n",
       "        text-align: right;\n",
       "    }\n",
       "</style>\n",
       "<table border=\"1\" class=\"dataframe\">\n",
       "  <thead>\n",
       "    <tr style=\"text-align: right;\">\n",
       "      <th></th>\n",
       "      <th>Ano</th>\n",
       "      <th>Pos.</th>\n",
       "      <th>Clubes</th>\n",
       "      <th>Vitorias</th>\n",
       "      <th>Derrotas</th>\n",
       "      <th>Empates</th>\n",
       "      <th>GolsF/S</th>\n",
       "      <th>Saldo</th>\n",
       "      <th>Qtd_Jogadores</th>\n",
       "      <th>Idade_Media</th>\n",
       "      <th>Estrangeiros</th>\n",
       "      <th>Valor_total</th>\n",
       "      <th>Media_Valor</th>\n",
       "      <th>Unnamed: 13</th>\n",
       "      <th>Unnamed: 14</th>\n",
       "      <th>Unnamed: 15</th>\n",
       "      <th>Unnamed: 16</th>\n",
       "    </tr>\n",
       "  </thead>\n",
       "  <tbody>\n",
       "    <tr>\n",
       "      <th>0</th>\n",
       "      <td>2017</td>\n",
       "      <td>18</td>\n",
       "      <td>America-MG</td>\n",
       "      <td>10</td>\n",
       "      <td>10</td>\n",
       "      <td>18</td>\n",
       "      <td>30:47</td>\n",
       "      <td>-17</td>\n",
       "      <td>51</td>\n",
       "      <td>24,8</td>\n",
       "      <td>0</td>\n",
       "      <td>27350000</td>\n",
       "      <td>536000</td>\n",
       "      <td>NaN</td>\n",
       "      <td>NaN</td>\n",
       "      <td>NaN</td>\n",
       "      <td>NaN</td>\n",
       "    </tr>\n",
       "    <tr>\n",
       "      <th>1</th>\n",
       "      <td>2017</td>\n",
       "      <td>7</td>\n",
       "      <td>Athletico-PR</td>\n",
       "      <td>16</td>\n",
       "      <td>9</td>\n",
       "      <td>13</td>\n",
       "      <td>54:37</td>\n",
       "      <td>17</td>\n",
       "      <td>52</td>\n",
       "      <td>24</td>\n",
       "      <td>3</td>\n",
       "      <td>37650000</td>\n",
       "      <td>724000</td>\n",
       "      <td>NaN</td>\n",
       "      <td>NaN</td>\n",
       "      <td>NaN</td>\n",
       "      <td>NaN</td>\n",
       "    </tr>\n",
       "    <tr>\n",
       "      <th>2</th>\n",
       "      <td>2017</td>\n",
       "      <td>6</td>\n",
       "      <td>Atletico-MG</td>\n",
       "      <td>17</td>\n",
       "      <td>8</td>\n",
       "      <td>13</td>\n",
       "      <td>56:43</td>\n",
       "      <td>13</td>\n",
       "      <td>50</td>\n",
       "      <td>23,4</td>\n",
       "      <td>6</td>\n",
       "      <td>61350000</td>\n",
       "      <td>1230000</td>\n",
       "      <td>NaN</td>\n",
       "      <td>NaN</td>\n",
       "      <td>NaN</td>\n",
       "      <td>NaN</td>\n",
       "    </tr>\n",
       "    <tr>\n",
       "      <th>3</th>\n",
       "      <td>2017</td>\n",
       "      <td>11</td>\n",
       "      <td>Bahia</td>\n",
       "      <td>12</td>\n",
       "      <td>12</td>\n",
       "      <td>14</td>\n",
       "      <td>39:41</td>\n",
       "      <td>-2</td>\n",
       "      <td>48</td>\n",
       "      <td>23,2</td>\n",
       "      <td>2</td>\n",
       "      <td>34900000</td>\n",
       "      <td>727000</td>\n",
       "      <td>NaN</td>\n",
       "      <td>NaN</td>\n",
       "      <td>NaN</td>\n",
       "      <td>NaN</td>\n",
       "    </tr>\n",
       "    <tr>\n",
       "      <th>4</th>\n",
       "      <td>2017</td>\n",
       "      <td>9</td>\n",
       "      <td>Botafogo</td>\n",
       "      <td>13</td>\n",
       "      <td>12</td>\n",
       "      <td>13</td>\n",
       "      <td>38:46</td>\n",
       "      <td>-8</td>\n",
       "      <td>45</td>\n",
       "      <td>23,1</td>\n",
       "      <td>4</td>\n",
       "      <td>25550000</td>\n",
       "      <td>568000</td>\n",
       "      <td>NaN</td>\n",
       "      <td>NaN</td>\n",
       "      <td>NaN</td>\n",
       "      <td>NaN</td>\n",
       "    </tr>\n",
       "  </tbody>\n",
       "</table>\n",
       "</div>"
      ],
      "text/plain": [
       "    Ano  Pos.        Clubes  Vitorias  Derrotas  Empates GolsF/S  Saldo  \\\n",
       "0  2017    18    America-MG        10        10       18   30:47    -17   \n",
       "1  2017     7  Athletico-PR        16         9       13   54:37     17   \n",
       "2  2017     6   Atletico-MG        17         8       13   56:43     13   \n",
       "3  2017    11         Bahia        12        12       14   39:41     -2   \n",
       "4  2017     9      Botafogo        13        12       13   38:46     -8   \n",
       "\n",
       "   Qtd_Jogadores Idade_Media  Estrangeiros  Valor_total  Media_Valor  \\\n",
       "0             51        24,8             0     27350000       536000   \n",
       "1             52          24             3     37650000       724000   \n",
       "2             50        23,4             6     61350000      1230000   \n",
       "3             48        23,2             2     34900000       727000   \n",
       "4             45        23,1             4     25550000       568000   \n",
       "\n",
       "   Unnamed: 13  Unnamed: 14 Unnamed: 15  Unnamed: 16  \n",
       "0          NaN          NaN         NaN          NaN  \n",
       "1          NaN          NaN         NaN          NaN  \n",
       "2          NaN          NaN         NaN          NaN  \n",
       "3          NaN          NaN         NaN          NaN  \n",
       "4          NaN          NaN         NaN          NaN  "
      ]
     },
     "execution_count": 3,
     "metadata": {},
     "output_type": "execute_result"
    }
   ],
   "source": [
    "tabela.head()"
   ]
  },
  {
   "cell_type": "code",
   "execution_count": 4,
   "metadata": {},
   "outputs": [],
   "source": [
    "tabela.drop(['Unnamed: 16', 'Unnamed: 15', 'Unnamed: 14', 'Unnamed: 13', 'Saldo', 'GolsF/S', 'Derrotas'], inplace=True, axis=1)"
   ]
  },
  {
   "cell_type": "code",
   "execution_count": 5,
   "metadata": {},
   "outputs": [],
   "source": [
    "tabela.rename(columns={\"Pos.\": \"Posicao\"}, inplace=True)"
   ]
  },
  {
   "cell_type": "code",
   "execution_count": 6,
   "metadata": {},
   "outputs": [],
   "source": [
    "tabela['Pontos'] = (tabela['Vitorias']*3) + (tabela['Empates'])"
   ]
  },
  {
   "cell_type": "code",
   "execution_count": 7,
   "metadata": {},
   "outputs": [
    {
     "data": {
      "text/html": [
       "<div>\n",
       "<style scoped>\n",
       "    .dataframe tbody tr th:only-of-type {\n",
       "        vertical-align: middle;\n",
       "    }\n",
       "\n",
       "    .dataframe tbody tr th {\n",
       "        vertical-align: top;\n",
       "    }\n",
       "\n",
       "    .dataframe thead th {\n",
       "        text-align: right;\n",
       "    }\n",
       "</style>\n",
       "<table border=\"1\" class=\"dataframe\">\n",
       "  <thead>\n",
       "    <tr style=\"text-align: right;\">\n",
       "      <th></th>\n",
       "      <th>Ano</th>\n",
       "      <th>Posicao</th>\n",
       "      <th>Clubes</th>\n",
       "      <th>Vitorias</th>\n",
       "      <th>Empates</th>\n",
       "      <th>Qtd_Jogadores</th>\n",
       "      <th>Idade_Media</th>\n",
       "      <th>Estrangeiros</th>\n",
       "      <th>Valor_total</th>\n",
       "      <th>Media_Valor</th>\n",
       "      <th>Pontos</th>\n",
       "    </tr>\n",
       "  </thead>\n",
       "  <tbody>\n",
       "    <tr>\n",
       "      <th>0</th>\n",
       "      <td>2017</td>\n",
       "      <td>18</td>\n",
       "      <td>America-MG</td>\n",
       "      <td>10</td>\n",
       "      <td>18</td>\n",
       "      <td>51</td>\n",
       "      <td>24,8</td>\n",
       "      <td>0</td>\n",
       "      <td>27350000</td>\n",
       "      <td>536000</td>\n",
       "      <td>48</td>\n",
       "    </tr>\n",
       "    <tr>\n",
       "      <th>1</th>\n",
       "      <td>2017</td>\n",
       "      <td>7</td>\n",
       "      <td>Athletico-PR</td>\n",
       "      <td>16</td>\n",
       "      <td>13</td>\n",
       "      <td>52</td>\n",
       "      <td>24</td>\n",
       "      <td>3</td>\n",
       "      <td>37650000</td>\n",
       "      <td>724000</td>\n",
       "      <td>61</td>\n",
       "    </tr>\n",
       "    <tr>\n",
       "      <th>2</th>\n",
       "      <td>2017</td>\n",
       "      <td>6</td>\n",
       "      <td>Atletico-MG</td>\n",
       "      <td>17</td>\n",
       "      <td>13</td>\n",
       "      <td>50</td>\n",
       "      <td>23,4</td>\n",
       "      <td>6</td>\n",
       "      <td>61350000</td>\n",
       "      <td>1230000</td>\n",
       "      <td>64</td>\n",
       "    </tr>\n",
       "    <tr>\n",
       "      <th>3</th>\n",
       "      <td>2017</td>\n",
       "      <td>11</td>\n",
       "      <td>Bahia</td>\n",
       "      <td>12</td>\n",
       "      <td>14</td>\n",
       "      <td>48</td>\n",
       "      <td>23,2</td>\n",
       "      <td>2</td>\n",
       "      <td>34900000</td>\n",
       "      <td>727000</td>\n",
       "      <td>50</td>\n",
       "    </tr>\n",
       "    <tr>\n",
       "      <th>4</th>\n",
       "      <td>2017</td>\n",
       "      <td>9</td>\n",
       "      <td>Botafogo</td>\n",
       "      <td>13</td>\n",
       "      <td>13</td>\n",
       "      <td>45</td>\n",
       "      <td>23,1</td>\n",
       "      <td>4</td>\n",
       "      <td>25550000</td>\n",
       "      <td>568000</td>\n",
       "      <td>52</td>\n",
       "    </tr>\n",
       "  </tbody>\n",
       "</table>\n",
       "</div>"
      ],
      "text/plain": [
       "    Ano  Posicao        Clubes  Vitorias  Empates  Qtd_Jogadores Idade_Media  \\\n",
       "0  2017       18    America-MG        10       18             51        24,8   \n",
       "1  2017        7  Athletico-PR        16       13             52          24   \n",
       "2  2017        6   Atletico-MG        17       13             50        23,4   \n",
       "3  2017       11         Bahia        12       14             48        23,2   \n",
       "4  2017        9      Botafogo        13       13             45        23,1   \n",
       "\n",
       "   Estrangeiros  Valor_total  Media_Valor  Pontos  \n",
       "0             0     27350000       536000      48  \n",
       "1             3     37650000       724000      61  \n",
       "2             6     61350000      1230000      64  \n",
       "3             2     34900000       727000      50  \n",
       "4             4     25550000       568000      52  "
      ]
     },
     "execution_count": 7,
     "metadata": {},
     "output_type": "execute_result"
    }
   ],
   "source": [
    "tabela.head()"
   ]
  },
  {
   "cell_type": "code",
   "execution_count": 8,
   "metadata": {},
   "outputs": [],
   "source": [
    "primeiros_colocados = tabela.query('Posicao == 1')"
   ]
  },
  {
   "cell_type": "code",
   "execution_count": 9,
   "metadata": {},
   "outputs": [
    {
     "data": {
      "text/html": [
       "<div>\n",
       "<style scoped>\n",
       "    .dataframe tbody tr th:only-of-type {\n",
       "        vertical-align: middle;\n",
       "    }\n",
       "\n",
       "    .dataframe tbody tr th {\n",
       "        vertical-align: top;\n",
       "    }\n",
       "\n",
       "    .dataframe thead th {\n",
       "        text-align: right;\n",
       "    }\n",
       "</style>\n",
       "<table border=\"1\" class=\"dataframe\">\n",
       "  <thead>\n",
       "    <tr style=\"text-align: right;\">\n",
       "      <th></th>\n",
       "      <th>Ano</th>\n",
       "      <th>Posicao</th>\n",
       "      <th>Clubes</th>\n",
       "      <th>Vitorias</th>\n",
       "      <th>Empates</th>\n",
       "      <th>Qtd_Jogadores</th>\n",
       "      <th>Idade_Media</th>\n",
       "      <th>Estrangeiros</th>\n",
       "      <th>Valor_total</th>\n",
       "      <th>Media_Valor</th>\n",
       "      <th>Pontos</th>\n",
       "    </tr>\n",
       "  </thead>\n",
       "  <tbody>\n",
       "    <tr>\n",
       "      <th>13</th>\n",
       "      <td>2017</td>\n",
       "      <td>1</td>\n",
       "      <td>Palmeiras</td>\n",
       "      <td>23</td>\n",
       "      <td>4</td>\n",
       "      <td>48</td>\n",
       "      <td>24,8</td>\n",
       "      <td>4</td>\n",
       "      <td>88330000</td>\n",
       "      <td>1840000</td>\n",
       "      <td>73</td>\n",
       "    </tr>\n",
       "    <tr>\n",
       "      <th>27</th>\n",
       "      <td>2016</td>\n",
       "      <td>1</td>\n",
       "      <td>Corinthians</td>\n",
       "      <td>21</td>\n",
       "      <td>8</td>\n",
       "      <td>41</td>\n",
       "      <td>23,4</td>\n",
       "      <td>3</td>\n",
       "      <td>49500000</td>\n",
       "      <td>1210000</td>\n",
       "      <td>71</td>\n",
       "    </tr>\n",
       "    <tr>\n",
       "      <th>53</th>\n",
       "      <td>2015</td>\n",
       "      <td>1</td>\n",
       "      <td>Palmeiras</td>\n",
       "      <td>24</td>\n",
       "      <td>6</td>\n",
       "      <td>38</td>\n",
       "      <td>25,9</td>\n",
       "      <td>4</td>\n",
       "      <td>69950000</td>\n",
       "      <td>1840000</td>\n",
       "      <td>78</td>\n",
       "    </tr>\n",
       "    <tr>\n",
       "      <th>64</th>\n",
       "      <td>2014</td>\n",
       "      <td>1</td>\n",
       "      <td>Corinthians</td>\n",
       "      <td>24</td>\n",
       "      <td>5</td>\n",
       "      <td>36</td>\n",
       "      <td>24,8</td>\n",
       "      <td>4</td>\n",
       "      <td>52850000</td>\n",
       "      <td>1470000</td>\n",
       "      <td>77</td>\n",
       "    </tr>\n",
       "    <tr>\n",
       "      <th>88</th>\n",
       "      <td>2013</td>\n",
       "      <td>1</td>\n",
       "      <td>Cruzeiro</td>\n",
       "      <td>24</td>\n",
       "      <td>6</td>\n",
       "      <td>32</td>\n",
       "      <td>25,7</td>\n",
       "      <td>4</td>\n",
       "      <td>41950000</td>\n",
       "      <td>1310000</td>\n",
       "      <td>78</td>\n",
       "    </tr>\n",
       "    <tr>\n",
       "      <th>107</th>\n",
       "      <td>2012</td>\n",
       "      <td>1</td>\n",
       "      <td>Cruzeiro</td>\n",
       "      <td>23</td>\n",
       "      <td>8</td>\n",
       "      <td>44</td>\n",
       "      <td>24,4</td>\n",
       "      <td>1</td>\n",
       "      <td>15100000</td>\n",
       "      <td>343000</td>\n",
       "      <td>77</td>\n",
       "    </tr>\n",
       "    <tr>\n",
       "      <th>129</th>\n",
       "      <td>2011</td>\n",
       "      <td>1</td>\n",
       "      <td>Fluminense</td>\n",
       "      <td>22</td>\n",
       "      <td>5</td>\n",
       "      <td>40</td>\n",
       "      <td>22,8</td>\n",
       "      <td>4</td>\n",
       "      <td>44200000</td>\n",
       "      <td>1110000</td>\n",
       "      <td>71</td>\n",
       "    </tr>\n",
       "    <tr>\n",
       "      <th>148</th>\n",
       "      <td>2010</td>\n",
       "      <td>1</td>\n",
       "      <td>Corinthians</td>\n",
       "      <td>21</td>\n",
       "      <td>9</td>\n",
       "      <td>51</td>\n",
       "      <td>23,6</td>\n",
       "      <td>4</td>\n",
       "      <td>69700000</td>\n",
       "      <td>1370000</td>\n",
       "      <td>72</td>\n",
       "    </tr>\n",
       "    <tr>\n",
       "      <th>169</th>\n",
       "      <td>2009</td>\n",
       "      <td>1</td>\n",
       "      <td>Fluminense</td>\n",
       "      <td>20</td>\n",
       "      <td>7</td>\n",
       "      <td>50</td>\n",
       "      <td>23,5</td>\n",
       "      <td>4</td>\n",
       "      <td>42950000</td>\n",
       "      <td>859000</td>\n",
       "      <td>67</td>\n",
       "    </tr>\n",
       "    <tr>\n",
       "      <th>187</th>\n",
       "      <td>2008</td>\n",
       "      <td>1</td>\n",
       "      <td>Flamengo</td>\n",
       "      <td>19</td>\n",
       "      <td>9</td>\n",
       "      <td>35</td>\n",
       "      <td>23,3</td>\n",
       "      <td>4</td>\n",
       "      <td>50400000</td>\n",
       "      <td>1440000</td>\n",
       "      <td>66</td>\n",
       "    </tr>\n",
       "  </tbody>\n",
       "</table>\n",
       "</div>"
      ],
      "text/plain": [
       "      Ano  Posicao       Clubes  Vitorias  Empates  Qtd_Jogadores Idade_Media  \\\n",
       "13   2017        1    Palmeiras        23        4             48        24,8   \n",
       "27   2016        1  Corinthians        21        8             41        23,4   \n",
       "53   2015        1    Palmeiras        24        6             38        25,9   \n",
       "64   2014        1  Corinthians        24        5             36        24,8   \n",
       "88   2013        1     Cruzeiro        24        6             32        25,7   \n",
       "107  2012        1     Cruzeiro        23        8             44        24,4   \n",
       "129  2011        1   Fluminense        22        5             40        22,8   \n",
       "148  2010        1  Corinthians        21        9             51        23,6   \n",
       "169  2009        1   Fluminense        20        7             50        23,5   \n",
       "187  2008        1     Flamengo        19        9             35        23,3   \n",
       "\n",
       "     Estrangeiros  Valor_total  Media_Valor  Pontos  \n",
       "13              4     88330000      1840000      73  \n",
       "27              3     49500000      1210000      71  \n",
       "53              4     69950000      1840000      78  \n",
       "64              4     52850000      1470000      77  \n",
       "88              4     41950000      1310000      78  \n",
       "107             1     15100000       343000      77  \n",
       "129             4     44200000      1110000      71  \n",
       "148             4     69700000      1370000      72  \n",
       "169             4     42950000       859000      67  \n",
       "187             4     50400000      1440000      66  "
      ]
     },
     "execution_count": 9,
     "metadata": {},
     "output_type": "execute_result"
    }
   ],
   "source": [
    "primeiros_colocados "
   ]
  },
  {
   "cell_type": "code",
   "execution_count": 10,
   "metadata": {},
   "outputs": [
    {
     "data": {
      "text/plain": [
       "<matplotlib.legend.Legend at 0x1b76f43add8>"
      ]
     },
     "execution_count": 10,
     "metadata": {},
     "output_type": "execute_result"
    },
    {
     "data": {
      "image/png": "[encoded data removed]",
      "text/plain": [
       "<Figure size 864x432 with 1 Axes>"
      ]
     },
     "metadata": {
      "needs_background": "light"
     },
     "output_type": "display_data"
    }
   ],
   "source": [
    "plt.figure(figsize=(12, 6))\n",
    "pontos_campeoes = sns.barplot(x='Ano', y='Pontos', hue='Clubes', data=primeiros_colocados)\n",
    "pontos_campeoes.set_title(\"Pontuação dos Campeões\")\n",
    "plt.grid(color='black', linestyle='-', linewidth=0.2)\n",
    "plt.legend(loc=0)"
   ]
  },
  {
   "cell_type": "code",
   "execution_count": 11,
   "metadata": {},
   "outputs": [],
   "source": [
    "br2017 = tabela.query('Ano == 2017')"
   ]
  },
  {
   "cell_type": "code",
   "execution_count": 12,
   "metadata": {},
   "outputs": [
    {
     "data": {
      "image/png": "[encoded data removed]",
      "text/plain": [
       "<Figure size 1800x432 with 1 Axes>"
      ]
     },
     "metadata": {
      "needs_background": "light"
     },
     "output_type": "display_data"
    }
   ],
   "source": [
    "plt.figure(figsize=(25, 6))\n",
    "campeonato2017 = sns.barplot(x='Clubes', y='Pontos', data=br2017, palette=\"dark\")\n",
    "campeonato2017.set_title(\"Campeonato de 2017\")\n",
    "plt.grid(color='black', linestyle='-', linewidth=0.2)"
   ]
  },
  {
   "cell_type": "code",
   "execution_count": 13,
   "metadata": {},
   "outputs": [],
   "source": [
    "tabela.drop(['Empates'], inplace=True, axis=1)"
   ]
  },
  {
   "cell_type": "code",
   "execution_count": 14,
   "metadata": {},
   "outputs": [
    {
     "name": "stdout",
     "output_type": "stream",
     "text": [
      "<class 'pandas.core.frame.DataFrame'>\n",
      "RangeIndex: 200 entries, 0 to 199\n",
      "Data columns (total 10 columns):\n",
      "Ano              200 non-null int64\n",
      "Posicao          200 non-null int64\n",
      "Clubes           200 non-null object\n",
      "Vitorias         200 non-null int64\n",
      "Qtd_Jogadores    200 non-null int64\n",
      "Idade_Media      200 non-null object\n",
      "Estrangeiros     200 non-null int64\n",
      "Valor_total      200 non-null int64\n",
      "Media_Valor      200 non-null int64\n",
      "Pontos           200 non-null int64\n",
      "dtypes: int64(8), object(2)\n",
      "memory usage: 15.7+ KB\n"
     ]
    }
   ],
   "source": [
    "tabela.info()"
   ]
  },
  {
   "cell_type": "code",
   "execution_count": 15,
   "metadata": {},
   "outputs": [
    {
     "data": {
      "text/html": [
       "<div>\n",
       "<style scoped>\n",
       "    .dataframe tbody tr th:only-of-type {\n",
       "        vertical-align: middle;\n",
       "    }\n",
       "\n",
       "    .dataframe tbody tr th {\n",
       "        vertical-align: top;\n",
       "    }\n",
       "\n",
       "    .dataframe thead th {\n",
       "        text-align: right;\n",
       "    }\n",
       "</style>\n",
       "<table border=\"1\" class=\"dataframe\">\n",
       "  <thead>\n",
       "    <tr style=\"text-align: right;\">\n",
       "      <th></th>\n",
       "      <th>Ano</th>\n",
       "      <th>Posicao</th>\n",
       "      <th>Vitorias</th>\n",
       "      <th>Qtd_Jogadores</th>\n",
       "      <th>Estrangeiros</th>\n",
       "      <th>Valor_total</th>\n",
       "      <th>Media_Valor</th>\n",
       "      <th>Pontos</th>\n",
       "    </tr>\n",
       "  </thead>\n",
       "  <tbody>\n",
       "    <tr>\n",
       "      <th>Ano</th>\n",
       "      <td>1.000000</td>\n",
       "      <td>0.000000</td>\n",
       "      <td>0.031009</td>\n",
       "      <td>0.126145</td>\n",
       "      <td>0.278939</td>\n",
       "      <td>0.126457</td>\n",
       "      <td>0.098256</td>\n",
       "      <td>0.055472</td>\n",
       "    </tr>\n",
       "    <tr>\n",
       "      <th>Posicao</th>\n",
       "      <td>0.000000</td>\n",
       "      <td>1.000000</td>\n",
       "      <td>-0.941322</td>\n",
       "      <td>0.063936</td>\n",
       "      <td>-0.241929</td>\n",
       "      <td>-0.447804</td>\n",
       "      <td>-0.500739</td>\n",
       "      <td>-0.853539</td>\n",
       "    </tr>\n",
       "    <tr>\n",
       "      <th>Vitorias</th>\n",
       "      <td>0.031009</td>\n",
       "      <td>-0.941322</td>\n",
       "      <td>1.000000</td>\n",
       "      <td>-0.121795</td>\n",
       "      <td>0.229198</td>\n",
       "      <td>0.400725</td>\n",
       "      <td>0.476106</td>\n",
       "      <td>0.960501</td>\n",
       "    </tr>\n",
       "    <tr>\n",
       "      <th>Qtd_Jogadores</th>\n",
       "      <td>0.126145</td>\n",
       "      <td>0.063936</td>\n",
       "      <td>-0.121795</td>\n",
       "      <td>1.000000</td>\n",
       "      <td>0.324823</td>\n",
       "      <td>0.305617</td>\n",
       "      <td>-0.034441</td>\n",
       "      <td>-0.141018</td>\n",
       "    </tr>\n",
       "    <tr>\n",
       "      <th>Estrangeiros</th>\n",
       "      <td>0.278939</td>\n",
       "      <td>-0.241929</td>\n",
       "      <td>0.229198</td>\n",
       "      <td>0.324823</td>\n",
       "      <td>1.000000</td>\n",
       "      <td>0.529249</td>\n",
       "      <td>0.429779</td>\n",
       "      <td>0.231998</td>\n",
       "    </tr>\n",
       "    <tr>\n",
       "      <th>Valor_total</th>\n",
       "      <td>0.126457</td>\n",
       "      <td>-0.447804</td>\n",
       "      <td>0.400725</td>\n",
       "      <td>0.305617</td>\n",
       "      <td>0.529249</td>\n",
       "      <td>1.000000</td>\n",
       "      <td>0.919658</td>\n",
       "      <td>0.359874</td>\n",
       "    </tr>\n",
       "    <tr>\n",
       "      <th>Media_Valor</th>\n",
       "      <td>0.098256</td>\n",
       "      <td>-0.500739</td>\n",
       "      <td>0.476106</td>\n",
       "      <td>-0.034441</td>\n",
       "      <td>0.429779</td>\n",
       "      <td>0.919658</td>\n",
       "      <td>1.000000</td>\n",
       "      <td>0.438277</td>\n",
       "    </tr>\n",
       "    <tr>\n",
       "      <th>Pontos</th>\n",
       "      <td>0.055472</td>\n",
       "      <td>-0.853539</td>\n",
       "      <td>0.960501</td>\n",
       "      <td>-0.141018</td>\n",
       "      <td>0.231998</td>\n",
       "      <td>0.359874</td>\n",
       "      <td>0.438277</td>\n",
       "      <td>1.000000</td>\n",
       "    </tr>\n",
       "  </tbody>\n",
       "</table>\n",
       "</div>"
      ],
      "text/plain": [
       "                    Ano   Posicao  Vitorias  Qtd_Jogadores  Estrangeiros  \\\n",
       "Ano            1.000000  0.000000  0.031009       0.126145      0.278939   \n",
       "Posicao        0.000000  1.000000 -0.941322       0.063936     -0.241929   \n",
       "Vitorias       0.031009 -0.941322  1.000000      -0.121795      0.229198   \n",
       "Qtd_Jogadores  0.126145  0.063936 -0.121795       1.000000      0.324823   \n",
       "Estrangeiros   0.278939 -0.241929  0.229198       0.324823      1.000000   \n",
       "Valor_total    0.126457 -0.447804  0.400725       0.305617      0.529249   \n",
       "Media_Valor    0.098256 -0.500739  0.476106      -0.034441      0.429779   \n",
       "Pontos         0.055472 -0.853539  0.960501      -0.141018      0.231998   \n",
       "\n",
       "               Valor_total  Media_Valor    Pontos  \n",
       "Ano               0.126457     0.098256  0.055472  \n",
       "Posicao          -0.447804    -0.500739 -0.853539  \n",
       "Vitorias          0.400725     0.476106  0.960501  \n",
       "Qtd_Jogadores     0.305617    -0.034441 -0.141018  \n",
       "Estrangeiros      0.529249     0.429779  0.231998  \n",
       "Valor_total       1.000000     0.919658  0.359874  \n",
       "Media_Valor       0.919658     1.000000  0.438277  \n",
       "Pontos            0.359874     0.438277  1.000000  "
      ]
     },
     "execution_count": 15,
     "metadata": {},
     "output_type": "execute_result"
    }
   ],
   "source": [
    "tabela.corr()"
   ]
  },
  {
   "cell_type": "code",
   "execution_count": 16,
   "metadata": {},
   "outputs": [],
   "source": [
    "tabela.Idade_Media = tabela.Idade_Media.apply(lambda x: x.replace(',', '.'))"
   ]
  },
  {
   "cell_type": "code",
   "execution_count": 17,
   "metadata": {},
   "outputs": [],
   "source": [
    "tabela.Idade_Media = tabela.Idade_Media.astype(float)"
   ]
  },
  {
   "cell_type": "code",
   "execution_count": 18,
   "metadata": {},
   "outputs": [
    {
     "data": {
      "text/html": [
       "<div>\n",
       "<style scoped>\n",
       "    .dataframe tbody tr th:only-of-type {\n",
       "        vertical-align: middle;\n",
       "    }\n",
       "\n",
       "    .dataframe tbody tr th {\n",
       "        vertical-align: top;\n",
       "    }\n",
       "\n",
       "    .dataframe thead th {\n",
       "        text-align: right;\n",
       "    }\n",
       "</style>\n",
       "<table border=\"1\" class=\"dataframe\">\n",
       "  <thead>\n",
       "    <tr style=\"text-align: right;\">\n",
       "      <th></th>\n",
       "      <th>Ano</th>\n",
       "      <th>Posicao</th>\n",
       "      <th>Vitorias</th>\n",
       "      <th>Qtd_Jogadores</th>\n",
       "      <th>Idade_Media</th>\n",
       "      <th>Estrangeiros</th>\n",
       "      <th>Valor_total</th>\n",
       "      <th>Media_Valor</th>\n",
       "      <th>Pontos</th>\n",
       "    </tr>\n",
       "  </thead>\n",
       "  <tbody>\n",
       "    <tr>\n",
       "      <th>Ano</th>\n",
       "      <td>1.000000</td>\n",
       "      <td>0.000000</td>\n",
       "      <td>0.031009</td>\n",
       "      <td>0.126145</td>\n",
       "      <td>0.146387</td>\n",
       "      <td>0.278939</td>\n",
       "      <td>0.126457</td>\n",
       "      <td>0.098256</td>\n",
       "      <td>0.055472</td>\n",
       "    </tr>\n",
       "    <tr>\n",
       "      <th>Posicao</th>\n",
       "      <td>0.000000</td>\n",
       "      <td>1.000000</td>\n",
       "      <td>-0.941322</td>\n",
       "      <td>0.063936</td>\n",
       "      <td>0.110036</td>\n",
       "      <td>-0.241929</td>\n",
       "      <td>-0.447804</td>\n",
       "      <td>-0.500739</td>\n",
       "      <td>-0.853539</td>\n",
       "    </tr>\n",
       "    <tr>\n",
       "      <th>Vitorias</th>\n",
       "      <td>0.031009</td>\n",
       "      <td>-0.941322</td>\n",
       "      <td>1.000000</td>\n",
       "      <td>-0.121795</td>\n",
       "      <td>-0.045361</td>\n",
       "      <td>0.229198</td>\n",
       "      <td>0.400725</td>\n",
       "      <td>0.476106</td>\n",
       "      <td>0.960501</td>\n",
       "    </tr>\n",
       "    <tr>\n",
       "      <th>Qtd_Jogadores</th>\n",
       "      <td>0.126145</td>\n",
       "      <td>0.063936</td>\n",
       "      <td>-0.121795</td>\n",
       "      <td>1.000000</td>\n",
       "      <td>-0.181798</td>\n",
       "      <td>0.324823</td>\n",
       "      <td>0.305617</td>\n",
       "      <td>-0.034441</td>\n",
       "      <td>-0.141018</td>\n",
       "    </tr>\n",
       "    <tr>\n",
       "      <th>Idade_Media</th>\n",
       "      <td>0.146387</td>\n",
       "      <td>0.110036</td>\n",
       "      <td>-0.045361</td>\n",
       "      <td>-0.181798</td>\n",
       "      <td>1.000000</td>\n",
       "      <td>-0.132706</td>\n",
       "      <td>-0.077874</td>\n",
       "      <td>0.002201</td>\n",
       "      <td>-0.015219</td>\n",
       "    </tr>\n",
       "    <tr>\n",
       "      <th>Estrangeiros</th>\n",
       "      <td>0.278939</td>\n",
       "      <td>-0.241929</td>\n",
       "      <td>0.229198</td>\n",
       "      <td>0.324823</td>\n",
       "      <td>-0.132706</td>\n",
       "      <td>1.000000</td>\n",
       "      <td>0.529249</td>\n",
       "      <td>0.429779</td>\n",
       "      <td>0.231998</td>\n",
       "    </tr>\n",
       "    <tr>\n",
       "      <th>Valor_total</th>\n",
       "      <td>0.126457</td>\n",
       "      <td>-0.447804</td>\n",
       "      <td>0.400725</td>\n",
       "      <td>0.305617</td>\n",
       "      <td>-0.077874</td>\n",
       "      <td>0.529249</td>\n",
       "      <td>1.000000</td>\n",
       "      <td>0.919658</td>\n",
       "      <td>0.359874</td>\n",
       "    </tr>\n",
       "    <tr>\n",
       "      <th>Media_Valor</th>\n",
       "      <td>0.098256</td>\n",
       "      <td>-0.500739</td>\n",
       "      <td>0.476106</td>\n",
       "      <td>-0.034441</td>\n",
       "      <td>0.002201</td>\n",
       "      <td>0.429779</td>\n",
       "      <td>0.919658</td>\n",
       "      <td>1.000000</td>\n",
       "      <td>0.438277</td>\n",
       "    </tr>\n",
       "    <tr>\n",
       "      <th>Pontos</th>\n",
       "      <td>0.055472</td>\n",
       "      <td>-0.853539</td>\n",
       "      <td>0.960501</td>\n",
       "      <td>-0.141018</td>\n",
       "      <td>-0.015219</td>\n",
       "      <td>0.231998</td>\n",
       "      <td>0.359874</td>\n",
       "      <td>0.438277</td>\n",
       "      <td>1.000000</td>\n",
       "    </tr>\n",
       "  </tbody>\n",
       "</table>\n",
       "</div>"
      ],
      "text/plain": [
       "                    Ano   Posicao  Vitorias  Qtd_Jogadores  Idade_Media  \\\n",
       "Ano            1.000000  0.000000  0.031009       0.126145     0.146387   \n",
       "Posicao        0.000000  1.000000 -0.941322       0.063936     0.110036   \n",
       "Vitorias       0.031009 -0.941322  1.000000      -0.121795    -0.045361   \n",
       "Qtd_Jogadores  0.126145  0.063936 -0.121795       1.000000    -0.181798   \n",
       "Idade_Media    0.146387  0.110036 -0.045361      -0.181798     1.000000   \n",
       "Estrangeiros   0.278939 -0.241929  0.229198       0.324823    -0.132706   \n",
       "Valor_total    0.126457 -0.447804  0.400725       0.305617    -0.077874   \n",
       "Media_Valor    0.098256 -0.500739  0.476106      -0.034441     0.002201   \n",
       "Pontos         0.055472 -0.853539  0.960501      -0.141018    -0.015219   \n",
       "\n",
       "               Estrangeiros  Valor_total  Media_Valor    Pontos  \n",
       "Ano                0.278939     0.126457     0.098256  0.055472  \n",
       "Posicao           -0.241929    -0.447804    -0.500739 -0.853539  \n",
       "Vitorias           0.229198     0.400725     0.476106  0.960501  \n",
       "Qtd_Jogadores      0.324823     0.305617    -0.034441 -0.141018  \n",
       "Idade_Media       -0.132706    -0.077874     0.002201 -0.015219  \n",
       "Estrangeiros       1.000000     0.529249     0.429779  0.231998  \n",
       "Valor_total        0.529249     1.000000     0.919658  0.359874  \n",
       "Media_Valor        0.429779     0.919658     1.000000  0.438277  \n",
       "Pontos             0.231998     0.359874     0.438277  1.000000  "
      ]
     },
     "execution_count": 18,
     "metadata": {},
     "output_type": "execute_result"
    }
   ],
   "source": [
    "tabela.corr()"
   ]
  },
  {
   "cell_type": "code",
   "execution_count": 19,
   "metadata": {},
   "outputs": [
    {
     "data": {
      "text/plain": [
       "Text(0, 0.5, 'Posição')"
      ]
     },
     "execution_count": 19,
     "metadata": {},
     "output_type": "execute_result"
    },
    {
     "data": {
      "image/png": "[encoded data removed]",
      "text/plain": [
       "<Figure size 648x432 with 1 Axes>"
      ]
     },
     "metadata": {
      "needs_background": "light"
     },
     "output_type": "display_data"
    }
   ],
   "source": [
    "figure = plt.figure(figsize=(9,6))\n",
    "plt.scatter(tabela['Pontos'],tabela['Posicao'])\n",
    "plt.xlabel('Vitorias')\n",
    "plt.ylabel('Posição')"
   ]
  },
  {
   "cell_type": "code",
   "execution_count": 20,
   "metadata": {},
   "outputs": [],
   "source": [
    "tabela.drop(['Clubes','Ano'], axis=1, inplace=True)"
   ]
  },
  {
   "cell_type": "code",
   "execution_count": 21,
   "metadata": {},
   "outputs": [],
   "source": [
    "tabela.drop('Qtd_Jogadores', axis=1, inplace=True)"
   ]
  },
  {
   "cell_type": "code",
   "execution_count": 22,
   "metadata": {},
   "outputs": [],
   "source": [
    "tabela.drop('Estrangeiros', axis=1, inplace=True)"
   ]
  },
  {
   "cell_type": "code",
   "execution_count": 23,
   "metadata": {},
   "outputs": [],
   "source": [
    "tabela.drop('Idade_Media', axis=1, inplace=True)"
   ]
  },
  {
   "cell_type": "code",
   "execution_count": 24,
   "metadata": {},
   "outputs": [],
   "source": [
    "tabela.drop(['Media_Valor','Valor_total'], axis=1, inplace=True)"
   ]
  },
  {
   "cell_type": "code",
   "execution_count": 25,
   "metadata": {},
   "outputs": [
    {
     "name": "stdout",
     "output_type": "stream",
     "text": [
      "<class 'pandas.core.frame.DataFrame'>\n",
      "RangeIndex: 200 entries, 0 to 199\n",
      "Data columns (total 3 columns):\n",
      "Posicao     200 non-null int64\n",
      "Vitorias    200 non-null int64\n",
      "Pontos      200 non-null int64\n",
      "dtypes: int64(3)\n",
      "memory usage: 4.8 KB\n"
     ]
    }
   ],
   "source": [
    "tabela.info()"
   ]
  },
  {
   "cell_type": "code",
   "execution_count": 26,
   "metadata": {},
   "outputs": [],
   "source": [
    "X = tabela.drop('Posicao', axis=1)\n",
    "y = tabela['Posicao'] "
   ]
  },
  {
   "cell_type": "code",
   "execution_count": 27,
   "metadata": {},
   "outputs": [],
   "source": [
    "SEED = 62"
   ]
  },
  {
   "cell_type": "code",
   "execution_count": 28,
   "metadata": {},
   "outputs": [],
   "source": [
    "X_treino, X_teste, y_treino, y_teste = train_test_split(X, y, test_size = 0.25, random_state = SEED)"
   ]
  },
  {
   "cell_type": "code",
   "execution_count": 29,
   "metadata": {},
   "outputs": [
    {
     "data": {
      "text/plain": [
       "LinearRegression(copy_X=True, fit_intercept=True, n_jobs=None,\n",
       "         normalize=False)"
      ]
     },
     "execution_count": 29,
     "metadata": {},
     "output_type": "execute_result"
    }
   ],
   "source": [
    "modelo = LinearRegression()\n",
    "modelo.fit(X_treino, y_treino)\n"
   ]
  },
  {
   "cell_type": "code",
   "execution_count": 30,
   "metadata": {},
   "outputs": [
    {
     "name": "stdout",
     "output_type": "stream",
     "text": [
      "[-2.3996418   0.47727393]\n",
      "17.44617856293267\n"
     ]
    }
   ],
   "source": [
    "print(modelo.coef_)\n",
    "print(modelo.intercept_)"
   ]
  },
  {
   "cell_type": "code",
   "execution_count": 31,
   "metadata": {},
   "outputs": [],
   "source": [
    "previsoes = modelo.predict(X_teste)"
   ]
  },
  {
   "cell_type": "code",
   "execution_count": 32,
   "metadata": {},
   "outputs": [
    {
     "data": {
      "text/plain": [
       "91.40766551599371"
      ]
     },
     "execution_count": 32,
     "metadata": {},
     "output_type": "execute_result"
    }
   ],
   "source": [
    "r2_score(y_teste, previsoes)*100"
   ]
  },
  {
   "cell_type": "code",
   "execution_count": null,
   "metadata": {},
   "outputs": [],
   "source": []
  }
 ],
 "metadata": {
  "kernelspec": {
   "display_name": "Python 3",
   "language": "python",
   "name": "python3"
  },
  "language_info": {
   "codemirror_mode": {
    "name": "ipython",
    "version": 3
   },
   "file_extension": ".py",
   "mimetype": "text/x-python",
   "name": "python",
   "nbconvert_exporter": "python",
   "pygments_lexer": "ipython3",
   "version": "3.7.1"
  }
 },
 "nbformat": 4,
 "nbformat_minor": 2
}
