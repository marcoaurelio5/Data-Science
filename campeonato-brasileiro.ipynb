{
 "cells": [
  {
   "cell_type": "code",
   "execution_count": 1,
   "metadata": {},
   "outputs": [],
   "source": [
    "import pandas as pd\n",
    "import matplotlib.pyplot as plt\n",
    "import seaborn as sns\n",
    "from sklearn.model_selection import train_test_split\n",
    "from sklearn.linear_model import LinearRegression\n",
    "from sklearn.metrics import r2_score, accuracy_score\n",
    "from sklearn.tree import DecisionTreeClassifier\n",
    "from sklearn.svm import SVC\n",
    "import math"
   ]
  },
  {
   "cell_type": "code",
   "execution_count": 2,
   "metadata": {},
   "outputs": [],
   "source": [
    "tabela = pd.read_csv('../input/campeonato-braileiro-20092018/tabelas/Tabela_Clubes.csv')"
   ]
  },
  {
   "cell_type": "code",
   "execution_count": 3,
   "metadata": {},
   "outputs": [
    {
     "data": {
      "text/html": [
       "<div>\n",
       "<style scoped>\n",
       "    .dataframe tbody tr th:only-of-type {\n",
       "        vertical-align: middle;\n",
       "    }\n",
       "\n",
       "    .dataframe tbody tr th {\n",
       "        vertical-align: top;\n",
       "    }\n",
       "\n",
       "    .dataframe thead th {\n",
       "        text-align: right;\n",
       "    }\n",
       "</style>\n",
       "<table border=\"1\" class=\"dataframe\">\n",
       "  <thead>\n",
       "    <tr style=\"text-align: right;\">\n",
       "      <th></th>\n",
       "      <th>Ano</th>\n",
       "      <th>Pos.</th>\n",
       "      <th>Clubes</th>\n",
       "      <th>Vitorias</th>\n",
       "      <th>Derrotas</th>\n",
       "      <th>Empates</th>\n",
       "      <th>GolsF/S</th>\n",
       "      <th>Saldo</th>\n",
       "      <th>Qtd_Jogadores</th>\n",
       "      <th>Idade_Media</th>\n",
       "      <th>Estrangeiros</th>\n",
       "      <th>Valor_total</th>\n",
       "      <th>Media_Valor</th>\n",
       "      <th>Unnamed: 13</th>\n",
       "      <th>Unnamed: 14</th>\n",
       "      <th>Unnamed: 15</th>\n",
       "      <th>Unnamed: 16</th>\n",
       "    </tr>\n",
       "  </thead>\n",
       "  <tbody>\n",
       "    <tr>\n",
       "      <td>0</td>\n",
       "      <td>2017</td>\n",
       "      <td>18</td>\n",
       "      <td>America-MG</td>\n",
       "      <td>10</td>\n",
       "      <td>10</td>\n",
       "      <td>18</td>\n",
       "      <td>30:47</td>\n",
       "      <td>-17</td>\n",
       "      <td>51</td>\n",
       "      <td>24,8</td>\n",
       "      <td>0</td>\n",
       "      <td>27350000</td>\n",
       "      <td>536000</td>\n",
       "      <td>NaN</td>\n",
       "      <td>NaN</td>\n",
       "      <td>NaN</td>\n",
       "      <td>NaN</td>\n",
       "    </tr>\n",
       "    <tr>\n",
       "      <td>1</td>\n",
       "      <td>2017</td>\n",
       "      <td>7</td>\n",
       "      <td>Athletico-PR</td>\n",
       "      <td>16</td>\n",
       "      <td>9</td>\n",
       "      <td>13</td>\n",
       "      <td>54:37</td>\n",
       "      <td>17</td>\n",
       "      <td>52</td>\n",
       "      <td>24</td>\n",
       "      <td>3</td>\n",
       "      <td>37650000</td>\n",
       "      <td>724000</td>\n",
       "      <td>NaN</td>\n",
       "      <td>NaN</td>\n",
       "      <td>NaN</td>\n",
       "      <td>NaN</td>\n",
       "    </tr>\n",
       "    <tr>\n",
       "      <td>2</td>\n",
       "      <td>2017</td>\n",
       "      <td>6</td>\n",
       "      <td>Atletico-MG</td>\n",
       "      <td>17</td>\n",
       "      <td>8</td>\n",
       "      <td>13</td>\n",
       "      <td>56:43</td>\n",
       "      <td>13</td>\n",
       "      <td>50</td>\n",
       "      <td>23,4</td>\n",
       "      <td>6</td>\n",
       "      <td>61350000</td>\n",
       "      <td>1230000</td>\n",
       "      <td>NaN</td>\n",
       "      <td>NaN</td>\n",
       "      <td>NaN</td>\n",
       "      <td>NaN</td>\n",
       "    </tr>\n",
       "    <tr>\n",
       "      <td>3</td>\n",
       "      <td>2017</td>\n",
       "      <td>11</td>\n",
       "      <td>Bahia</td>\n",
       "      <td>12</td>\n",
       "      <td>12</td>\n",
       "      <td>14</td>\n",
       "      <td>39:41</td>\n",
       "      <td>-2</td>\n",
       "      <td>48</td>\n",
       "      <td>23,2</td>\n",
       "      <td>2</td>\n",
       "      <td>34900000</td>\n",
       "      <td>727000</td>\n",
       "      <td>NaN</td>\n",
       "      <td>NaN</td>\n",
       "      <td>NaN</td>\n",
       "      <td>NaN</td>\n",
       "    </tr>\n",
       "    <tr>\n",
       "      <td>4</td>\n",
       "      <td>2017</td>\n",
       "      <td>9</td>\n",
       "      <td>Botafogo</td>\n",
       "      <td>13</td>\n",
       "      <td>12</td>\n",
       "      <td>13</td>\n",
       "      <td>38:46</td>\n",
       "      <td>-8</td>\n",
       "      <td>45</td>\n",
       "      <td>23,1</td>\n",
       "      <td>4</td>\n",
       "      <td>25550000</td>\n",
       "      <td>568000</td>\n",
       "      <td>NaN</td>\n",
       "      <td>NaN</td>\n",
       "      <td>NaN</td>\n",
       "      <td>NaN</td>\n",
       "    </tr>\n",
       "  </tbody>\n",
       "</table>\n",
       "</div>"
      ],
      "text/plain": [
       "    Ano  Pos.        Clubes  Vitorias  Derrotas  Empates GolsF/S  Saldo  \\\n",
       "0  2017    18    America-MG        10        10       18   30:47    -17   \n",
       "1  2017     7  Athletico-PR        16         9       13   54:37     17   \n",
       "2  2017     6   Atletico-MG        17         8       13   56:43     13   \n",
       "3  2017    11         Bahia        12        12       14   39:41     -2   \n",
       "4  2017     9      Botafogo        13        12       13   38:46     -8   \n",
       "\n",
       "   Qtd_Jogadores Idade_Media  Estrangeiros  Valor_total  Media_Valor  \\\n",
       "0             51        24,8             0     27350000       536000   \n",
       "1             52          24             3     37650000       724000   \n",
       "2             50        23,4             6     61350000      1230000   \n",
       "3             48        23,2             2     34900000       727000   \n",
       "4             45        23,1             4     25550000       568000   \n",
       "\n",
       "   Unnamed: 13  Unnamed: 14 Unnamed: 15  Unnamed: 16  \n",
       "0          NaN          NaN         NaN          NaN  \n",
       "1          NaN          NaN         NaN          NaN  \n",
       "2          NaN          NaN         NaN          NaN  \n",
       "3          NaN          NaN         NaN          NaN  \n",
       "4          NaN          NaN         NaN          NaN  "
      ]
     },
     "execution_count": 3,
     "metadata": {},
     "output_type": "execute_result"
    }
   ],
   "source": [
    "tabela.head()"
   ]
  },
  {
   "cell_type": "code",
   "execution_count": 4,
   "metadata": {},
   "outputs": [],
   "source": [
    "tabela.drop(['Unnamed: 13', 'Unnamed: 14', 'Unnamed: 15', 'Unnamed: 16'], axis=1, inplace=True)"
   ]
  },
  {
   "cell_type": "code",
   "execution_count": 5,
   "metadata": {},
   "outputs": [
    {
     "data": {
      "text/plain": [
       "(200, 13)"
      ]
     },
     "execution_count": 5,
     "metadata": {},
     "output_type": "execute_result"
    }
   ],
   "source": [
    "tabela.shape"
   ]
  },
  {
   "cell_type": "code",
   "execution_count": 6,
   "metadata": {},
   "outputs": [
    {
     "data": {
      "text/plain": [
       "Ano               int64\n",
       "Pos.              int64\n",
       "Clubes           object\n",
       "Vitorias          int64\n",
       "Derrotas          int64\n",
       "Empates           int64\n",
       "GolsF/S          object\n",
       "Saldo             int64\n",
       "Qtd_Jogadores     int64\n",
       "Idade_Media      object\n",
       "Estrangeiros      int64\n",
       "Valor_total       int64\n",
       "Media_Valor       int64\n",
       "dtype: object"
      ]
     },
     "execution_count": 6,
     "metadata": {},
     "output_type": "execute_result"
    }
   ],
   "source": [
    "tabela.dtypes"
   ]
  },
  {
   "cell_type": "code",
   "execution_count": 7,
   "metadata": {},
   "outputs": [
    {
     "data": {
      "text/html": [
       "<div>\n",
       "<style scoped>\n",
       "    .dataframe tbody tr th:only-of-type {\n",
       "        vertical-align: middle;\n",
       "    }\n",
       "\n",
       "    .dataframe tbody tr th {\n",
       "        vertical-align: top;\n",
       "    }\n",
       "\n",
       "    .dataframe thead th {\n",
       "        text-align: right;\n",
       "    }\n",
       "</style>\n",
       "<table border=\"1\" class=\"dataframe\">\n",
       "  <thead>\n",
       "    <tr style=\"text-align: right;\">\n",
       "      <th></th>\n",
       "      <th>count</th>\n",
       "      <th>mean</th>\n",
       "      <th>std</th>\n",
       "      <th>min</th>\n",
       "      <th>25%</th>\n",
       "      <th>50%</th>\n",
       "      <th>75%</th>\n",
       "      <th>max</th>\n",
       "    </tr>\n",
       "  </thead>\n",
       "  <tbody>\n",
       "    <tr>\n",
       "      <td>Ano</td>\n",
       "      <td>200.0</td>\n",
       "      <td>2.012500e+03</td>\n",
       "      <td>2.879489e+00</td>\n",
       "      <td>2008.0</td>\n",
       "      <td>2010.00</td>\n",
       "      <td>2012.5</td>\n",
       "      <td>2015.00</td>\n",
       "      <td>2017.0</td>\n",
       "    </tr>\n",
       "    <tr>\n",
       "      <td>Pos.</td>\n",
       "      <td>200.0</td>\n",
       "      <td>1.050000e+01</td>\n",
       "      <td>5.780751e+00</td>\n",
       "      <td>1.0</td>\n",
       "      <td>5.75</td>\n",
       "      <td>10.5</td>\n",
       "      <td>15.25</td>\n",
       "      <td>20.0</td>\n",
       "    </tr>\n",
       "    <tr>\n",
       "      <td>Vitorias</td>\n",
       "      <td>200.0</td>\n",
       "      <td>1.385500e+01</td>\n",
       "      <td>3.967706e+00</td>\n",
       "      <td>4.0</td>\n",
       "      <td>11.00</td>\n",
       "      <td>14.0</td>\n",
       "      <td>16.00</td>\n",
       "      <td>24.0</td>\n",
       "    </tr>\n",
       "    <tr>\n",
       "      <td>Derrotas</td>\n",
       "      <td>200.0</td>\n",
       "      <td>1.028000e+01</td>\n",
       "      <td>2.528551e+00</td>\n",
       "      <td>3.0</td>\n",
       "      <td>9.00</td>\n",
       "      <td>10.0</td>\n",
       "      <td>12.00</td>\n",
       "      <td>17.0</td>\n",
       "    </tr>\n",
       "    <tr>\n",
       "      <td>Empates</td>\n",
       "      <td>200.0</td>\n",
       "      <td>1.385500e+01</td>\n",
       "      <td>4.187079e+00</td>\n",
       "      <td>4.0</td>\n",
       "      <td>11.00</td>\n",
       "      <td>14.0</td>\n",
       "      <td>17.00</td>\n",
       "      <td>28.0</td>\n",
       "    </tr>\n",
       "    <tr>\n",
       "      <td>Saldo</td>\n",
       "      <td>200.0</td>\n",
       "      <td>0.000000e+00</td>\n",
       "      <td>1.552725e+01</td>\n",
       "      <td>-57.0</td>\n",
       "      <td>-9.00</td>\n",
       "      <td>-1.0</td>\n",
       "      <td>11.25</td>\n",
       "      <td>40.0</td>\n",
       "    </tr>\n",
       "    <tr>\n",
       "      <td>Qtd_Jogadores</td>\n",
       "      <td>200.0</td>\n",
       "      <td>4.323000e+01</td>\n",
       "      <td>9.476610e+00</td>\n",
       "      <td>20.0</td>\n",
       "      <td>36.00</td>\n",
       "      <td>43.0</td>\n",
       "      <td>50.00</td>\n",
       "      <td>77.0</td>\n",
       "    </tr>\n",
       "    <tr>\n",
       "      <td>Estrangeiros</td>\n",
       "      <td>200.0</td>\n",
       "      <td>2.885000e+00</td>\n",
       "      <td>2.042704e+00</td>\n",
       "      <td>0.0</td>\n",
       "      <td>1.00</td>\n",
       "      <td>3.0</td>\n",
       "      <td>4.00</td>\n",
       "      <td>8.0</td>\n",
       "    </tr>\n",
       "    <tr>\n",
       "      <td>Valor_total</td>\n",
       "      <td>200.0</td>\n",
       "      <td>3.925280e+07</td>\n",
       "      <td>2.523390e+07</td>\n",
       "      <td>2350000.0</td>\n",
       "      <td>17262500.00</td>\n",
       "      <td>35050000.0</td>\n",
       "      <td>55312500.00</td>\n",
       "      <td>115800000.0</td>\n",
       "    </tr>\n",
       "    <tr>\n",
       "      <td>Media_Valor</td>\n",
       "      <td>200.0</td>\n",
       "      <td>9.124400e+05</td>\n",
       "      <td>5.625510e+05</td>\n",
       "      <td>67000.0</td>\n",
       "      <td>392500.00</td>\n",
       "      <td>841000.0</td>\n",
       "      <td>1362500.00</td>\n",
       "      <td>2520000.0</td>\n",
       "    </tr>\n",
       "  </tbody>\n",
       "</table>\n",
       "</div>"
      ],
      "text/plain": [
       "               count          mean           std        min          25%  \\\n",
       "Ano            200.0  2.012500e+03  2.879489e+00     2008.0      2010.00   \n",
       "Pos.           200.0  1.050000e+01  5.780751e+00        1.0         5.75   \n",
       "Vitorias       200.0  1.385500e+01  3.967706e+00        4.0        11.00   \n",
       "Derrotas       200.0  1.028000e+01  2.528551e+00        3.0         9.00   \n",
       "Empates        200.0  1.385500e+01  4.187079e+00        4.0        11.00   \n",
       "Saldo          200.0  0.000000e+00  1.552725e+01      -57.0        -9.00   \n",
       "Qtd_Jogadores  200.0  4.323000e+01  9.476610e+00       20.0        36.00   \n",
       "Estrangeiros   200.0  2.885000e+00  2.042704e+00        0.0         1.00   \n",
       "Valor_total    200.0  3.925280e+07  2.523390e+07  2350000.0  17262500.00   \n",
       "Media_Valor    200.0  9.124400e+05  5.625510e+05    67000.0    392500.00   \n",
       "\n",
       "                      50%          75%          max  \n",
       "Ano                2012.5      2015.00       2017.0  \n",
       "Pos.                 10.5        15.25         20.0  \n",
       "Vitorias             14.0        16.00         24.0  \n",
       "Derrotas             10.0        12.00         17.0  \n",
       "Empates              14.0        17.00         28.0  \n",
       "Saldo                -1.0        11.25         40.0  \n",
       "Qtd_Jogadores        43.0        50.00         77.0  \n",
       "Estrangeiros          3.0         4.00          8.0  \n",
       "Valor_total    35050000.0  55312500.00  115800000.0  \n",
       "Media_Valor      841000.0   1362500.00    2520000.0  "
      ]
     },
     "execution_count": 7,
     "metadata": {},
     "output_type": "execute_result"
    }
   ],
   "source": [
    "tabela.describe().transpose()"
   ]
  },
  {
   "cell_type": "code",
   "execution_count": 8,
   "metadata": {},
   "outputs": [
    {
     "data": {
      "text/plain": [
       "Ano              0\n",
       "Pos.             0\n",
       "Clubes           0\n",
       "Vitorias         0\n",
       "Derrotas         0\n",
       "Empates          0\n",
       "GolsF/S          0\n",
       "Saldo            0\n",
       "Qtd_Jogadores    0\n",
       "Idade_Media      0\n",
       "Estrangeiros     0\n",
       "Valor_total      0\n",
       "Media_Valor      0\n",
       "dtype: int64"
      ]
     },
     "execution_count": 8,
     "metadata": {},
     "output_type": "execute_result"
    }
   ],
   "source": [
    "tabela.isnull().sum()"
   ]
  },
  {
   "cell_type": "code",
   "execution_count": 9,
   "metadata": {},
   "outputs": [],
   "source": [
    "# Algumas colunas estavam com o nome errado, por exemplo a coluna de empates estava como derrota e vice versa. Por isso na linha abaixo estou renomeando as colunas com o nome correto.\n",
    "tabela.columns = ['Ano', 'Posição', 'Clubes', 'Vitorias', 'Empates', 'Derrotas','GolsF/S', 'Saldo', 'Qtd_Jogadores','Idade_Media', 'Estrangeiros', 'Valor_total', 'Media_Valor']"
   ]
  },
  {
   "cell_type": "code",
   "execution_count": 10,
   "metadata": {},
   "outputs": [],
   "source": [
    "# O ano dos campeonatos esta errado, por isso vou adicionar 1 aos anos.\n",
    "tabela['Ano'] = tabela['Ano']+1"
   ]
  },
  {
   "cell_type": "code",
   "execution_count": 11,
   "metadata": {},
   "outputs": [
    {
     "data": {
      "text/plain": [
       "Santos           10\n",
       "Gremio           10\n",
       "Atletico-MG      10\n",
       "Fluminense       10\n",
       "Cruzeiro         10\n",
       "Sao Paulo        10\n",
       "Corinthians      10\n",
       "Flamengo         10\n",
       "Palmeiras         9\n",
       "Botafogo          9\n",
       "Internacional     9\n",
       "Athletico-PR      9\n",
       "Coritiba          8\n",
       "Sport             7\n",
       "Vasco             7\n",
       "Vitoria           7\n",
       "Bahia             6\n",
       "Avai              5\n",
       "Figueirense       5\n",
       "Goias             5\n",
       "Chapecoense       5\n",
       "Ponte Preta       5\n",
       "Atletico-GO       4\n",
       "Nautico           3\n",
       "Ceara             3\n",
       "America-MG        3\n",
       "Prudente          2\n",
       "Criciuma          2\n",
       "Portuguesa        2\n",
       "Joinville         1\n",
       "Guarani           1\n",
       "Santa Cruz        1\n",
       "Parana            1\n",
       "Santo Andre       1\n",
       "Name: Clubes, dtype: int64"
      ]
     },
     "execution_count": 11,
     "metadata": {},
     "output_type": "execute_result"
    }
   ],
   "source": [
    "tabela.Clubes.value_counts()"
   ]
  },
  {
   "cell_type": "code",
   "execution_count": 12,
   "metadata": {},
   "outputs": [],
   "source": [
    "#transformando a variável Idade_Media em um float\n",
    "tabela.Idade_Media = tabela.Idade_Media.apply(lambda x: x.replace(',', '.'))\n",
    "tabela.Idade_Media = tabela.Idade_Media.astype(float)"
   ]
  },
  {
   "cell_type": "code",
   "execution_count": 13,
   "metadata": {},
   "outputs": [],
   "source": [
    "# Agora estou criando uma coluna com os pontos dos times\n",
    "tabela[\"Pontos\"] = (tabela['Vitorias']*3)+(tabela[\"Empates\"])"
   ]
  },
  {
   "cell_type": "code",
   "execution_count": 14,
   "metadata": {},
   "outputs": [
    {
     "data": {
      "text/html": [
       "<div>\n",
       "<style scoped>\n",
       "    .dataframe tbody tr th:only-of-type {\n",
       "        vertical-align: middle;\n",
       "    }\n",
       "\n",
       "    .dataframe tbody tr th {\n",
       "        vertical-align: top;\n",
       "    }\n",
       "\n",
       "    .dataframe thead th {\n",
       "        text-align: right;\n",
       "    }\n",
       "</style>\n",
       "<table border=\"1\" class=\"dataframe\">\n",
       "  <thead>\n",
       "    <tr style=\"text-align: right;\">\n",
       "      <th></th>\n",
       "      <th>Ano</th>\n",
       "      <th>Posição</th>\n",
       "      <th>Clubes</th>\n",
       "      <th>Vitorias</th>\n",
       "      <th>Empates</th>\n",
       "      <th>Derrotas</th>\n",
       "      <th>GolsF/S</th>\n",
       "      <th>Saldo</th>\n",
       "      <th>Qtd_Jogadores</th>\n",
       "      <th>Idade_Media</th>\n",
       "      <th>Estrangeiros</th>\n",
       "      <th>Valor_total</th>\n",
       "      <th>Media_Valor</th>\n",
       "      <th>Pontos</th>\n",
       "    </tr>\n",
       "  </thead>\n",
       "  <tbody>\n",
       "    <tr>\n",
       "      <td>0</td>\n",
       "      <td>2018</td>\n",
       "      <td>18</td>\n",
       "      <td>America-MG</td>\n",
       "      <td>10</td>\n",
       "      <td>10</td>\n",
       "      <td>18</td>\n",
       "      <td>30:47</td>\n",
       "      <td>-17</td>\n",
       "      <td>51</td>\n",
       "      <td>24.8</td>\n",
       "      <td>0</td>\n",
       "      <td>27350000</td>\n",
       "      <td>536000</td>\n",
       "      <td>40</td>\n",
       "    </tr>\n",
       "    <tr>\n",
       "      <td>1</td>\n",
       "      <td>2018</td>\n",
       "      <td>7</td>\n",
       "      <td>Athletico-PR</td>\n",
       "      <td>16</td>\n",
       "      <td>9</td>\n",
       "      <td>13</td>\n",
       "      <td>54:37</td>\n",
       "      <td>17</td>\n",
       "      <td>52</td>\n",
       "      <td>24.0</td>\n",
       "      <td>3</td>\n",
       "      <td>37650000</td>\n",
       "      <td>724000</td>\n",
       "      <td>57</td>\n",
       "    </tr>\n",
       "    <tr>\n",
       "      <td>2</td>\n",
       "      <td>2018</td>\n",
       "      <td>6</td>\n",
       "      <td>Atletico-MG</td>\n",
       "      <td>17</td>\n",
       "      <td>8</td>\n",
       "      <td>13</td>\n",
       "      <td>56:43</td>\n",
       "      <td>13</td>\n",
       "      <td>50</td>\n",
       "      <td>23.4</td>\n",
       "      <td>6</td>\n",
       "      <td>61350000</td>\n",
       "      <td>1230000</td>\n",
       "      <td>59</td>\n",
       "    </tr>\n",
       "    <tr>\n",
       "      <td>3</td>\n",
       "      <td>2018</td>\n",
       "      <td>11</td>\n",
       "      <td>Bahia</td>\n",
       "      <td>12</td>\n",
       "      <td>12</td>\n",
       "      <td>14</td>\n",
       "      <td>39:41</td>\n",
       "      <td>-2</td>\n",
       "      <td>48</td>\n",
       "      <td>23.2</td>\n",
       "      <td>2</td>\n",
       "      <td>34900000</td>\n",
       "      <td>727000</td>\n",
       "      <td>48</td>\n",
       "    </tr>\n",
       "    <tr>\n",
       "      <td>4</td>\n",
       "      <td>2018</td>\n",
       "      <td>9</td>\n",
       "      <td>Botafogo</td>\n",
       "      <td>13</td>\n",
       "      <td>12</td>\n",
       "      <td>13</td>\n",
       "      <td>38:46</td>\n",
       "      <td>-8</td>\n",
       "      <td>45</td>\n",
       "      <td>23.1</td>\n",
       "      <td>4</td>\n",
       "      <td>25550000</td>\n",
       "      <td>568000</td>\n",
       "      <td>51</td>\n",
       "    </tr>\n",
       "  </tbody>\n",
       "</table>\n",
       "</div>"
      ],
      "text/plain": [
       "    Ano  Posição        Clubes  Vitorias  Empates  Derrotas GolsF/S  Saldo  \\\n",
       "0  2018       18    America-MG        10       10        18   30:47    -17   \n",
       "1  2018        7  Athletico-PR        16        9        13   54:37     17   \n",
       "2  2018        6   Atletico-MG        17        8        13   56:43     13   \n",
       "3  2018       11         Bahia        12       12        14   39:41     -2   \n",
       "4  2018        9      Botafogo        13       12        13   38:46     -8   \n",
       "\n",
       "   Qtd_Jogadores  Idade_Media  Estrangeiros  Valor_total  Media_Valor  Pontos  \n",
       "0             51         24.8             0     27350000       536000      40  \n",
       "1             52         24.0             3     37650000       724000      57  \n",
       "2             50         23.4             6     61350000      1230000      59  \n",
       "3             48         23.2             2     34900000       727000      48  \n",
       "4             45         23.1             4     25550000       568000      51  "
      ]
     },
     "execution_count": 14,
     "metadata": {},
     "output_type": "execute_result"
    }
   ],
   "source": [
    "tabela.head()"
   ]
  },
  {
   "cell_type": "markdown",
   "metadata": {},
   "source": [
    "# Campeões "
   ]
  },
  {
   "cell_type": "code",
   "execution_count": 15,
   "metadata": {},
   "outputs": [],
   "source": [
    "#Um filtro com apenas os campeões.\n",
    "campeoes = tabela.query('Posição == 1').sort_values('Pontos', ascending=False)"
   ]
  },
  {
   "cell_type": "code",
   "execution_count": 16,
   "metadata": {},
   "outputs": [],
   "source": [
    "#Para efeito gráfico, vou colocar o ano junto ao nome do Clube.\n",
    "new_campeao = campeoes[\"Ano\"].copy()\n",
    "new_campeao = new_campeao.astype(str)\n",
    "campeoes[\"Clubes\"]= campeoes[\"Clubes\"].str.cat(new_campeao, sep =\" - \") "
   ]
  },
  {
   "cell_type": "code",
   "execution_count": 17,
   "metadata": {},
   "outputs": [
    {
     "data": {
      "text/plain": [
       "count    10.000000\n",
       "mean     75.500000\n",
       "std       4.927248\n",
       "min      67.000000\n",
       "25%      71.250000\n",
       "50%      76.500000\n",
       "75%      80.000000\n",
       "max      81.000000\n",
       "Name: Pontos, dtype: float64"
      ]
     },
     "execution_count": 17,
     "metadata": {},
     "output_type": "execute_result"
    }
   ],
   "source": [
    "# Estatística de Pontos dos campeões\n",
    "campeoes['Pontos'].describe()"
   ]
  },
  {
   "cell_type": "markdown",
   "metadata": {},
   "source": [
    "Plotando um gráfico em barra da Pontuação dos Campeões."
   ]
  },
  {
   "cell_type": "code",
   "execution_count": 18,
   "metadata": {},
   "outputs": [
    {
     "data": {
      "text/plain": [
       "<matplotlib.axes._subplots.AxesSubplot at 0x7f025ed5b3c8>"
      ]
     },
     "execution_count": 18,
     "metadata": {},
     "output_type": "execute_result"
    },
    {
     "data": {
      "image/png": "[encoded data removed]",
      "text/plain": [
       "<Figure size 1296x576 with 1 Axes>"
      ]
     },
     "metadata": {
      "needs_background": "light"
     },
     "output_type": "display_data"
    }
   ],
   "source": [
    "plt.figure(figsize=(18,8))\n",
    "sns.barplot(x=\"Clubes\", y=\"Pontos\", data=campeoes)"
   ]
  },
  {
   "cell_type": "markdown",
   "metadata": {},
   "source": [
    "O Campeão com a maior pontuação foi o Corinthians com 81 pontos em 2015. A Média de pontos dos ultimos campeões foi de cerca de 76 Pontos e o desvio padrão 4,9 que é um valor relativamente baixo."
   ]
  },
  {
   "cell_type": "code",
   "execution_count": 19,
   "metadata": {},
   "outputs": [
    {
     "data": {
      "text/plain": [
       "count    10.000000\n",
       "mean     22.100000\n",
       "std       1.791957\n",
       "min      19.000000\n",
       "25%      21.000000\n",
       "50%      22.500000\n",
       "75%      23.750000\n",
       "max      24.000000\n",
       "Name: Vitorias, dtype: float64"
      ]
     },
     "execution_count": 19,
     "metadata": {},
     "output_type": "execute_result"
    }
   ],
   "source": [
    "# Estatística de Vitórias dos campeões\n",
    "campeoes['Vitorias'].describe()"
   ]
  },
  {
   "cell_type": "markdown",
   "metadata": {},
   "source": [
    "Plotando um gráfico em barra das vitórias dos Campeões."
   ]
  },
  {
   "cell_type": "code",
   "execution_count": 20,
   "metadata": {
    "scrolled": true
   },
   "outputs": [
    {
     "data": {
      "text/plain": [
       "<matplotlib.axes._subplots.AxesSubplot at 0x7f027cf6fba8>"
      ]
     },
     "execution_count": 20,
     "metadata": {},
     "output_type": "execute_result"
    },
    {
     "data": {
      "image/png": "[encoded data removed]",
      "text/plain": [
       "<Figure size 1296x432 with 1 Axes>"
      ]
     },
     "metadata": {
      "needs_background": "light"
     },
     "output_type": "display_data"
    }
   ],
   "source": [
    "plt.figure(figsize=(18,6))\n",
    "sns.barplot(x=\"Clubes\", y=\"Vitorias\", data=campeoes)"
   ]
  },
  {
   "cell_type": "code",
   "execution_count": 21,
   "metadata": {},
   "outputs": [
    {
     "data": {
      "text/plain": [
       "count    10.000000\n",
       "mean      6.700000\n",
       "std       1.766981\n",
       "min       4.000000\n",
       "25%       5.250000\n",
       "50%       6.500000\n",
       "75%       8.000000\n",
       "max       9.000000\n",
       "Name: Derrotas, dtype: float64"
      ]
     },
     "execution_count": 21,
     "metadata": {},
     "output_type": "execute_result"
    }
   ],
   "source": [
    "# Estatística de Derrotas dos campeões\n",
    "campeoes['Derrotas'].describe()"
   ]
  },
  {
   "cell_type": "markdown",
   "metadata": {},
   "source": [
    "Plotando um gráfico em barra do número de derrotas dos campeões."
   ]
  },
  {
   "cell_type": "code",
   "execution_count": 22,
   "metadata": {},
   "outputs": [
    {
     "data": {
      "text/plain": [
       "<matplotlib.axes._subplots.AxesSubplot at 0x7f025cc715c0>"
      ]
     },
     "execution_count": 22,
     "metadata": {},
     "output_type": "execute_result"
    },
    {
     "data": {
      "image/png": "[encoded data removed]",
      "text/plain": [
       "<Figure size 1296x576 with 1 Axes>"
      ]
     },
     "metadata": {
      "needs_background": "light"
     },
     "output_type": "display_data"
    }
   ],
   "source": [
    "plt.figure(figsize=(18,8))\n",
    "sns.barplot(x=\"Clubes\", y=\"Derrotas\", data=campeoes)"
   ]
  },
  {
   "cell_type": "markdown",
   "metadata": {},
   "source": [
    "O Corinthians em 2011 e o Flamengo em 2009 foram os campeões com o maior número de derrotas, sendo 9 no total."
   ]
  },
  {
   "cell_type": "markdown",
   "metadata": {},
   "source": [
    "# Vice-Campeões"
   ]
  },
  {
   "cell_type": "code",
   "execution_count": 23,
   "metadata": {},
   "outputs": [],
   "source": [
    "vice_campeoes = tabela.query('Posição == 2')"
   ]
  },
  {
   "cell_type": "code",
   "execution_count": 24,
   "metadata": {},
   "outputs": [],
   "source": [
    "vice_campeoes = vice_campeoes.sort_values('Pontos', ascending=False)"
   ]
  },
  {
   "cell_type": "code",
   "execution_count": 25,
   "metadata": {},
   "outputs": [],
   "source": [
    "#Para efeito gráfico, vou colocar o ano junto ao nome do Clube.\n",
    "new = vice_campeoes[\"Ano\"].copy()\n",
    "new = new.astype(str)\n",
    "vice_campeoes[\"Clubes\"]= vice_campeoes[\"Clubes\"].str.cat(new, sep =\" - \") "
   ]
  },
  {
   "cell_type": "code",
   "execution_count": 26,
   "metadata": {},
   "outputs": [
    {
     "data": {
      "text/plain": [
       "count    10.000000\n",
       "mean     68.500000\n",
       "std       3.135815\n",
       "min      63.000000\n",
       "25%      66.000000\n",
       "50%      69.000000\n",
       "75%      70.750000\n",
       "max      72.000000\n",
       "Name: Pontos, dtype: float64"
      ]
     },
     "execution_count": 26,
     "metadata": {},
     "output_type": "execute_result"
    }
   ],
   "source": [
    "# Estatística de pontos dos Vice-campeões\n",
    "vice_campeoes['Pontos'].describe()"
   ]
  },
  {
   "cell_type": "markdown",
   "metadata": {},
   "source": [
    "Pontuação máxima de um Vice-Campeão foi de 72 Pontos. A Média de pontuação dos Vice-Campeões foi de 69 Pontos. "
   ]
  },
  {
   "cell_type": "markdown",
   "metadata": {},
   "source": [
    "Plotando um gráfico de pontos dos vice-campeões"
   ]
  },
  {
   "cell_type": "code",
   "execution_count": 27,
   "metadata": {},
   "outputs": [
    {
     "data": {
      "text/plain": [
       "<matplotlib.axes._subplots.AxesSubplot at 0x7f025cb27a20>"
      ]
     },
     "execution_count": 27,
     "metadata": {},
     "output_type": "execute_result"
    },
    {
     "data": {
      "image/png": "[encoded data removed]",
      "text/plain": [
       "<Figure size 1296x576 with 1 Axes>"
      ]
     },
     "metadata": {
      "needs_background": "light"
     },
     "output_type": "display_data"
    }
   ],
   "source": [
    "plt.figure(figsize=(18,8))\n",
    "sns.barplot(x=\"Clubes\", y=\"Pontos\", data=vice_campeoes)"
   ]
  },
  {
   "cell_type": "markdown",
   "metadata": {},
   "source": [
    "O Vice-Campeão com maior pontuação foi o Flamengo em 2018 com 72 Pontos."
   ]
  },
  {
   "cell_type": "code",
   "execution_count": 28,
   "metadata": {},
   "outputs": [
    {
     "data": {
      "text/plain": [
       "count    10.000000\n",
       "mean     19.900000\n",
       "std       1.197219\n",
       "min      18.000000\n",
       "25%      19.000000\n",
       "50%      20.000000\n",
       "75%      20.750000\n",
       "max      22.000000\n",
       "Name: Vitorias, dtype: float64"
      ]
     },
     "execution_count": 28,
     "metadata": {},
     "output_type": "execute_result"
    }
   ],
   "source": [
    "# Estatística de vitórias dos vice_campeões\n",
    "vice_campeoes['Vitorias'].describe()"
   ]
  },
  {
   "cell_type": "markdown",
   "metadata": {},
   "source": [
    "o número maxímo de vitórias de um Vice-Campeão foi 22."
   ]
  },
  {
   "cell_type": "code",
   "execution_count": 29,
   "metadata": {},
   "outputs": [
    {
     "data": {
      "text/plain": [
       "count    10.000000\n",
       "mean      9.300000\n",
       "std       2.162817\n",
       "min       6.000000\n",
       "25%       8.000000\n",
       "50%       9.000000\n",
       "75%      11.000000\n",
       "max      13.000000\n",
       "Name: Derrotas, dtype: float64"
      ]
     },
     "execution_count": 29,
     "metadata": {},
     "output_type": "execute_result"
    }
   ],
   "source": [
    "# Estatística de Derrotas dos Vice_campeões\n",
    "vice_campeoes['Derrotas'].describe()"
   ]
  },
  {
   "cell_type": "markdown",
   "metadata": {},
   "source": [
    "Plotando um gráfico de derrotas dos vice-campeões"
   ]
  },
  {
   "cell_type": "code",
   "execution_count": 30,
   "metadata": {},
   "outputs": [
    {
     "data": {
      "text/plain": [
       "<matplotlib.axes._subplots.AxesSubplot at 0x7f025cab4898>"
      ]
     },
     "execution_count": 30,
     "metadata": {},
     "output_type": "execute_result"
    },
    {
     "data": {
      "image/png": "[encoded data removed]",
      "text/plain": [
       "<Figure size 1296x576 with 1 Axes>"
      ]
     },
     "metadata": {
      "needs_background": "light"
     },
     "output_type": "display_data"
    }
   ],
   "source": [
    "plt.figure(figsize=(18,8))\n",
    "sns.barplot(x=\"Clubes\", y=\"Derrotas\", data=vice_campeoes)"
   ]
  },
  {
   "cell_type": "markdown",
   "metadata": {},
   "source": [
    "O Vice-Campeão com menor número de derrotas foi o Atletico-MG em 2012 com 6 derrotas."
   ]
  },
  {
   "cell_type": "markdown",
   "metadata": {},
   "source": [
    "<p>Algumas condições:<p/>\n",
    "Ter pelo menos 75 Pontos.<br /> \n",
    "Alcançar 23 vitórias.<br />\n",
    "Perder no máximo 5 vezes.<br />"
   ]
  },
  {
   "cell_type": "markdown",
   "metadata": {},
   "source": [
    "# Libertadores da América "
   ]
  },
  {
   "cell_type": "code",
   "execution_count": 31,
   "metadata": {},
   "outputs": [],
   "source": [
    "libertadores = tabela.query('Posição == 4').sort_values('Pontos', ascending=False)"
   ]
  },
  {
   "cell_type": "code",
   "execution_count": 32,
   "metadata": {},
   "outputs": [],
   "source": [
    "#Para efeito gráfico, vou colocar o ano junto ao nome do Clube.\n",
    "new_liberta = libertadores[\"Ano\"].copy()\n",
    "new_liberta = new_liberta.astype(str)\n",
    "libertadores[\"Clubes\"]= libertadores[\"Clubes\"].str.cat(new_liberta, sep =\" - \") "
   ]
  },
  {
   "cell_type": "code",
   "execution_count": 33,
   "metadata": {},
   "outputs": [
    {
     "data": {
      "text/plain": [
       "count    10.000000\n",
       "mean     63.400000\n",
       "std       2.674987\n",
       "min      61.000000\n",
       "25%      62.000000\n",
       "50%      62.000000\n",
       "75%      65.250000\n",
       "max      69.000000\n",
       "Name: Pontos, dtype: float64"
      ]
     },
     "execution_count": 33,
     "metadata": {},
     "output_type": "execute_result"
    }
   ],
   "source": [
    "# Estatística de pontos Libertadores\n",
    "libertadores['Pontos'].describe()"
   ]
  },
  {
   "cell_type": "code",
   "execution_count": 34,
   "metadata": {},
   "outputs": [
    {
     "data": {
      "text/plain": [
       "<matplotlib.axes._subplots.AxesSubplot at 0x7f025cca8a58>"
      ]
     },
     "execution_count": 34,
     "metadata": {},
     "output_type": "execute_result"
    },
    {
     "data": {
      "image/png": "[encoded data removed]",
      "text/plain": [
       "<Figure size 1152x432 with 1 Axes>"
      ]
     },
     "metadata": {
      "needs_background": "light"
     },
     "output_type": "display_data"
    }
   ],
   "source": [
    "plt.figure(figsize=(16,6))\n",
    "sns.barplot(x=\"Clubes\", y=\"Pontos\", data=libertadores)"
   ]
  },
  {
   "cell_type": "markdown",
   "metadata": {},
   "source": [
    "A Média de pontos para ir a libertadores direto (chegar entre os 4 primeiros sem ter que ir a pré-libertadores) é de cerca de 63 Pontos. O Desvio padrão é de cerca de 2,6. Porém em 2018 o São Paulo chegou em quinto lugar com 63 pontos, o que me fez dúvidar deste número, então decidi vericar o número de vitórias.\n"
   ]
  },
  {
   "cell_type": "markdown",
   "metadata": {},
   "source": [
    "# Pré-Libertadores"
   ]
  },
  {
   "cell_type": "code",
   "execution_count": 35,
   "metadata": {},
   "outputs": [],
   "source": [
    "pre_libertadores = tabela.query('Posição in [5,6]').sort_values('Pontos', ascending=False)"
   ]
  },
  {
   "cell_type": "code",
   "execution_count": 36,
   "metadata": {},
   "outputs": [
    {
     "data": {
      "text/plain": [
       "count    20.000000\n",
       "mean     59.150000\n",
       "std       1.871532\n",
       "min      56.000000\n",
       "25%      57.750000\n",
       "50%      59.000000\n",
       "75%      60.000000\n",
       "max      63.000000\n",
       "Name: Pontos, dtype: float64"
      ]
     },
     "execution_count": 36,
     "metadata": {},
     "output_type": "execute_result"
    }
   ],
   "source": [
    "pre_libertadores['Pontos'].describe()"
   ]
  },
  {
   "cell_type": "markdown",
   "metadata": {},
   "source": [
    "<p>Agora quero saber se é possível fazer previsões com variavéis de antes de iniciar o campeonato, como:<p/>\n",
    "\n",
    "Qtd_Jogadores.<br /> Idade_Media.<br /> Estrangeiros.<br /> Valor_total.<br /> \tMedia_Valor.<br />"
   ]
  },
  {
   "cell_type": "code",
   "execution_count": 37,
   "metadata": {},
   "outputs": [],
   "source": [
    "X = tabela.drop(['Ano', 'Posição', 'Clubes', 'Vitorias', 'Derrotas', 'Empates', 'GolsF/S', 'Saldo', 'Pontos'], axis=1)\n",
    "y= tabela['Posição']"
   ]
  },
  {
   "cell_type": "code",
   "execution_count": 38,
   "metadata": {},
   "outputs": [],
   "source": [
    "X_train, X_test, y_train, y_test = train_test_split(X,y,test_size=0.3)"
   ]
  },
  {
   "cell_type": "code",
   "execution_count": 39,
   "metadata": {},
   "outputs": [],
   "source": [
    "modelo_regressao = LinearRegression()"
   ]
  },
  {
   "cell_type": "code",
   "execution_count": 40,
   "metadata": {},
   "outputs": [],
   "source": [
    "modelo_arvore= DecisionTreeClassifier()"
   ]
  },
  {
   "cell_type": "code",
   "execution_count": 41,
   "metadata": {},
   "outputs": [],
   "source": [
    "modelo_svc = SVC()"
   ]
  },
  {
   "cell_type": "code",
   "execution_count": 42,
   "metadata": {},
   "outputs": [
    {
     "data": {
      "text/plain": [
       "LinearRegression(copy_X=True, fit_intercept=True, n_jobs=None, normalize=False)"
      ]
     },
     "execution_count": 42,
     "metadata": {},
     "output_type": "execute_result"
    }
   ],
   "source": [
    "modelo_regressao.fit(X_train,y_train)"
   ]
  },
  {
   "cell_type": "code",
   "execution_count": 43,
   "metadata": {},
   "outputs": [
    {
     "data": {
      "text/plain": [
       "DecisionTreeClassifier(class_weight=None, criterion='gini', max_depth=None,\n",
       "                       max_features=None, max_leaf_nodes=None,\n",
       "                       min_impurity_decrease=0.0, min_impurity_split=None,\n",
       "                       min_samples_leaf=1, min_samples_split=2,\n",
       "                       min_weight_fraction_leaf=0.0, presort=False,\n",
       "                       random_state=None, splitter='best')"
      ]
     },
     "execution_count": 43,
     "metadata": {},
     "output_type": "execute_result"
    }
   ],
   "source": [
    "modelo_arvore.fit(X_train,y_train)"
   ]
  },
  {
   "cell_type": "code",
   "execution_count": 44,
   "metadata": {},
   "outputs": [
    {
     "name": "stderr",
     "output_type": "stream",
     "text": [
      "/opt/conda/lib/python3.6/site-packages/sklearn/svm/base.py:193: FutureWarning: The default value of gamma will change from 'auto' to 'scale' in version 0.22 to account better for unscaled features. Set gamma explicitly to 'auto' or 'scale' to avoid this warning.\n",
      "  \"avoid this warning.\", FutureWarning)\n"
     ]
    },
    {
     "data": {
      "text/plain": [
       "SVC(C=1.0, cache_size=200, class_weight=None, coef0=0.0,\n",
       "    decision_function_shape='ovr', degree=3, gamma='auto_deprecated',\n",
       "    kernel='rbf', max_iter=-1, probability=False, random_state=None,\n",
       "    shrinking=True, tol=0.001, verbose=False)"
      ]
     },
     "execution_count": 44,
     "metadata": {},
     "output_type": "execute_result"
    }
   ],
   "source": [
    "modelo_svc.fit(X_train,y_train)"
   ]
  },
  {
   "cell_type": "code",
   "execution_count": 45,
   "metadata": {},
   "outputs": [],
   "source": [
    "predict_regressao = modelo_regressao.predict(X_test)"
   ]
  },
  {
   "cell_type": "code",
   "execution_count": 46,
   "metadata": {},
   "outputs": [],
   "source": [
    "predict_arvore = modelo_arvore.predict(X_test)"
   ]
  },
  {
   "cell_type": "code",
   "execution_count": 47,
   "metadata": {},
   "outputs": [],
   "source": [
    "predict_svc= modelo_svc.predict(X_test)"
   ]
  },
  {
   "cell_type": "code",
   "execution_count": 48,
   "metadata": {},
   "outputs": [],
   "source": [
    "regressao = r2_score(y_test,predict_regressao)*100\n",
    "regressao = round(regressao, 2)"
   ]
  },
  {
   "cell_type": "code",
   "execution_count": 49,
   "metadata": {},
   "outputs": [],
   "source": [
    "decision_tree = accuracy_score(y_test,predict_arvore)*100\n",
    "decision_tree = round(decision_tree, 2)"
   ]
  },
  {
   "cell_type": "code",
   "execution_count": 50,
   "metadata": {},
   "outputs": [],
   "source": [
    "svc = accuracy_score(y_test,predict_svc)*100\n",
    "svc = round(svc, 2)"
   ]
  },
  {
   "cell_type": "code",
   "execution_count": 51,
   "metadata": {},
   "outputs": [
    {
     "name": "stdout",
     "output_type": "stream",
     "text": [
      "Usando regressão linear as minhas previsões acertaram 6.55 %\n",
      "Usando arvore de decisão as minhas previsões acertaram 0.0 %\n",
      "Usando SVC as minhas previsões acertaram 0.0 %\n"
     ]
    }
   ],
   "source": [
    "print('Usando regressão linear as minhas previsões acertaram', regressao, '%')\n",
    "print('Usando arvore de decisão as minhas previsões acertaram', decision_tree, '%')\n",
    "print('Usando SVC as minhas previsões acertaram', svc, '%')"
   ]
  },
  {
   "cell_type": "markdown",
   "metadata": {},
   "source": [
    "Os meus acertos não foram grandes para que eu possa definir quem será o campeão apenas com essas variáveis."
   ]
  },
  {
   "cell_type": "code",
   "execution_count": null,
   "metadata": {},
   "outputs": [],
   "source": []
  }
 ],
 "metadata": {
  "kernelspec": {
   "display_name": "Python 3",
   "language": "python",
   "name": "python3"
  },
  "language_info": {
   "codemirror_mode": {
    "name": "ipython",
    "version": 3
   },
   "file_extension": ".py",
   "mimetype": "text/x-python",
   "name": "python",
   "nbconvert_exporter": "python",
   "pygments_lexer": "ipython3",
   "version": "3.6.6"
  }
 },
 "nbformat": 4,
 "nbformat_minor": 1
}
