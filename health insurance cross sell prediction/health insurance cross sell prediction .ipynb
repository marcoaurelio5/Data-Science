{
 "cells": [
  {
   "cell_type": "markdown",
   "metadata": {},
   "source": [
    "# 0.0 - Problema de Negócio"
   ]
  },
  {
   "cell_type": "markdown",
   "metadata": {},
   "source": [
    "- Id: identificador único do cliente.\n",
    "- Gender: gênero do cliente.\n",
    "- Age: idade do cliente.\n",
    "- Driving License: 0, o cliente não tem permissão para dirigir e 1, o cliente tem para dirigir ( CNH – Carteira Nacional de Habilitação )\n",
    "- Region Code: código da região do cliente.\n",
    "- Previously Insured: 0, o cliente não tem seguro de automóvel e 1, o cliente já tem seguro de automóvel.\n",
    "- Vehicle Age: idade do veículo.\n",
    "- Vehicle Damage: 0, cliente nunca teve seu veículo danificado no passado e 1, cliente já teve seu veículo danificado no passado.\n",
    "- Anual Premium: quantidade que o cliente pagou à empresa pelo seguro de saúde anual.\n",
    "- Policy sales channel: código anônimo para o canal de contato com o cliente.\n",
    "- Vintage: número de dias que o cliente se associou à empresa através da compra do seguro de saúde.\n",
    "- Response: 0, o cliente não tem interesse e 1, o cliente tem interesse."
   ]
  },
  {
   "cell_type": "markdown",
   "metadata": {},
   "source": [
    "# 1.0 - Importações e Funções"
   ]
  },
  {
   "cell_type": "code",
   "execution_count": 108,
   "metadata": {},
   "outputs": [],
   "source": [
    "import pandas                  as pd\n",
    "import seaborn                 as sns\n",
    "import matplotlib.pyplot       as plt\n",
    "import numpy                   as np\n",
    "import scikitplot              as skplt\n",
    "\n",
    "from IPython.display           import Image\n",
    "from xgboost                   import XGBClassifier\n",
    "from sklearn.tree              import DecisionTreeClassifier\n",
    "from sklearn.neighbors         import KNeighborsClassifier\n",
    "from sklearn.dummy             import DummyClassifier\n",
    "from sklearn.linear_model      import LogisticRegression\n",
    "from sklearn.model_selection   import train_test_split, cross_validate, StratifiedKFold\n",
    "from sklearn.ensemble          import RandomForestClassifier, GradientBoostingClassifier, ExtraTreesClassifier, AdaBoostClassifier\n",
    "from sklearn.metrics           import accuracy_score, precision_score, recall_score, average_precision_score, roc_auc_score\n",
    "from sklearn.preprocessing     import RobustScaler, MinMaxScaler, StandardScaler\n",
    "from imblearn.under_sampling   import NearMiss\n",
    "from sklearn.model_selection   import train_test_split\n",
    "from imblearn.over_sampling    import SMOTE \n",
    "\n",
    "import warnings\n",
    "warnings.filterwarnings('ignore')"
   ]
  },
  {
   "cell_type": "code",
   "execution_count": 2,
   "metadata": {},
   "outputs": [],
   "source": [
    "# Função para criar range de idades para visualizar melhor graficamente.\n",
    "def age_range(age):\n",
    "    if age < 31:\n",
    "        return 1\n",
    "    elif age >= 31 and age < 42:\n",
    "        return 2\n",
    "    elif age >= 42 and age < 53:\n",
    "        return 3\n",
    "    elif age >= 53 and age < 64:\n",
    "        return 4\n",
    "    elif age >= 64 and age < 75:\n",
    "        return 5\n",
    "    else: \n",
    "        return 6\n",
    "        "
   ]
  },
  {
   "cell_type": "code",
   "execution_count": 3,
   "metadata": {},
   "outputs": [],
   "source": [
    "# Função para criar range de valor pago para visualizar melhor graficamente.\n",
    "def annual_premmium_range(valor):\n",
    "    if valor < 100000:\n",
    "        return 1\n",
    "    elif valor >= 100000 and valor < 200000 :\n",
    "        return 2\n",
    "    elif valor >= 200000 and valor < 300000:\n",
    "        return 3\n",
    "    elif valor >= 300000 and valor < 400000:\n",
    "        return 4\n",
    "    elif valor >= 400000 and valor < 500000:\n",
    "        return 5\n",
    "    else: \n",
    "        return 6\n",
    "        "
   ]
  },
  {
   "cell_type": "markdown",
   "metadata": {},
   "source": [
    "# 2.0 -  Análise Descritiva "
   ]
  },
  {
   "cell_type": "code",
   "execution_count": 4,
   "metadata": {},
   "outputs": [],
   "source": [
    "df = pd.read_csv('train.csv')"
   ]
  },
  {
   "cell_type": "code",
   "execution_count": null,
   "metadata": {},
   "outputs": [],
   "source": [
    "df.sample(5)"
   ]
  },
  {
   "cell_type": "markdown",
   "metadata": {},
   "source": [
    "## 2.1 - Data Shape"
   ]
  },
  {
   "cell_type": "code",
   "execution_count": null,
   "metadata": {},
   "outputs": [],
   "source": [
    "df.shape"
   ]
  },
  {
   "cell_type": "markdown",
   "metadata": {},
   "source": [
    "## 2.2 - Data Info"
   ]
  },
  {
   "cell_type": "code",
   "execution_count": null,
   "metadata": {
    "scrolled": true
   },
   "outputs": [],
   "source": [
    "df.info()"
   ]
  },
  {
   "cell_type": "markdown",
   "metadata": {},
   "source": [
    "## 2.3 - Data Describe"
   ]
  },
  {
   "cell_type": "code",
   "execution_count": null,
   "metadata": {},
   "outputs": [],
   "source": [
    "df.describe().T"
   ]
  },
  {
   "cell_type": "markdown",
   "metadata": {},
   "source": [
    "# 3.0 - Feature Enginnering "
   ]
  },
  {
   "cell_type": "code",
   "execution_count": null,
   "metadata": {},
   "outputs": [],
   "source": [
    "Image ('Comprar_Seguro.png')"
   ]
  },
  {
   "cell_type": "markdown",
   "metadata": {},
   "source": [
    "## 3.1 - Criação das Hipóteses"
   ]
  },
  {
   "cell_type": "markdown",
   "metadata": {},
   "source": [
    "**Hipótese do Veículo**\n",
    "\n",
    "**1.** Clientes com carros mais novos tem mais propensão a comprar seguro.\n",
    "\n",
    "**Hipótese da Pessoa**\n",
    "\n",
    "**1.** Clientes que pagam um valor mais alto de seguro de vida tem mais propensão a comprar o seguro.<br/>\n",
    "**2.** Clientes com mais idade tem mais propensão a comprar o seguro.<br/>\n",
    "**3.** Homens tem mais propensão a comprar o seguro.<br/>\n",
    "**4.** Clientes que tem carta de motorista tem mais propensão a comprar o seguro.<br/>\n",
    "**5.** Cliente que já tiveram o carro danificado no passado tem mais propensão a comprar o seguro."
   ]
  },
  {
   "cell_type": "markdown",
   "metadata": {},
   "source": [
    "## 3.2 - Feature Engineering"
   ]
  },
  {
   "cell_type": "code",
   "execution_count": 5,
   "metadata": {},
   "outputs": [],
   "source": [
    "df['DrivingLicense_PreviouslyInsured'] = df['Driving_License']+df['Previously_Insured']\n",
    "\n",
    "df['Age_Range'] = df['Age'].apply(age_range)\n",
    "\n",
    "df['Annual_Premium_range'] = df['Annual_Premium'].apply(annual_premmium_range)"
   ]
  },
  {
   "cell_type": "markdown",
   "metadata": {},
   "source": [
    "## 3.3 Separação de variavéis númericas e categoricas"
   ]
  },
  {
   "cell_type": "code",
   "execution_count": null,
   "metadata": {},
   "outputs": [],
   "source": [
    "df_cat = df.select_dtypes(include='object')\n",
    "df_num = df.select_dtypes(exclude='object')"
   ]
  },
  {
   "cell_type": "markdown",
   "metadata": {},
   "source": [
    "# 4.0 - Análise Exploratória"
   ]
  },
  {
   "cell_type": "markdown",
   "metadata": {},
   "source": [
    "## 4.1 - Análise univariada"
   ]
  },
  {
   "cell_type": "markdown",
   "metadata": {},
   "source": [
    "### 4.1.1 - Variável Resposta"
   ]
  },
  {
   "cell_type": "code",
   "execution_count": null,
   "metadata": {},
   "outputs": [],
   "source": [
    "# Os dados estão desbalanceados. A grande maioria não tem interesse em efetuar a compra do seguro.\n",
    "sns.countplot(x='Response', data=df);"
   ]
  },
  {
   "cell_type": "markdown",
   "metadata": {},
   "source": [
    "### 4.1.2 - Variáveis númericas"
   ]
  },
  {
   "cell_type": "code",
   "execution_count": null,
   "metadata": {
    "hide_input": true
   },
   "outputs": [],
   "source": [
    "fig = plt.figure(figsize=(15,15))\n",
    "ax = fig.gca()\n",
    "df_num.hist(ax=ax);"
   ]
  },
  {
   "cell_type": "markdown",
   "metadata": {},
   "source": [
    "### 4.1.3 - Variáveis Categoricas"
   ]
  },
  {
   "cell_type": "code",
   "execution_count": null,
   "metadata": {},
   "outputs": [],
   "source": [
    "df_cat.apply(lambda x: x.unique())"
   ]
  },
  {
   "cell_type": "code",
   "execution_count": null,
   "metadata": {
    "hide_input": true
   },
   "outputs": [],
   "source": [
    "plt.figure(figsize=(18,10))\n",
    "plt.subplot(3,2,1)\n",
    "sns.countplot(x='Gender', hue='Response', data=df)\n",
    "\n",
    "plt.subplot(3,2,2)\n",
    "sns.kdeplot(df[df['Gender'] == 'Male']['Response'],label='Male', shade=True)\n",
    "sns.kdeplot(df[df['Gender'] == 'Female']['Response'], label='Female', shade=True)\n",
    "\n",
    "plt.subplot(3,2,3)\n",
    "sns.countplot(x='Vehicle_Age', hue='Response', data=df)\n",
    "\n",
    "plt.subplot(3,2,4)\n",
    "sns.kdeplot(df[df['Vehicle_Age'] == '> 2 Years']['Response'],label='> 2 Years', shade=True)\n",
    "sns.kdeplot(df[df['Vehicle_Age'] == '1-2 Year']['Response'], label='1-2 Year', shade=True)\n",
    "sns.kdeplot(df[df['Vehicle_Age'] == '< 1 Year']['Response'], label='< 1 Year', shade=True)\n",
    "\n",
    "plt.subplot(3,2,5)\n",
    "sns.countplot(x='Vehicle_Damage', hue='Response', data=df)\n",
    "\n",
    "plt.subplot(3,2,6)\n",
    "sns.kdeplot(df[df['Vehicle_Damage'] == 'Yes']['Response'], label='Yes', shade=True)\n",
    "sns.kdeplot(df[df['Vehicle_Damage'] == 'No']['Response'],  label='No', shade=True);"
   ]
  },
  {
   "cell_type": "markdown",
   "metadata": {},
   "source": [
    "## 4.2 - Análise Bivariada"
   ]
  },
  {
   "cell_type": "markdown",
   "metadata": {},
   "source": [
    "**H1 - Os clientes que possuem os carros mais novos são mais interessados em seguro?**\n",
    "\n",
    "**R:** Falso. Em média os clientes que possuem carros com mais de dois anos tem mais interesse em comprar o seguro."
   ]
  },
  {
   "cell_type": "code",
   "execution_count": null,
   "metadata": {
    "hide_input": true
   },
   "outputs": [],
   "source": [
    "fig, ax = plt.subplots(1, 2, figsize=(18,6))\n",
    "\n",
    "sns.countplot(x='Vehicle_Age', hue='Response', data=df, ax=ax[0]);\n",
    "\n",
    "aux1 = df[['Vehicle_Age', 'Response']].groupby('Vehicle_Age').mean();\n",
    "aux1.plot.bar(ax=ax[1]);\n"
   ]
  },
  {
   "cell_type": "markdown",
   "metadata": {},
   "source": [
    "**H2 - Clientes que pagam um valor mais alto de seguro de vida tem mais propensão a comprar o seguro.**\n",
    "\n",
    "**R:** Verdadeiro. Em média, clientes que pagam de 400 mil a 500 mil são os mais interessados em comprar o seguro."
   ]
  },
  {
   "cell_type": "code",
   "execution_count": null,
   "metadata": {
    "cell_style": "center",
    "hide_input": true
   },
   "outputs": [],
   "source": [
    "fig, ax = plt.subplots(1, 2, figsize=(18,6))\n",
    "sns.countplot(x='Annual_Premium_range', hue='Response', data=df,ax=ax[0])\n",
    "\n",
    "aux1 = df[['Annual_Premium_range', 'Response']].groupby('Annual_Premium_range').mean()\n",
    "aux1.plot.bar(ax=ax[0]);\n",
    "\n",
    "aux2 = df.sample(100000)\n",
    "sns.scatterplot(x='Annual_Premium', y='id', hue='Response', data=aux2,ax=ax[1]);"
   ]
  },
  {
   "cell_type": "markdown",
   "metadata": {},
   "source": [
    "**H3 - Clientes com mais idade tem mais propensão a comprar o seguro.**\n",
    "\n",
    "**R:** Falso. Em média os clientes de meia idade tem mais interesse em comprar o seguro."
   ]
  },
  {
   "cell_type": "markdown",
   "metadata": {},
   "source": [
    "**Qual idade que contrata mais seguro?**\n",
    "\n",
    "**R:** As pessoas mais jovens (até 30 anos)são mais acostumadas a contratar seguro."
   ]
  },
  {
   "cell_type": "code",
   "execution_count": null,
   "metadata": {
    "hide_input": true
   },
   "outputs": [],
   "source": [
    "fig, ax = plt.subplots(1, 2, figsize=(18,6))\n",
    "\n",
    "sns.countplot(x='Age_Range', hue='Previously_Insured', data=df, ax=ax[0]);\n",
    "\n",
    "aux1 = df[['Age_Range', 'Previously_Insured']].groupby('Age_Range').mean();\n",
    "aux1.plot.bar(ax=ax[1]);"
   ]
  },
  {
   "cell_type": "markdown",
   "metadata": {},
   "source": [
    "**Qual idade está mais propensa a comprar o seguro?**\n",
    "\n",
    "**R:** Em média, quem está no Age_Range 2 e 3 (de 31 até 53 anos) tem mais propensão a contratar um seguro."
   ]
  },
  {
   "cell_type": "code",
   "execution_count": null,
   "metadata": {
    "hide_input": true
   },
   "outputs": [],
   "source": [
    "fig, ax = plt.subplots(1, 2, figsize=(18,6))\n",
    "\n",
    "sns.countplot(x='Age_Range', hue='Response', data=df, ax=ax[0]);\n",
    "\n",
    "aux1 = df[['Age_Range', 'Response']].groupby('Age_Range').mean()\n",
    "aux1.plot.bar(ax=ax[1]);"
   ]
  },
  {
   "cell_type": "markdown",
   "metadata": {},
   "source": [
    "**H4 - Homens tem mais propensão a comprar o seguro.**\n",
    "\n",
    "**R:** Verdadeiro. Em média os clientes do gênero Masculino possuem interesse em comprar o seguro do que o gênero feminino."
   ]
  },
  {
   "cell_type": "code",
   "execution_count": null,
   "metadata": {
    "hide_input": true
   },
   "outputs": [],
   "source": [
    "fig, ax = plt.subplots(1, 2, figsize=(18,6))\n",
    "\n",
    "sns.countplot(x='Gender', hue='Response', data=df, ax=ax[0]);\n",
    "\n",
    "aux1 = df[['Gender', 'Response']].groupby('Gender').mean();\n",
    "aux1.plot.bar(ax=ax[1]);\n"
   ]
  },
  {
   "cell_type": "markdown",
   "metadata": {},
   "source": [
    "**H5 - Clientes que tem carta de motorista tem mais propensão a comprar o seguro.**\n",
    "\n",
    "**R:** Verdadeiro. A grande maioria das pessoas da amostra possui carteira de habilitação. Porém, é grande o número de pessoas que não possuem carta e tem interesse em contratar o seguro."
   ]
  },
  {
   "cell_type": "code",
   "execution_count": null,
   "metadata": {
    "cell_style": "split",
    "hide_input": true
   },
   "outputs": [],
   "source": [
    "sns.countplot(x='Driving_License', data=df);"
   ]
  },
  {
   "cell_type": "code",
   "execution_count": null,
   "metadata": {
    "cell_style": "split",
    "hide_input": true
   },
   "outputs": [],
   "source": [
    "aux1 = df[['Driving_License', 'Response']].groupby('Driving_License').mean();\n",
    "aux1.plot.bar();\n"
   ]
  },
  {
   "cell_type": "markdown",
   "metadata": {},
   "source": [
    "**H6 - Cliente que já tiveram o carro danificado no passado tem mais propensão a comprar o seguro.**\n",
    "\n",
    "**R:** Verdadeiro. Clientes que já sofreram acidentes contrataram muito mais o seguro."
   ]
  },
  {
   "cell_type": "code",
   "execution_count": null,
   "metadata": {
    "hide_input": true
   },
   "outputs": [],
   "source": [
    "fig, ax = plt.subplots(1, 2, figsize=(18,6))\n",
    "\n",
    "sns.countplot(x='Vehicle_Damage',hue='Response', data=df, ax=ax[0])\n",
    "\n",
    "aux1=df[['Vehicle_Damage', 'Response']].groupby('Vehicle_Damage').mean();\n",
    "aux1.plot.bar(ax=ax[1]);"
   ]
  },
  {
   "cell_type": "markdown",
   "metadata": {},
   "source": [
    " <h1>Mais Hipóteses<h1>"
   ]
  },
  {
   "cell_type": "markdown",
   "metadata": {},
   "source": [
    "**Quem esta mais propenso a contratar? Quem já tem seguro ou quem ainda não tem?**\n",
    "\n",
    "**R:** Aparentemente as pessoas que ainda não tem seguro são mais interessadas em contratar do que as pessoas que já tem.\n",
    "\n",
    "- A porcentagem de pessoas que não tem seguro e contratariam seguro  é 23%\n",
    "- A porcentagem de pessoas que ja tem seguro e contratariam outro é 0.09%"
   ]
  },
  {
   "cell_type": "code",
   "execution_count": null,
   "metadata": {
    "hide_input": true
   },
   "outputs": [],
   "source": [
    "fig, ax = plt.subplots(1, 3, figsize=(18,6))\n",
    "\n",
    "sns.countplot(x='Previously_Insured', hue='Response', data=df, ax=ax[0]);\n",
    "\n",
    "print(\"O total de pessoas que já tem seguro e não estariam interessadas em contratar outro seguro é: \",\n",
    "df[(df['Previously_Insured']==1) & (df['Response']==0)].shape[0])\n",
    "\n",
    "print(\"O total de pessoas que já tem seguro e estariam interessadas interessadas em contratar outro seguro é: \",\n",
    "df[(df['Previously_Insured']==1) & (df['Response']==1)].shape[0])\n",
    "\n",
    "print(\"-----------------------------------------------------------------------------\")\n",
    "\n",
    "print(\"O total de pessoas que não tem seguro e não estariam interessada em ter seguro é: \",\n",
    "df[(df['Previously_Insured']==0) & (df['Response']==0)].shape[0])\n",
    "\n",
    "print(\"O total de pessoas que não tem seguro e estariam interessadas em contratar seguro é: \",\n",
    "df[(df['Previously_Insured']==0) & (df['Response']==1)].shape[0])\n",
    "\n",
    "print(\"-----------------------------------------------------------------------------\")\n",
    "\n",
    "aux1 = df[['Previously_Insured', 'Response']].groupby('Previously_Insured').mean();\n",
    "aux1.plot.bar(ax=ax[1]);\n",
    "\n",
    "sns.heatmap(aux1, annot=True, ax=ax[2]);"
   ]
  },
  {
   "cell_type": "markdown",
   "metadata": {},
   "source": [
    "**Qual região possui mais clientes em nossa amostra?**\n",
    "\n",
    "**R:** A Região 28 é a região que mais possui clientes em nossa amostra."
   ]
  },
  {
   "cell_type": "code",
   "execution_count": null,
   "metadata": {
    "hide_input": true
   },
   "outputs": [],
   "source": [
    "plt.figure(figsize=(22,6))\n",
    "sns.countplot(x='Region_Code', data=df);"
   ]
  },
  {
   "cell_type": "markdown",
   "metadata": {},
   "source": [
    "## 4.3 - Análise Multivariada"
   ]
  },
  {
   "cell_type": "markdown",
   "metadata": {},
   "source": [
    "### Variavéis Númericas"
   ]
  },
  {
   "cell_type": "code",
   "execution_count": null,
   "metadata": {
    "hide_input": true
   },
   "outputs": [],
   "source": [
    "correlation = df_num.corr(method='pearson')\n",
    "plt.figure(figsize=(10,6))\n",
    "sns.heatmap(correlation, annot=True);"
   ]
  },
  {
   "cell_type": "markdown",
   "metadata": {},
   "source": [
    "# 5.0 - Preparação dos Dados"
   ]
  },
  {
   "cell_type": "code",
   "execution_count": 6,
   "metadata": {},
   "outputs": [
    {
     "data": {
      "text/plain": [
       "Index(['id', 'Gender', 'Age', 'Driving_License', 'Region_Code',\n",
       "       'Previously_Insured', 'Vehicle_Age', 'Vehicle_Damage', 'Annual_Premium',\n",
       "       'Policy_Sales_Channel', 'Vintage', 'Response',\n",
       "       'DrivingLicense_PreviouslyInsured', 'Age_Range',\n",
       "       'Annual_Premium_range'],\n",
       "      dtype='object')"
      ]
     },
     "execution_count": 6,
     "metadata": {},
     "output_type": "execute_result"
    }
   ],
   "source": [
    "df.columns"
   ]
  },
  {
   "cell_type": "code",
   "execution_count": 7,
   "metadata": {},
   "outputs": [],
   "source": [
    "# deletando as variavéis que criei para ajudar nos gráficos\n",
    "df = df.drop(['Age_Range', 'Annual_Premium_range'], axis=1)"
   ]
  },
  {
   "cell_type": "code",
   "execution_count": 8,
   "metadata": {},
   "outputs": [],
   "source": [
    "X = df.drop(['Response'], axis=1)\n",
    "y = df['Response']"
   ]
  },
  {
   "cell_type": "code",
   "execution_count": 9,
   "metadata": {},
   "outputs": [],
   "source": [
    "X_train, X_test, y_train, y_test = train_test_split(X, y, test_size=0.2, stratify=y, random_state=42)"
   ]
  },
  {
   "cell_type": "code",
   "execution_count": 10,
   "metadata": {},
   "outputs": [],
   "source": [
    "df2 = pd.concat( [X_train, y_train], axis=1 )"
   ]
  },
  {
   "cell_type": "markdown",
   "metadata": {},
   "source": [
    "## Standardization"
   ]
  },
  {
   "cell_type": "code",
   "execution_count": 11,
   "metadata": {},
   "outputs": [],
   "source": [
    "ss_annual_premium = StandardScaler()\n",
    "\n",
    "df2['Annual_Premium'] = ss_annual_premium.fit_transform(df2[['Annual_Premium']].values)"
   ]
  },
  {
   "cell_type": "markdown",
   "metadata": {},
   "source": [
    "## Rescalling"
   ]
  },
  {
   "cell_type": "code",
   "execution_count": 12,
   "metadata": {},
   "outputs": [],
   "source": [
    "mms_age = MinMaxScaler()\n",
    "mms_vintage = MinMaxScaler()\n",
    "\n",
    "df2['Age'] = mms_age.fit_transform(df2[['Age']].values)\n",
    "\n",
    "df2['Vintage'] = mms_vintage.fit_transform(df2[['Vintage']].values)"
   ]
  },
  {
   "cell_type": "markdown",
   "metadata": {},
   "source": [
    "## Encoder"
   ]
  },
  {
   "cell_type": "code",
   "execution_count": 13,
   "metadata": {},
   "outputs": [],
   "source": [
    "#region_code\n",
    "target_encode_region_code = df.groupby('Region_Code')['Response'].mean()\n",
    "df2.loc[:, 'Region_Code'] = df2['Region_Code'].map(target_encode_region_code)\n",
    "\n",
    "#vehicle_age\n",
    "df2 = pd.get_dummies(df2, prefix='Vehicle_Age', columns=['Vehicle_Age'])\n",
    "df2 = pd.get_dummies(df2, prefix='Gender', columns=['Gender'])\n",
    "df2 = pd.get_dummies(df2, prefix='Vehicle_Damage', columns=['Vehicle_Damage'])\n",
    "df2 = pd.get_dummies(df2, prefix='DrivingLicense_PreviouslyInsured', columns=['DrivingLicense_PreviouslyInsured'])\n",
    "\n",
    "# Policy_sales_channel\n",
    "target_encode_policy_sales_channel = df.groupby('Policy_Sales_Channel')['Response'].mean()\n",
    "df2.loc[:, 'Policy_Sales_Channel'] = df2['Policy_Sales_Channel'].map(target_encode_policy_sales_channel)"
   ]
  },
  {
   "cell_type": "code",
   "execution_count": 14,
   "metadata": {},
   "outputs": [],
   "source": [
    "X_test = pd.get_dummies( X_test, prefix='Gender', columns=['Gender'] )\n",
    "\n",
    "X_test.loc[:, 'Age'] = mms_age.transform(X_test[['Age']].values )\n",
    "\n",
    "X_test.loc[:, 'Region_Code'] = X_test.loc[:, 'Region_Code'].map( target_encode_region_code )\n",
    "\n",
    "X_test = pd.get_dummies( X_test, prefix='Vehicle_Age', columns=['Vehicle_Age'] )\n",
    "\n",
    "X_test = pd.get_dummies( X_test, prefix='Vehicle_Damage', columns=['Vehicle_Damage'] )\n",
    "\n",
    "X_test.loc[:, 'Annual_Premium'] = ss_annual_premium.transform( X_test[['Annual_Premium']].values )\n",
    "\n",
    "X_test.loc[:, 'Policy_Sales_Channel'] = X_test['Policy_Sales_Channel'].map(target_encode_policy_sales_channel)\n",
    "\n",
    "X_test.loc[:, 'Vintage'] = mms_vintage.transform( X_test[['Vintage']].values )"
   ]
  },
  {
   "cell_type": "markdown",
   "metadata": {},
   "source": [
    "## Conferindo Data"
   ]
  },
  {
   "cell_type": "code",
   "execution_count": 15,
   "metadata": {},
   "outputs": [
    {
     "data": {
      "text/html": [
       "<div>\n",
       "<style scoped>\n",
       "    .dataframe tbody tr th:only-of-type {\n",
       "        vertical-align: middle;\n",
       "    }\n",
       "\n",
       "    .dataframe tbody tr th {\n",
       "        vertical-align: top;\n",
       "    }\n",
       "\n",
       "    .dataframe thead th {\n",
       "        text-align: right;\n",
       "    }\n",
       "</style>\n",
       "<table border=\"1\" class=\"dataframe\">\n",
       "  <thead>\n",
       "    <tr style=\"text-align: right;\">\n",
       "      <th></th>\n",
       "      <th>id</th>\n",
       "      <th>Age</th>\n",
       "      <th>Driving_License</th>\n",
       "      <th>Region_Code</th>\n",
       "      <th>Previously_Insured</th>\n",
       "      <th>Annual_Premium</th>\n",
       "      <th>Policy_Sales_Channel</th>\n",
       "      <th>Vintage</th>\n",
       "      <th>Response</th>\n",
       "      <th>Vehicle_Age_1-2 Year</th>\n",
       "      <th>Vehicle_Age_&lt; 1 Year</th>\n",
       "      <th>Vehicle_Age_&gt; 2 Years</th>\n",
       "      <th>Gender_Female</th>\n",
       "      <th>Gender_Male</th>\n",
       "      <th>Vehicle_Damage_No</th>\n",
       "      <th>Vehicle_Damage_Yes</th>\n",
       "      <th>DrivingLicense_PreviouslyInsured_0</th>\n",
       "      <th>DrivingLicense_PreviouslyInsured_1</th>\n",
       "      <th>DrivingLicense_PreviouslyInsured_2</th>\n",
       "    </tr>\n",
       "  </thead>\n",
       "  <tbody>\n",
       "    <tr>\n",
       "      <th>274710</th>\n",
       "      <td>274711</td>\n",
       "      <td>0.030769</td>\n",
       "      <td>1</td>\n",
       "      <td>0.118147</td>\n",
       "      <td>0</td>\n",
       "      <td>-0.297943</td>\n",
       "      <td>0.028624</td>\n",
       "      <td>0.667820</td>\n",
       "      <td>0</td>\n",
       "      <td>0</td>\n",
       "      <td>1</td>\n",
       "      <td>0</td>\n",
       "      <td>0</td>\n",
       "      <td>1</td>\n",
       "      <td>0</td>\n",
       "      <td>1</td>\n",
       "      <td>0</td>\n",
       "      <td>1</td>\n",
       "      <td>0</td>\n",
       "    </tr>\n",
       "    <tr>\n",
       "      <th>216539</th>\n",
       "      <td>216540</td>\n",
       "      <td>0.092308</td>\n",
       "      <td>1</td>\n",
       "      <td>0.096142</td>\n",
       "      <td>1</td>\n",
       "      <td>0.452554</td>\n",
       "      <td>0.199385</td>\n",
       "      <td>0.121107</td>\n",
       "      <td>0</td>\n",
       "      <td>0</td>\n",
       "      <td>1</td>\n",
       "      <td>0</td>\n",
       "      <td>1</td>\n",
       "      <td>0</td>\n",
       "      <td>1</td>\n",
       "      <td>0</td>\n",
       "      <td>0</td>\n",
       "      <td>0</td>\n",
       "      <td>1</td>\n",
       "    </tr>\n",
       "    <tr>\n",
       "      <th>78983</th>\n",
       "      <td>78984</td>\n",
       "      <td>0.184615</td>\n",
       "      <td>1</td>\n",
       "      <td>0.187163</td>\n",
       "      <td>0</td>\n",
       "      <td>0.088559</td>\n",
       "      <td>0.173212</td>\n",
       "      <td>0.086505</td>\n",
       "      <td>1</td>\n",
       "      <td>0</td>\n",
       "      <td>1</td>\n",
       "      <td>0</td>\n",
       "      <td>1</td>\n",
       "      <td>0</td>\n",
       "      <td>0</td>\n",
       "      <td>1</td>\n",
       "      <td>0</td>\n",
       "      <td>1</td>\n",
       "      <td>0</td>\n",
       "    </tr>\n",
       "    <tr>\n",
       "      <th>218368</th>\n",
       "      <td>218369</td>\n",
       "      <td>0.184615</td>\n",
       "      <td>1</td>\n",
       "      <td>0.079258</td>\n",
       "      <td>0</td>\n",
       "      <td>0.412993</td>\n",
       "      <td>0.028624</td>\n",
       "      <td>0.709343</td>\n",
       "      <td>0</td>\n",
       "      <td>0</td>\n",
       "      <td>1</td>\n",
       "      <td>0</td>\n",
       "      <td>0</td>\n",
       "      <td>1</td>\n",
       "      <td>0</td>\n",
       "      <td>1</td>\n",
       "      <td>0</td>\n",
       "      <td>1</td>\n",
       "      <td>0</td>\n",
       "    </tr>\n",
       "    <tr>\n",
       "      <th>307215</th>\n",
       "      <td>307216</td>\n",
       "      <td>0.061538</td>\n",
       "      <td>1</td>\n",
       "      <td>0.187163</td>\n",
       "      <td>0</td>\n",
       "      <td>1.050781</td>\n",
       "      <td>0.215458</td>\n",
       "      <td>0.733564</td>\n",
       "      <td>0</td>\n",
       "      <td>0</td>\n",
       "      <td>1</td>\n",
       "      <td>0</td>\n",
       "      <td>1</td>\n",
       "      <td>0</td>\n",
       "      <td>0</td>\n",
       "      <td>1</td>\n",
       "      <td>0</td>\n",
       "      <td>1</td>\n",
       "      <td>0</td>\n",
       "    </tr>\n",
       "  </tbody>\n",
       "</table>\n",
       "</div>"
      ],
      "text/plain": [
       "            id       Age  Driving_License  Region_Code  Previously_Insured  \\\n",
       "274710  274711  0.030769                1     0.118147                   0   \n",
       "216539  216540  0.092308                1     0.096142                   1   \n",
       "78983    78984  0.184615                1     0.187163                   0   \n",
       "218368  218369  0.184615                1     0.079258                   0   \n",
       "307215  307216  0.061538                1     0.187163                   0   \n",
       "\n",
       "        Annual_Premium  Policy_Sales_Channel   Vintage  Response  \\\n",
       "274710       -0.297943              0.028624  0.667820         0   \n",
       "216539        0.452554              0.199385  0.121107         0   \n",
       "78983         0.088559              0.173212  0.086505         1   \n",
       "218368        0.412993              0.028624  0.709343         0   \n",
       "307215        1.050781              0.215458  0.733564         0   \n",
       "\n",
       "        Vehicle_Age_1-2 Year  Vehicle_Age_< 1 Year  Vehicle_Age_> 2 Years  \\\n",
       "274710                     0                     1                      0   \n",
       "216539                     0                     1                      0   \n",
       "78983                      0                     1                      0   \n",
       "218368                     0                     1                      0   \n",
       "307215                     0                     1                      0   \n",
       "\n",
       "        Gender_Female  Gender_Male  Vehicle_Damage_No  Vehicle_Damage_Yes  \\\n",
       "274710              0            1                  0                   1   \n",
       "216539              1            0                  1                   0   \n",
       "78983               1            0                  0                   1   \n",
       "218368              0            1                  0                   1   \n",
       "307215              1            0                  0                   1   \n",
       "\n",
       "        DrivingLicense_PreviouslyInsured_0  \\\n",
       "274710                                   0   \n",
       "216539                                   0   \n",
       "78983                                    0   \n",
       "218368                                   0   \n",
       "307215                                   0   \n",
       "\n",
       "        DrivingLicense_PreviouslyInsured_1  DrivingLicense_PreviouslyInsured_2  \n",
       "274710                                   1                                   0  \n",
       "216539                                   0                                   1  \n",
       "78983                                    1                                   0  \n",
       "218368                                   1                                   0  \n",
       "307215                                   1                                   0  "
      ]
     },
     "execution_count": 15,
     "metadata": {},
     "output_type": "execute_result"
    }
   ],
   "source": [
    "df2.head()"
   ]
  },
  {
   "cell_type": "markdown",
   "metadata": {},
   "source": [
    "# 6.0 - Feature Selection"
   ]
  },
  {
   "cell_type": "markdown",
   "metadata": {},
   "source": [
    "### Feature Importance"
   ]
  },
  {
   "cell_type": "code",
   "execution_count": 16,
   "metadata": {},
   "outputs": [],
   "source": [
    "X_train_n = df2.drop( ['Response', 'id'], axis=1 )\n",
    "y_train_n = df2['Response']"
   ]
  },
  {
   "cell_type": "code",
   "execution_count": 17,
   "metadata": {},
   "outputs": [
    {
     "data": {
      "image/png": "[encoded data removed]",
      "text/plain": [
       "<Figure size 864x432 with 1 Axes>"
      ]
     },
     "metadata": {
      "needs_background": "light"
     },
     "output_type": "display_data"
    }
   ],
   "source": [
    "# train random forest classifier\n",
    "rf = RandomForestClassifier(random_state=42)\n",
    "rf.fit(X_train_n, y_train_n)\n",
    "\n",
    "# feature importance data frame\n",
    "feat_imp = pd.DataFrame({'feature': X_train_n.columns,\n",
    "                        'feature_importance': rf.feature_importances_})\\\n",
    "                        .sort_values('feature_importance', ascending=False)\\\n",
    "                        .reset_index(drop=True)\n",
    "\n",
    "\n",
    "# plot feature importance\n",
    "plt.subplots(figsize=(12,6))\n",
    "sns.barplot(x='feature_importance', y='feature', data=feat_imp, orient='h', color='royalblue')\\\n",
    "    .set_title('Feature Importance');"
   ]
  },
  {
   "cell_type": "code",
   "execution_count": 18,
   "metadata": {},
   "outputs": [],
   "source": [
    "X_train_f = X_train_n[['Vintage', 'Annual_Premium', 'Region_Code', 'Age', \n",
    "             'Policy_Sales_Channel', 'Vehicle_Damage_Yes', 'Vehicle_Damage_No']]\n",
    "\n",
    "X_test_f = X_test[['Vintage', 'Annual_Premium', 'Region_Code', 'Age', \n",
    "             'Policy_Sales_Channel', 'Vehicle_Damage_Yes', 'Vehicle_Damage_No']]"
   ]
  },
  {
   "cell_type": "markdown",
   "metadata": {},
   "source": [
    "# 6.0 - Machine Learning"
   ]
  },
  {
   "cell_type": "code",
   "execution_count": 109,
   "metadata": {},
   "outputs": [],
   "source": [
    "du = DummyClassifier()\n",
    "lr = LogisticRegression()\n",
    "dtc = DecisionTreeClassifier()\n",
    "etx = ExtraTreesClassifier()\n",
    "rfc = RandomForestClassifier()\n",
    "gbc = GradientBoostingClassifier()\n",
    "xbc = XGBClassifier(eval_metric = 'error')\n",
    "knn = KNeighborsClassifier()\n",
    "ada = AdaBoostClassifier()"
   ]
  },
  {
   "cell_type": "code",
   "execution_count": 87,
   "metadata": {},
   "outputs": [],
   "source": [
    "data = X_test.copy()\n",
    "data['response'] = y_test.copy()\n",
    "data = data[['id', 'response']]"
   ]
  },
  {
   "cell_type": "code",
   "execution_count": 97,
   "metadata": {},
   "outputs": [],
   "source": [
    "def precision (modelo, data, X_train, y_train, X_test, k=10):\n",
    "    modelo.fit(X_train, y_train)\n",
    "    pred = modelo.predict_proba(X_test)\n",
    "    data['score'] = pred[:, 1].tolist()\n",
    "    data = data.sort_values( 'score', ascending=False )\n",
    "    data = data.reset_index( drop=True )\n",
    "    data['ranking'] = data.index + 1 \n",
    "    data['precision_at_k'] = data['response'].cumsum() / data['ranking']\n",
    "    data['recall_at_k'] = data['response'].cumsum() / data['response'].sum()\n",
    "\n",
    "    \n",
    "    print ('Recall:', data.loc[k, 'recall_at_k'])\n",
    "    print ('Precision:', data.loc[k, 'precision_at_k'])"
   ]
  },
  {
   "cell_type": "markdown",
   "metadata": {},
   "source": [
    "## DummyClassifier"
   ]
  },
  {
   "cell_type": "code",
   "execution_count": 105,
   "metadata": {},
   "outputs": [
    {
     "name": "stdout",
     "output_type": "stream",
     "text": [
      "Recall: 0.0006422607578676942\n",
      "Precision: 0.11764705882352941\n"
     ]
    }
   ],
   "source": [
    "precision (du, data, X_train_f, y_train, X_test_f, k=50)"
   ]
  },
  {
   "cell_type": "markdown",
   "metadata": {},
   "source": [
    "## Regressão Logística"
   ]
  },
  {
   "cell_type": "code",
   "execution_count": 99,
   "metadata": {},
   "outputs": [
    {
     "name": "stdout",
     "output_type": "stream",
     "text": [
      "Recall: 0.0017126953543138515\n",
      "Precision: 0.3137254901960784\n"
     ]
    }
   ],
   "source": [
    "precision (lr, data, X_train_f, y_train, X_test_f, k=50)"
   ]
  },
  {
   "cell_type": "markdown",
   "metadata": {},
   "source": [
    "## DecisionTreeClassifier"
   ]
  },
  {
   "cell_type": "code",
   "execution_count": 101,
   "metadata": {},
   "outputs": [
    {
     "name": "stdout",
     "output_type": "stream",
     "text": [
      "Recall: 0.0013915649753800043\n",
      "Precision: 0.2549019607843137\n"
     ]
    }
   ],
   "source": [
    "precision (dtc, data, X_train_f, y_train, X_test_f, k=50)"
   ]
  },
  {
   "cell_type": "markdown",
   "metadata": {},
   "source": [
    "## ExtraTreesClassifier"
   ]
  },
  {
   "cell_type": "code",
   "execution_count": 100,
   "metadata": {},
   "outputs": [
    {
     "name": "stdout",
     "output_type": "stream",
     "text": [
      "Recall: 0.0019267822736030828\n",
      "Precision: 0.35294117647058826\n"
     ]
    }
   ],
   "source": [
    "precision (etx, data, X_train_f, y_train, X_test_f, k=50)"
   ]
  },
  {
   "cell_type": "markdown",
   "metadata": {},
   "source": [
    "## RandomForestClassifier"
   ]
  },
  {
   "cell_type": "code",
   "execution_count": 116,
   "metadata": {},
   "outputs": [
    {
     "name": "stdout",
     "output_type": "stream",
     "text": [
      "Recall: 0.6394776279169343\n",
      "Precision: 0.29868506574671266\n"
     ]
    }
   ],
   "source": [
    "precision (rfc, data, X_train_f, y_train, X_test_f, k=20000)"
   ]
  },
  {
   "cell_type": "markdown",
   "metadata": {},
   "source": [
    "## GradientBoostingClassifier"
   ]
  },
  {
   "cell_type": "code",
   "execution_count": 103,
   "metadata": {},
   "outputs": [
    {
     "name": "stdout",
     "output_type": "stream",
     "text": [
      "Recall: 0.002140869192892314\n",
      "Precision: 0.39215686274509803\n"
     ]
    }
   ],
   "source": [
    "precision (gbc, data, X_train_f, y_train, X_test_f, k=50)"
   ]
  },
  {
   "cell_type": "markdown",
   "metadata": {},
   "source": [
    "## XGBClassifier"
   ]
  },
  {
   "cell_type": "code",
   "execution_count": 107,
   "metadata": {},
   "outputs": [
    {
     "name": "stdout",
     "output_type": "stream",
     "text": [
      "Recall: 0.00224791265253693\n",
      "Precision: 0.4117647058823529\n"
     ]
    }
   ],
   "source": [
    "precision (xbc, data, X_train_f, y_train, X_test_f, k=50)"
   ]
  },
  {
   "cell_type": "markdown",
   "metadata": {},
   "source": [
    "## AdaBoost"
   ]
  },
  {
   "cell_type": "code",
   "execution_count": 115,
   "metadata": {},
   "outputs": [
    {
     "name": "stdout",
     "output_type": "stream",
     "text": [
      "Recall: 0.6911796189252837\n",
      "Precision: 0.32283385830708466\n"
     ]
    }
   ],
   "source": [
    "precision (ada, data, X_train_f, y_train, X_test_f, k=20000)"
   ]
  },
  {
   "cell_type": "code",
   "execution_count": 111,
   "metadata": {},
   "outputs": [
    {
     "data": {
      "text/plain": [
       "AdaBoostClassifier()"
      ]
     },
     "execution_count": 111,
     "metadata": {},
     "output_type": "execute_result"
    }
   ],
   "source": [
    "ada.fit(X_train_f, y_train)"
   ]
  },
  {
   "cell_type": "code",
   "execution_count": 112,
   "metadata": {},
   "outputs": [],
   "source": [
    "pred_ada = ada.predict_proba(X_test_f)"
   ]
  },
  {
   "cell_type": "code",
   "execution_count": 114,
   "metadata": {},
   "outputs": [
    {
     "data": {
      "image/png": "[encoded data removed]",
      "text/plain": [
       "<Figure size 432x288 with 1 Axes>"
      ]
     },
     "metadata": {
      "needs_background": "light"
     },
     "output_type": "display_data"
    }
   ],
   "source": [
    "skplt.metrics.plot_cumulative_gain(y_test, pred_ada);"
   ]
  },
  {
   "cell_type": "code",
   "execution_count": 118,
   "metadata": {},
   "outputs": [
    {
     "data": {
      "image/png": "[encoded data removed]",
      "text/plain": [
       "<Figure size 432x288 with 1 Axes>"
      ]
     },
     "metadata": {
      "needs_background": "light"
     },
     "output_type": "display_data"
    }
   ],
   "source": [
    "skplt.metrics.plot_lift_curve(y_test, pred_ada);"
   ]
  },
  {
   "cell_type": "code",
   "execution_count": 119,
   "metadata": {},
   "outputs": [
    {
     "name": "stdout",
     "output_type": "stream",
     "text": [
      "Note: you may need to restart the kernel to use updated packages.\n"
     ]
    }
   ],
   "source": [
    "pip freeze > requirements.txt"
   ]
  },
  {
   "cell_type": "code",
   "execution_count": null,
   "metadata": {},
   "outputs": [],
   "source": []
  }
 ],
 "metadata": {
  "kernelspec": {
   "display_name": "Python 3",
   "language": "python",
   "name": "python3"
  },
  "language_info": {
   "codemirror_mode": {
    "name": "ipython",
    "version": 3
   },
   "file_extension": ".py",
   "mimetype": "text/x-python",
   "name": "python",
   "nbconvert_exporter": "python",
   "pygments_lexer": "ipython3",
   "version": "3.8.5"
  }
 },
 "nbformat": 4,
 "nbformat_minor": 4
}
